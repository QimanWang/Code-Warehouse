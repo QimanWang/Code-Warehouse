{
 "cells": [
  {
   "cell_type": "raw",
   "metadata": {},
   "source": [
    "import xml.etree.ElementTree as etree\n",
    "\n",
    "tree = etree.parse('simplePicture.xml')\n",
    "root = tree.getroot()\n",
    "print( root.tag)\n",
    "print root.attrib\n",
    "#hardcoding the namespace\n",
    "p = \"{http://schemas.openxmlformats.org/presentationml/2006/main}\"\n",
    "#print p\n",
    "\"\"\"\n",
    "for child in root:\n",
    "\tprint child.tag\n",
    "\"\"\"\n",
    "spTree =tree.find('//'+p+'spTree')\n",
    "#print node.tag\n",
    "\n",
    "#for child in node:\n",
    "#\tprint child\n",
    "#node = node.find(p+\"spTree\")\n",
    "\n",
    "for child in spTree:\n",
    "\tprint child\n",
    "\n",
    "\n",
    "rect_list = spTree.findall(p+'sp')\n",
    "\n",
    "for child in rect_list:\n",
    "\tprint child.tag"
   ]
  },
  {
   "cell_type": "code",
   "execution_count": 7,
   "metadata": {
    "collapsed": false
   },
   "outputs": [
    {
     "ename": "NameError",
     "evalue": "name 'root' is not defined",
     "output_type": "error",
     "traceback": [
      "\u001b[0;31m---------------------------------------------------------------------------\u001b[0m",
      "\u001b[0;31mNameError\u001b[0m                                 Traceback (most recent call last)",
      "\u001b[0;32m<ipython-input-7-629370b52c19>\u001b[0m in \u001b[0;36m<module>\u001b[0;34m()\u001b[0m\n\u001b[0;32m----> 1\u001b[0;31m \u001b[0mroot\u001b[0m\u001b[1;33m.\u001b[0m\u001b[0mtag\u001b[0m\u001b[1;33m\u001b[0m\u001b[0m\n\u001b[0m",
      "\u001b[0;31mNameError\u001b[0m: name 'root' is not defined"
     ]
    }
   ],
   "source": [
    "root.tag"
   ]
  },
  {
   "cell_type": "code",
   "execution_count": null,
   "metadata": {
    "collapsed": true
   },
   "outputs": [],
   "source": []
  }
 ],
 "metadata": {
  "anaconda-cloud": {},
  "kernelspec": {
   "display_name": "Python [default]",
   "language": "python",
   "name": "python3"
  },
  "language_info": {
   "codemirror_mode": {
    "name": "ipython",
    "version": 3
   },
   "file_extension": ".py",
   "mimetype": "text/x-python",
   "name": "python",
   "nbconvert_exporter": "python",
   "pygments_lexer": "ipython3",
   "version": "3.5.2"
  }
 },
 "nbformat": 4,
 "nbformat_minor": 1
}
