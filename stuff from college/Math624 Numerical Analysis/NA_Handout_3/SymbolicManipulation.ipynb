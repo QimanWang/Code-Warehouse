{
 "cells": [
  {
   "cell_type": "markdown",
   "metadata": {
    "collapsed": false
   },
   "source": [
    "# Some symbolic computations"
   ]
  },
  {
   "cell_type": "markdown",
   "metadata": {
    "collapsed": false
   },
   "source": [
    "If you've finished \"A whirlwind tour of python\" I recommend checking out the excellent scientific python lectures by J.R. Johansson, which you can find at <a href=\"https://github.com/jrjohansson/scientific-python-lectures\">https://github.com/jrjohansson/scientific-python-lectures</a>.  You're in a good position to work through lectures 1-4.  Here, I'm going to use a little sympy, which is lecture 5."
   ]
  },
  {
   "cell_type": "code",
   "execution_count": 55,
   "metadata": {
    "collapsed": false
   },
   "outputs": [
   ],
   "source": [
    "%matplotlib inline\n",
    "import matplotlib.pyplot as plt"
   ]
  },
  {
   "cell_type": "code",
   "execution_count": 56,
   "metadata": {
    "collapsed": false
   },
   "outputs": [
   ],
   "source": [
    "import numpy as np"
   ]
  },
  {
   "cell_type": "code",
   "execution_count": 57,
   "metadata": {
    "collapsed": false
   },
   "outputs": [
   ],
   "source": [
    "from sympy import *"
   ]
  },
  {
   "cell_type": "code",
   "execution_count": 58,
   "metadata": {
    "collapsed": false
   },
   "outputs": [
   ],
   "source": [
    "a0,a1,a2 = symbols(\"a0,a1,a2\")\n",
    "x0,x1,x2 = symbols(\"x0,x1,x2\")\n",
    "y0,y1,y2 = symbols(\"y0,y1,y2\")\n",
    "x = Symbol(\"x\")"
   ]
  },
  {
   "cell_type": "code",
   "execution_count": 59,
   "metadata": {
    "collapsed": false
   },
   "outputs": [
   ],
   "source": [
    "p = lambdify([x], a0+a1*x+a2*x**2 , 'numpy') # general quadratic function"
   ]
  },
  {
   "cell_type": "markdown",
   "metadata": {
    "collapsed": false
   },
   "source": [
    "Let's solve for the unique quadratic polynomial passing through three points"
   ]
  },
  {
   "cell_type": "code",
   "execution_count": 60,
   "metadata": {
    "collapsed": false
   },
   "outputs": [
    {
     "data": {
      "text/plain": [
       "{a0: (x0*x1*y2*(x0 - x1) - x0*x2*y1*(x0 - x2) + x1*x2*y0*(x1 - x2))/(x0**2*x1 - x0**2*x2 - x0*x1**2 + x0*x2**2 + x1**2*x2 - x1*x2**2),\n",
       " a2: (y0*(x1 - x2) - y1*(x0 - x2) + y2*(x0 - x1))/(x0**2*x1 - x0**2*x2 - x0*x1**2 + x0*x2**2 + x1**2*x2 - x1*x2**2),\n",
       " a1: (-y0*(x1**2 - x2**2) + y1*(x0**2 - x2**2) - y2*(x0**2 - x1**2))/(x0**2*x1 - x0**2*x2 - x0*x1**2 + x0*x2**2 + x1**2*x2 - x1*x2**2)}"
      ]
     },
     "execution_count": 60,
     "metadata": {
     },
     "output_type": "execute_result"
    }
   ],
   "source": [
    "solve([p(x0)-y0, p(x1)-y1,p(x2)-y2], [a0,a1,a2])"
   ]
  },
  {
   "cell_type": "markdown",
   "metadata": {
    "collapsed": false
   },
   "source": [
    "The result is a dictionary.  Let's save the solution."
   ]
  },
  {
   "cell_type": "code",
   "execution_count": 61,
   "metadata": {
    "collapsed": false
   },
   "outputs": [
   ],
   "source": [
    "mycoeffs=solve([p(x0)-y0, p(x1)-y1,p(x2)-y2], [a0,a1,a2])"
   ]
  },
  {
   "cell_type": "code",
   "execution_count": 62,
   "metadata": {
    "collapsed": false
   },
   "outputs": [
    {
     "data": {
      "text/plain": [
       "(x0*x1*y2*(x0 - x1) - x0*x2*y1*(x0 - x2) + x1*x2*y0*(x1 - x2))/(x0**2*x1 - x0**2*x2 - x0*x1**2 + x0*x2**2 + x1**2*x2 - x1*x2**2)"
      ]
     },
     "execution_count": 62,
     "metadata": {
     },
     "output_type": "execute_result"
    }
   ],
   "source": [
    "mycoeffs[a0]"
   ]
  },
  {
   "cell_type": "markdown",
   "metadata": {
    "collapsed": false
   },
   "source": [
    "Let's replace the symbolic coefficients in our polynomial with the ones obtained from solving the equations."
   ]
  },
  {
   "cell_type": "code",
   "execution_count": 63,
   "metadata": {
    "collapsed": false
   },
   "outputs": [
    {
     "data": {
      "text/plain": [
       "x**2*(y0*(x1 - x2) - y1*(x0 - x2) + y2*(x0 - x1))/(x0**2*x1 - x0**2*x2 - x0*x1**2 + x0*x2**2 + x1**2*x2 - x1*x2**2) + x*(-y0*(x1**2 - x2**2) + y1*(x0**2 - x2**2) - y2*(x0**2 - x1**2))/(x0**2*x1 - x0**2*x2 - x0*x1**2 + x0*x2**2 + x1**2*x2 - x1*x2**2) + (x0*x1*y2*(x0 - x1) - x0*x2*y1*(x0 - x2) + x1*x2*y0*(x1 - x2))/(x0**2*x1 - x0**2*x2 - x0*x1**2 + x0*x2**2 + x1**2*x2 - x1*x2**2)"
      ]
     },
     "execution_count": 63,
     "metadata": {
     },
     "output_type": "execute_result"
    }
   ],
   "source": [
    "p(x).subs(mycoeffs)"
   ]
  },
  {
   "cell_type": "markdown",
   "metadata": {
    "collapsed": false
   },
   "source": [
    "Now, let's find the minimum.  That will be where the derivative is zero."
   ]
  },
  {
   "cell_type": "code",
   "execution_count": 64,
   "metadata": {
    "collapsed": false
   },
   "outputs": [
    {
     "data": {
      "text/plain": [
       "[(x0**2*y1 - x0**2*y2 - x1**2*y0 + x1**2*y2 + x2**2*y0 - x2**2*y1)/(2*(x0*y1 - x0*y2 - x1*y0 + x1*y2 + x2*y0 - x2*y1))]"
      ]
     },
     "execution_count": 64,
     "metadata": {
     },
     "output_type": "execute_result"
    }
   ],
   "source": [
    "simplify(solve(diff(p(x).subs(mycoeffs), x),x))"
   ]
  },
  {
   "cell_type": "code",
   "execution_count": 65,
   "metadata": {
    "collapsed": false
   },
   "outputs": [
   ],
   "source": [
    "def mynewx(x,y):\n",
    "    return ( (x[0]**2*y[1] - x[0]**2*y[2] - x[1]**2*y[0] + x[1]**2*y[2] + x[2]**2*y[0] - x[2]**2*y[1])\n",
    "/(2*(x[0]*y[1] -x[0]*y[2] - x[1]*y[0] + x[1]*y[2] + x[2]*y[0] - x[2]*y[1])))"
   ]
  },
  {
   "cell_type": "code",
   "execution_count": 66,
   "metadata": {
    "collapsed": false
   },
   "outputs": [
   ],
   "source": [
    "def q(x):\n",
    "    return (x-11)*(x-15)"
   ]
  },
  {
   "cell_type": "code",
   "execution_count": 67,
   "metadata": {
    "collapsed": false
   },
   "outputs": [
    {
     "name": "stdout",
     "output_type": "stream",
     "text": [
      "165 60 5\n"
     ]
    }
   ],
   "source": [
    "print q(0),q(5),q(10)"
   ]
  },
  {
   "cell_type": "code",
   "execution_count": 68,
   "metadata": {
    "collapsed": false
   },
   "outputs": [
    {
     "data": {
      "text/plain": [
       "13"
      ]
     },
     "execution_count": 68,
     "metadata": {
     },
     "output_type": "execute_result"
    }
   ],
   "source": [
    "mynewx([0,5,10],[176,66,6])"
   ]
  },
  {
   "cell_type": "markdown",
   "metadata": {
    "collapsed": false
   },
   "source": [
    "## Let's incorporate this idea into gradient descent"
   ]
  },
  {
   "cell_type": "code",
   "execution_count": 69,
   "metadata": {
    "collapsed": false
   },
   "outputs": [
    {
     "data": {
      "image/png": "[encoded data removed]"
     },
     "output_type": "execute_result"
    }
   ],
   "source": [
    "def f(x):\n",
    "    return  x**4 - 3 * x**3+2\n",
    "x = np.linspace(0,6,1001)\n",
    "y = f(x)\n",
    "fig = plt.figure()\n",
    "axes = fig.add_axes([0.1, 0.1, 0.9, 0.7])\n",
    "axes.plot(x,y, label=r'$y = x^4 - 3  x^3+2$')\n",
    "axes.legend(loc=2); # upper left corner;"
   ]
  },
  {
   "cell_type": "code",
   "execution_count": 70,
   "metadata": {
    "collapsed": false
   },
   "outputs": [
    {
     "name": "stdout",
     "output_type": "stream",
     "text": [
      "Local minimum occurs at: 2.25047815041\n",
      "Number of steps: 359\n",
      "Minimum value: -6.54296643449\n",
      "--- 0.00478196144104 seconds ---\n"
     ]
    }
   ],
   "source": [
    "start_time = time.time()\n",
    "cur_x = 6 # The algorithm starts at x=6\n",
    "gamma = 0.001 # step size multiplier\n",
    "precision = 0.00001\n",
    "previous_step_size = cur_x\n",
    "\n",
    "x_list = [cur_x]; y_list = [f(cur_x)]\n",
    "\n",
    "def df(x):\n",
    "    return 4 * x**3 - 9 * x**2\n",
    "\n",
    "while previous_step_size > precision:\n",
    "    prev_x = cur_x\n",
    "    cur_x += -gamma * df(prev_x)\n",
    "    previous_step_size = abs(cur_x - prev_x)\n",
    "    x_list.append(cur_x)\n",
    "    y_list.append(f(cur_x))\n",
    "\n",
    "print \"Local minimum occurs at:\", cur_x\n",
    "print \"Number of steps:\", len(x_list)\n",
    "print \"Minimum value:\", f(cur_x)\n",
    "\n",
    "print(\"--- %s seconds ---\" % (time.time() - start_time))"
   ]
  },
  {
   "cell_type": "code",
   "execution_count": 71,
   "metadata": {
    "collapsed": false
   },
   "outputs": [
   ],
   "source": [
    "def mynewx(x,y):\n",
    "    return ( (x[0]**2*y[1] - x[0]**2*y[2] - x[1]**2*y[0] + x[1]**2*y[2] + x[2]**2*y[0] - x[2]**2*y[1])\n",
    "/(2*(x[0]*y[1] -x[0]*y[2] - x[1]*y[0] + x[1]*y[2] + x[2]*y[0] - x[2]*y[1])))"
   ]
  },
  {
   "cell_type": "code",
   "execution_count": 72,
   "metadata": {
    "collapsed": false
   },
   "outputs": [
    {
     "name": "stdout",
     "output_type": "stream",
     "text": [
      "Local minimum occurs at: 2.24991394148\n",
      "Number of steps: 14\n",
      "Minimum value: -6.54296867502\n",
      "--- 0.00193810462952 seconds ---\n"
     ]
    }
   ],
   "source": [
    "import time\n",
    "start_time = time.time()\n",
    "cur_x = 6 # The algorithm starts at x=6\n",
    "gamma = 0.001 # step size multiplier\n",
    "precision = 0.00001\n",
    "previous_step_size = cur_x\n",
    "\n",
    "x_list2 = [cur_x]; y_list2 = [f(cur_x)]\n",
    "\n",
    "def df(x):\n",
    "    return 4 * x**3 - 9 * x**2\n",
    "\n",
    "while previous_step_size > precision:\n",
    "    prev_x = cur_x\n",
    "    x0=cur_x\n",
    "    x1=cur_x-gamma * df(cur_x)\n",
    "    x2=cur_x-2*gamma * df(cur_x)\n",
    "    y0=f(x0)\n",
    "    y1=f(x1)\n",
    "    y2=f(x2)\n",
    "    if (x0*y1 -x0*y2 - x1*y0 + x1*y2 + x2*y0 - x2*y1)==0:\n",
    "        break\n",
    "    cur_x=mynewx([x0,x1,x2],[y0,y1,y2])\n",
    "    previous_step_size = abs(cur_x - prev_x)\n",
    "    x_list2.append(cur_x)\n",
    "    y_list2.append(f(cur_x))\n",
    "\n",
    "print \"Local minimum occurs at:\", cur_x\n",
    "print \"Number of steps:\", len(x_list2)\n",
    "print \"Minimum value:\", f(cur_x)\n",
    "\n",
    "print(\"--- %s seconds ---\" % (time.time() - start_time))"
   ]
  },
  {
   "cell_type": "markdown",
   "metadata": {
    "collapsed": false
   },
   "source": [
    "# Exercise"
   ]
  },
  {
   "cell_type": "markdown",
   "metadata": {
    "collapsed": true
   },
   "source": [
    "Study this notebook to prepare for Tuesday's class.  Try to invite other students to collaborate on a project.  "
   ]
  },
  {
   "cell_type": "code",
   "execution_count": 0,
   "metadata": {
    "collapsed": false
   },
   "outputs": [
   ],
   "source": [
   ]
  }
 ],
 "metadata": {
  "kernelspec": {
   "display_name": "Python 2 (SageMath)",
   "language": "python",
   "name": "python2"
  },
  "language_info": {
   "codemirror_mode": {
    "name": "ipython",
    "version": 2
   },
   "file_extension": ".py",
   "mimetype": "text/x-python",
   "name": "python",
   "nbconvert_exporter": "python",
   "pygments_lexer": "ipython2",
   "version": "2.7.13"
  }
 },
 "nbformat": 4,
 "nbformat_minor": 0
}