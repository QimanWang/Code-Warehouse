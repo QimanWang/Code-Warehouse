{
 "cells": [
  {
   "cell_type": "markdown",
   "metadata": {
    "collapsed": false
   },
   "source": [
    "# A solution to the first homework assignment"
   ]
  },
  {
   "cell_type": "code",
   "execution_count": 1,
   "metadata": {
    "collapsed": false
   },
   "outputs": [
   ],
   "source": [
    "import numpy as np\n",
    "import matplotlib\n",
    "import matplotlib.pyplot as plt"
   ]
  },
  {
   "cell_type": "code",
   "execution_count": 2,
   "metadata": {
    "collapsed": false
   },
   "outputs": [
   ],
   "source": [
    "%matplotlib inline"
   ]
  },
  {
   "cell_type": "code",
   "execution_count": 3,
   "metadata": {
    "collapsed": false
   },
   "outputs": [
    {
     "data": {
      "image/png": "[encoded data removed]"
     },
     "output_type": "execute_result"
    }
   ],
   "source": [
    "# load the data:\n",
    "data=np.load('datafile.npy')\n",
    "fig = plt.figure()\n",
    "axes = fig.add_axes([0.1, 0.1, 0.9, 0.7]) \n",
    "axes.scatter(data[:,0],data[:,1],c=\"r\");"
   ]
  },
  {
   "cell_type": "markdown",
   "metadata": {
    "collapsed": false
   },
   "source": [
    "The problem is to find the best degree five polynomial to fit the given data"
   ]
  },
  {
   "cell_type": "markdown",
   "metadata": {
    "collapsed": false
   },
   "source": [
    "### Define a family of polynomials $p_a(x)$ parametrized by the coefficients $a=[a_0, a_1, \\ldots, a_d]$\n",
    "\n",
    "Input coefficients $a=[a_0,a_1,...,a_d]$ and a number $x$ and output $p_a(x)=a_0+a_1x+a_2 x^2+\\cdots +a_d x^d$"
   ]
  },
  {
   "cell_type": "code",
   "execution_count": 4,
   "metadata": {
    "collapsed": false
   },
   "outputs": [
   ],
   "source": [
    "def p(x,a): # a=[a0,a1,...,ad]\n",
    "    mysum=0\n",
    "    for i in range(len(a)):\n",
    "        mysum+=a[i]*x**i\n",
    "    return mysum"
   ]
  },
  {
   "cell_type": "code",
   "execution_count": 5,
   "metadata": {
    "collapsed": false
   },
   "outputs": [
    {
     "data": {
      "text/plain": [
       "11"
      ]
     },
     "execution_count": 5,
     "metadata": {
     },
     "output_type": "execute_result"
    }
   ],
   "source": [
    "p(2,[3,2,-1,1]) # means 3+2*2-1*2^2+1*2^3"
   ]
  },
  {
   "cell_type": "markdown",
   "metadata": {
    "collapsed": false
   },
   "source": [
    "### Define a cost function to measure the error between a polynomial and the fixed data\n",
    "Specifically,\n",
    "$$cost([a_0,a_1,\\ldots, a_d]) = \\frac{1}{2}\\sum_{i=0}^n \\left(p_a(x_i)-y_i\\right)^2$$\n",
    "where the data consists of\n",
    "$$\\left \\{ (x_0,y_0), (x_1, y_1), \\ldots, (x_n, y_n)\\right \\}$$\n",
    "\n",
    "The cost is a function of the coefficients $a=[a_0,a_1,...,a_d]$ of the polynomial $p_a.$"
   ]
  },
  {
   "cell_type": "code",
   "execution_count": 6,
   "metadata": {
    "collapsed": false
   },
   "outputs": [
   ],
   "source": [
    "def cost(a):\n",
    "    mysum=0\n",
    "    for point in data:\n",
    "        mysum+=(p(point[0],a)-point[1])**2\n",
    "    return 0.5*mysum"
   ]
  },
  {
   "cell_type": "code",
   "execution_count": 7,
   "metadata": {
    "collapsed": false
   },
   "outputs": [
    {
     "data": {
      "text/plain": [
       "8437.0400626890114"
      ]
     },
     "execution_count": 7,
     "metadata": {
     },
     "output_type": "execute_result"
    }
   ],
   "source": [
    "cost([3,2,-1])"
   ]
  },
  {
   "cell_type": "code",
   "execution_count": 8,
   "metadata": {
    "collapsed": false
   },
   "outputs": [
   ],
   "source": [
    "def dcost(a):\n",
    "    mygrad=np.zeros(len(a))\n",
    "    for j in range(len(a)):\n",
    "        mysum=0\n",
    "        for point in data:\n",
    "            mysum+=(p(point[0],a)-point[1])*point[0]**j\n",
    "        mygrad[j]=mysum\n",
    "    return mygrad"
   ]
  },
  {
   "cell_type": "markdown",
   "metadata": {
    "collapsed": false
   },
   "source": [
    "### Gradient descent to find a good fit"
   ]
  },
  {
   "cell_type": "code",
   "execution_count": 10,
   "metadata": {
    "collapsed": false
   },
   "outputs": [
    {
     "name": "stdout",
     "output_type": "stream",
     "text": [
      "Starting with initial coefficients [ 0.78527635  0.37198924  0.45337796  0.68734573  0.01840978  0.29989482]\n"
     ]
    },
    {
     "name": "stdout",
     "output_type": "stream",
     "text": [
      "cost values within tolerance  0.005\n",
      "Local minimum occurs at: [ 0.9391329   0.48215464  0.51647122  0.50767884 -0.83390404  0.18134693]\n",
      "Number of steps: 16593\n",
      "minimum value is: 1273.92486979\n"
     ]
    }
   ],
   "source": [
    "# a_old = np.zeros(6)\n",
    "a_old = np.random.rand(6) # start with random coefficients instead of zeros\n",
    "print \"Starting with initial coefficients\", a_old\n",
    "h = 10**(-7) # step size\n",
    "tol_1 = 10**(-10) # stop if change in coefficients is less than tol_1\n",
    "tol_2 = .005 # stop if change in total cost is less than tol_2\n",
    "max_steps = 20000 # stop if total number of steps exceeds max_steps\n",
    "\n",
    "a_list = [a_old]\n",
    "z_list = [cost(a_old)]\n",
    "\n",
    "a_new = a_old - h * dcost(a_old)\n",
    "a_list.append(a_new)\n",
    "z_list.append(cost(a_new))\n",
    "\n",
    "for i in range(max_steps):\n",
    "    if sum((a_new-a_old)**2) < tol_1:\n",
    "        print \"domain values within tolerance \", tol_1\n",
    "        break\n",
    "    if abs(z_list[-1] - z_list[-2])<tol_2:\n",
    "        print \"cost values within tolerance \", tol_2\n",
    "        break\n",
    "    a_old = a_new\n",
    "    direction = - dcost(a_old)\n",
    "    a_new = a_old + h * direction\n",
    "    a_list.append(a_new)\n",
    "    z_list.append(cost(a_new))\n",
    "\n",
    "\n",
    "print \"Local minimum occurs at:\", a_new\n",
    "print \"Number of steps:\", len(a_list)\n",
    "print \"minimum value is:\", cost(a_new)"
   ]
  },
  {
   "cell_type": "markdown",
   "metadata": {
    "collapsed": false
   },
   "source": [
    "### Plot the results"
   ]
  },
  {
   "cell_type": "code",
   "execution_count": 11,
   "metadata": {
    "collapsed": false
   },
   "outputs": [
   ],
   "source": [
    "x = np.linspace(0,5,1001)\n",
    "y = p(x,a_new)"
   ]
  },
  {
   "cell_type": "markdown",
   "metadata": {
    "collapsed": false
   },
   "source": [
    "Here's a plot of the data with our solution for a good $5$-th degree fit"
   ]
  },
  {
   "cell_type": "code",
   "execution_count": 12,
   "metadata": {
    "collapsed": false
   },
   "outputs": [
    {
     "data": {
      "image/png": "[encoded data removed]"
     },
     "output_type": "execute_result"
    }
   ],
   "source": [
    "fig = plt.figure()\n",
    "axes = fig.add_axes([0.1, 0.1, 0.9, 0.7])\n",
    "axes.plot(x,y)\n",
    "axes.scatter(data[:,0],data[:,1],c=\"r\");"
   ]
  },
  {
   "cell_type": "markdown",
   "metadata": {
    "collapsed": false
   },
   "source": [
    "Here's a picture showing a few of the steps along the way"
   ]
  },
  {
   "cell_type": "code",
   "execution_count": 13,
   "metadata": {
    "collapsed": false
   },
   "outputs": [
    {
     "data": {
      "image/png": "[encoded data removed]"
     },
     "output_type": "execute_result"
    }
   ],
   "source": [
    "y0 = p(x,a_list[0])\n",
    "y10 = p(x,a_list[10])\n",
    "y1000 = p(x,a_list[1000])\n",
    "y2000 = p(x,a_list[2000])\n",
    "yfinal = p(x,a_list[-1])\n",
    "fig = plt.figure()\n",
    "axes = fig.add_axes([0.1, 0.1, 0.9, 0.7])\n",
    "axes.plot(x,y0,label=\"initial p\")\n",
    "axes.plot(x,y10,label=\"10th step\")\n",
    "axes.plot(x,y1000,label=\"1000th step\")\n",
    "axes.plot(x,y2000,label=\"2000th step\")\n",
    "axes.plot(x,yfinal,label=\"final step\")\n",
    "axes.scatter(data[:,0],data[:,1])\n",
    "plt.legend(bbox_to_anchor=(1.05, 1), loc=2, borderaxespad=0.)\n",
    "\n",
    "matplotlib.pyplot.ylim(ymax = 150, ymin = -20);"
   ]
  },
  {
   "cell_type": "code",
   "execution_count": 0,
   "metadata": {
    "collapsed": false
   },
   "outputs": [
   ],
   "source": [
   ]
  }
 ],
 "metadata": {
  "kernelspec": {
   "display_name": "Python 3 (Anaconda)",
   "language": "python",
   "name": "anaconda3"
  },
  "language_info": {
   "codemirror_mode": {
    "name": "ipython",
    "version": 3
   },
   "file_extension": ".py",
   "mimetype": "text/x-python",
   "name": "python",
   "nbconvert_exporter": "python",
   "pygments_lexer": "ipython3",
   "version": "3.5.4"
  }
 },
 "nbformat": 4,
 "nbformat_minor": 0
}