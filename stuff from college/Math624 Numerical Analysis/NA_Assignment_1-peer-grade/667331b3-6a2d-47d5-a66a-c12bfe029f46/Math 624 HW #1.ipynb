{
 "cells": [
  {
   "cell_type": "markdown",
   "metadata": {
    "collapsed": false
   },
   "source": [
    "# HW#1 for Math 624: Numerical Analysis"
   ]
  },
  {
   "cell_type": "markdown",
   "metadata": {
    "collapsed": false
   },
   "source": [
    "First we import our libraries and the data we're going to fit."
   ]
  },
  {
   "cell_type": "code",
   "execution_count": 1,
   "metadata": {
    "collapsed": false
   },
   "outputs": [
   ],
   "source": [
    "import numpy as np\n",
    "import matplotlib\n",
    "import matplotlib.pyplot as plt\n",
    "%matplotlib inline\n",
    "data=np.load('datafile.npy')"
   ]
  },
  {
   "cell_type": "markdown",
   "metadata": {
    "collapsed": false
   },
   "source": [
    "This is my general gradient descent function. \"ip\" is a numpy array, \"h\" is a scalar step size, \"tol 1\" is the scalar tolerance and \"m\" is a natural denoting the maximum number of allowed iterations. This is analogous to the one I will use to fit the 5th degree polynomial on \"data\". "
   ]
  },
  {
   "cell_type": "code",
   "execution_count": 2,
   "metadata": {
    "collapsed": false
   },
   "outputs": [
   ],
   "source": [
    "def GD(ip, h, tol1, m):\n",
    "    x_old = ip\n",
    "    num_iter = 0\n",
    "    \n",
    "    x_list = [x_old]\n",
    "    z_list = [g(x_old)]\n",
    "    \n",
    "    x_new = x_old - grad_g(x_old)\n",
    "    x_list.append(x_new)\n",
    "    z_list.append(g(x_new))\n",
    "    \n",
    "    while num_iter < m and (abs(x_new[0] - x_old[0]) + abs(x_new[1] - x_old[1])) > tol1:\n",
    "        x_old = x_new\n",
    "        direction = -1*h*grad_g(x_old)\n",
    "        x_new = x_old + direction\n",
    "        x_list.append(x_new)\n",
    "        z_list.append(g(x_new))\n",
    "        num_iter += 1\n",
    "        \n",
    "    print (\"Local minimum occurs at:\", x_new)\n",
    "    print (\"Number of steps:\", num_iter)\n",
    "    print (\"minimum value is:\", g(x_new))"
   ]
  },
  {
   "cell_type": "markdown",
   "metadata": {
    "collapsed": false
   },
   "source": [
    "This function finds the value of a \"dth\" degree polynomial at \"x\" given a list of coefficients \"a\"."
   ]
  },
  {
   "cell_type": "code",
   "execution_count": 3,
   "metadata": {
    "collapsed": false
   },
   "outputs": [
   ],
   "source": [
    "def p(a,x,d):\n",
    "    val = 0\n",
    "    for i in range(0,d+1):\n",
    "        val += a[i]*x**i\n",
    "    return val"
   ]
  },
  {
   "cell_type": "markdown",
   "metadata": {
    "collapsed": true
   },
   "source": [
    "This is our cost function. \"a\" will consistently be our parameter that is a np array of changing coefficients just as \"data_points\" will consistently be our parameter containing the data points to sum over."
   ]
  },
  {
   "cell_type": "code",
   "execution_count": 4,
   "metadata": {
    "collapsed": false
   },
   "outputs": [
   ],
   "source": [
    "def g(a, data_points):\n",
    "    sum = 0\n",
    "    for point in data_points:\n",
    "        sum += (p(a,point[0],5) - point[1])**2\n",
    "    return sum"
   ]
  },
  {
   "cell_type": "markdown",
   "metadata": {
    "collapsed": false
   },
   "source": [
    "This is our gradient function. It returns a vector of size d+1 and invokes the chain rule. Note that in the loss function, $$(p(x_i)-y_i)^2 = (y_i - p(x_i))^2 $$ so if you want to use the chain rule and avoid multiplying by -1, you can just switch the order like above. We don't need the 2 factor outside our sum since wherever the gradient is very close to 0, you can divide 2 and the gradient will still be very close to 0. \n"
   ]
  },
  {
   "cell_type": "code",
   "execution_count": 5,
   "metadata": {
    "collapsed": false
   },
   "outputs": [
   ],
   "source": [
    "def grad_g(a, data_points):\n",
    "    gradient = np.array([0,0,0,0,0,0])\n",
    "    \n",
    "    for i in range(len(gradient)):\n",
    "        sum = 0\n",
    "        \n",
    "        for point in data_points:\n",
    "            sum += (p(a,point[0],5) - point[1]) * point[0]**i\n",
    "            \n",
    "        gradient[i] = sum\n",
    "    \n",
    "    return gradient"
   ]
  },
  {
   "cell_type": "code",
   "execution_count": 6,
   "metadata": {
    "collapsed": false
   },
   "outputs": [
   ],
   "source": [
    "# The norm of a general vector in R^n\n",
    "def norm(arr):\n",
    "    n = 0\n",
    "    for el in arr:\n",
    "        n += el**2     \n",
    "    return n**0.5"
   ]
  },
  {
   "cell_type": "code",
   "execution_count": 7,
   "metadata": {
    "collapsed": false
   },
   "outputs": [
   ],
   "source": [
    "def GDnew(ip, h, tol1, m, data_points):\n",
    "    # Our initial vector and the number of iterations declared and assigned\n",
    "    x_old = ip\n",
    "    num_iter = 0\n",
    "    \n",
    "    # Our list of x and \"g\" values that will log all the passing values of x and g(x)\n",
    "    x_list = [x_old]\n",
    "    g_list = [g(x_old, data_points)]\n",
    "    \n",
    "    # Our second vector x_1 which is computed with the norm of the gradient\n",
    "    # and then added to the list of x vectors\n",
    "    x_new = x_old - grad_g(x_old, data_points)/norm(grad_g(x_old, data_points))\n",
    "    x_list.append(x_new)\n",
    "    g_list.append(g(x_new, data_points))\n",
    "    \n",
    "    # Loops until we hit our max iterations or the sum of errors are below our tolerance\n",
    "    while num_iter < m and (abs(x_new[0] - x_old[0]) + abs(x_new[1] - x_old[1]) + abs(x_new[2] - x_old[2]) + abs(x_new[3] - x_old[3]) + abs(x_new[4] - x_old[4]) + abs(x_new[5] - x_old[5])) > tol1:\n",
    "        x_old = x_new\n",
    "        direction = -1*h*grad_g(x_old, data_points)/norm(grad_g(x_old, data_points))*1.0\n",
    "        x_new = x_old + direction\n",
    "        x_list.append(x_new)\n",
    "        g_list.append(g(x_new, data_points))\n",
    "        num_iter += 1\n",
    "        \n",
    "    print (\"Local minimum occurs at:\", x_new)\n",
    "    print (\"Number of steps:\", num_iter)\n",
    "    print (\"minimum value is:\", g(x_new, data_points))"
   ]
  },
  {
   "cell_type": "markdown",
   "metadata": {
    "collapsed": false
   },
   "source": [
    "The \"arr\" list serves as our initial point and \"arr2\" serves as our object containing the weights of our polynomial. Increasing the maximum number of iterations and decreasing the step size will make the minimum value go smaller."
   ]
  },
  {
   "cell_type": "code",
   "execution_count": 8,
   "metadata": {
    "collapsed": false
   },
   "outputs": [
    {
     "name": "stdout",
     "output_type": "stream",
     "text": [
      "Local minimum occurs at: [ 0.76968247  0.71407981  0.86516394  0.63230299 -0.98290423  0.20647847]\n",
      "Number of steps: 50000\n",
      "minimum value is: 2502.08677072\n"
     ]
    }
   ],
   "source": [
    "arr = np.array([0,0,0,0,0,0])\n",
    "arr2 = GDnew(arr, 0.005, 0.001, 50000, data)"
   ]
  },
  {
   "cell_type": "markdown",
   "metadata": {
    "collapsed": false
   },
   "source": [
    "This just plots our estimated function (blue) against the data points (red)."
   ]
  },
  {
   "cell_type": "code",
   "execution_count": 9,
   "metadata": {
    "collapsed": false
   },
   "outputs": [
   ],
   "source": [
    "def f(x):\n",
    "    return 0.76968247 + 0.71407981*x + 0.86516394*x**2 + 0.63230299*x**3 + -0.98290423*x**4 + 0.20647847*x**5"
   ]
  },
  {
   "cell_type": "code",
   "execution_count": 10,
   "metadata": {
    "collapsed": false
   },
   "outputs": [
    {
     "data": {
      "text/plain": [
       "<matplotlib.collections.PathCollection at 0x7fee1b7da7f0>"
      ]
     },
     "execution_count": 10,
     "metadata": {
     },
     "output_type": "execute_result"
    },
    {
     "data": {
      "image/png": "[encoded data removed]"
     },
     "execution_count": 10,
     "metadata": {
     },
     "output_type": "execute_result"
    }
   ],
   "source": [
    "fig = plt.figure()\n",
    "axes = fig.add_axes([0.1, 0.1, 0.9, 0.7]) \n",
    "axes.scatter(data[:,0],data[:,1],c=\"r\");\n",
    "\n",
    "new_x = np.linspace(0, 5, 150)\n",
    "new_y = f(new_x)\n",
    "\n",
    "axes.scatter(new_x,new_y,c=\"b\")"
   ]
  },
  {
   "cell_type": "code",
   "execution_count": 0,
   "metadata": {
    "collapsed": false
   },
   "outputs": [
   ],
   "source": [
   ]
  },
  {
   "cell_type": "code",
   "execution_count": 0,
   "metadata": {
    "collapsed": false
   },
   "outputs": [
   ],
   "source": [
   ]
  }
 ],
 "metadata": {
  "kernelspec": {
   "display_name": "Python 3 (Ubuntu Linux)",
   "language": "python",
   "name": "python3"
  },
  "language_info": {
   "codemirror_mode": {
    "name": "ipython",
    "version": 3
   },
   "file_extension": ".py",
   "mimetype": "text/x-python",
   "name": "python",
   "nbconvert_exporter": "python",
   "pygments_lexer": "ipython3",
   "version": "3.5.2"
  }
 },
 "nbformat": 4,
 "nbformat_minor": 0
}