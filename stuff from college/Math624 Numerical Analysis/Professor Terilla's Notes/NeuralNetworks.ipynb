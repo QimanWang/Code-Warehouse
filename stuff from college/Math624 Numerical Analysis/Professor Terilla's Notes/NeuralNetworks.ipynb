{
 "cells": [
  {
   "cell_type": "markdown",
   "metadata": {
    "collapsed": false
   },
   "source": [
    "# Introduction to Neural Networks"
   ]
  },
  {
   "cell_type": "markdown",
   "metadata": {
    "collapsed": false
   },
   "source": [
    "We will definitely need to deal with arrays and other numerical functions, so import numpy."
   ]
  },
  {
   "cell_type": "code",
   "execution_count": 1,
   "metadata": {
    "collapsed": false
   },
   "outputs": [
   ],
   "source": [
    "import numpy as np"
   ]
  },
  {
   "cell_type": "markdown",
   "metadata": {
    "collapsed": false
   },
   "source": [
    "Here's how to call the exponential function."
   ]
  },
  {
   "cell_type": "code",
   "execution_count": 2,
   "metadata": {
    "collapsed": false
   },
   "outputs": [
    {
     "data": {
      "text/plain": [
       "2.7182818284590451"
      ]
     },
     "execution_count": 2,
     "metadata": {
     },
     "output_type": "execute_result"
    }
   ],
   "source": [
    "np.exp(1)"
   ]
  },
  {
   "cell_type": "markdown",
   "metadata": {
    "collapsed": false
   },
   "source": [
    "For us, np.arrays will be better than ordinary python lists.  There are numerous reasons for this.  Here are a few things to be aware of regarding lists and np.arrays presented by examples."
   ]
  },
  {
   "cell_type": "code",
   "execution_count": 3,
   "metadata": {
    "collapsed": false
   },
   "outputs": [
   ],
   "source": [
    "mylist=[1,2,3]\n",
    "mynplist=np.array([1,2,3])"
   ]
  },
  {
   "cell_type": "code",
   "execution_count": 4,
   "metadata": {
    "collapsed": false
   },
   "outputs": [
    {
     "name": "stdout",
     "output_type": "stream",
     "text": [
      "[  2.71828183   7.3890561   20.08553692]\n"
     ]
    }
   ],
   "source": [
    "print np.exp(mylist)"
   ]
  },
  {
   "cell_type": "code",
   "execution_count": 5,
   "metadata": {
    "collapsed": false
   },
   "outputs": [
   ],
   "source": [
    "# can't add an integer and a list\n",
    "# print 1+mylist"
   ]
  },
  {
   "cell_type": "code",
   "execution_count": 5,
   "metadata": {
    "collapsed": false
   },
   "outputs": [
    {
     "name": "stdout",
     "output_type": "stream",
     "text": [
      "[2 3 4]\n"
     ]
    }
   ],
   "source": [
    "# you can add an integer and an np.array\n",
    "print 1+mynplist"
   ]
  },
  {
   "cell_type": "code",
   "execution_count": 7,
   "metadata": {
    "collapsed": false
   },
   "outputs": [
   ],
   "source": [
    "# can't divide an integer by a list\n",
    "# 2/mylist"
   ]
  },
  {
   "cell_type": "code",
   "execution_count": 6,
   "metadata": {
    "collapsed": false
   },
   "outputs": [
    {
     "name": "stdout",
     "output_type": "stream",
     "text": [
      "[2 1 0]\n"
     ]
    }
   ],
   "source": [
    "# you can divide an integer by an np.array.  Be aware that if the np.array is filled with integers, then you'll get integer division\n",
    "print 2/mynplist"
   ]
  },
  {
   "cell_type": "code",
   "execution_count": 7,
   "metadata": {
    "collapsed": false
   },
   "outputs": [
    {
     "name": "stdout",
     "output_type": "stream",
     "text": [
      "[ 2.          1.          0.66666667]\n"
     ]
    }
   ],
   "source": [
    "# you can divide a float by an np.array.  Here, the integers in the np.array are converted to floats and division is division of floating point numbers\n",
    "print 2.0/mynplist"
   ]
  },
  {
   "cell_type": "markdown",
   "metadata": {
    "collapsed": false
   },
   "source": [
    "## The sigmoid function"
   ]
  },
  {
   "cell_type": "markdown",
   "metadata": {
    "collapsed": false
   },
   "source": [
    "We now define a function $\\sigma:\\mathbb{R}\\to \\mathbb{R}$ by\n",
    "\n",
    "$$\\sigma(x)=\\frac{1}{1+\\exp(-x)}$$\n",
    "\n",
    "I'm denoting this function by the greek letter sigma, but this function is called <em>sigmoid</em> function."
   ]
  },
  {
   "cell_type": "code",
   "execution_count": 8,
   "metadata": {
    "collapsed": false
   },
   "outputs": [
   ],
   "source": [
    "def sigmoid(x):\n",
    "    return 1/(1+np.exp(-x))"
   ]
  },
  {
   "cell_type": "code",
   "execution_count": 9,
   "metadata": {
    "collapsed": false
   },
   "outputs": [
    {
     "data": {
      "text/plain": [
       "array([  4.53978687e-05,   2.06115362e-09,   9.35762297e-14,\n",
       "         4.24835426e-18])"
      ]
     },
     "execution_count": 9,
     "metadata": {
     },
     "output_type": "execute_result"
    }
   ],
   "source": [
    "# sigmoid of negative numbers are close to zero\n",
    "sigmoid(np.array([-10,-20,-30,-40]))"
   ]
  },
  {
   "cell_type": "code",
   "execution_count": 10,
   "metadata": {
    "collapsed": false
   },
   "outputs": [
    {
     "data": {
      "text/plain": [
       "array([ 0.9999546,  1.       ,  1.       ,  1.       ])"
      ]
     },
     "execution_count": 10,
     "metadata": {
     },
     "output_type": "execute_result"
    }
   ],
   "source": [
    "# sigmoid of positive numbers are close to one\n",
    "sigmoid(np.array([10,20,30,40]))"
   ]
  },
  {
   "cell_type": "markdown",
   "metadata": {
    "collapsed": false
   },
   "source": [
    "Lets plot the sigmoid function"
   ]
  },
  {
   "cell_type": "code",
   "execution_count": 11,
   "metadata": {
    "collapsed": false
   },
   "outputs": [
   ],
   "source": [
    "import matplotlib\n",
    "import matplotlib.pyplot as plt"
   ]
  },
  {
   "cell_type": "code",
   "execution_count": 12,
   "metadata": {
    "collapsed": false
   },
   "outputs": [
    {
     "data": {
      "text/plain": [
       "[<matplotlib.lines.Line2D at 0x7f584784cf50>]"
      ]
     },
     "execution_count": 12,
     "metadata": {
     },
     "output_type": "execute_result"
    },
    {
     "data": {
      "image/png": "[encoded data removed]"
     }
    }
   ],
   "source": [
    "xvals = np.linspace(-20,20,1001)\n",
    "yvals = sigmoid(xvals)\n",
    "fig = plt.figure()\n",
    "axes = fig.add_axes([0.1, 0.1, 0.9, 0.8])\n",
    "axes.plot(xvals,yvals)"
   ]
  },
  {
   "cell_type": "markdown",
   "metadata": {
    "collapsed": false
   },
   "source": [
    "Think of the sigmoid function as capturing the idea of a neuron activating.  A number $x$ can be thought of a signal strength entering a neuron and the value $\\sigma(x)\\in (0,1)$ gives the probability that the neuron fires."
   ]
  },
  {
   "cell_type": "markdown",
   "metadata": {
    "collapsed": false
   },
   "source": [
    "## Neural Networks: compositions of sigmoid functions"
   ]
  },
  {
   "cell_type": "markdown",
   "metadata": {
    "collapsed": false
   },
   "source": [
    "Now, we will consider certain compositions of sigmoid functions.  It will be convenient to have a visual language for these compositions, rather than writing formulas.  The visual language will be a directed graph with nodes and edges.   The nodes represent the sigmoid function, the edges are labelled by real numbers called <em>weights</em>, and open initial edges represent an input for a real number.  Multiple edges coming into a node are summed before applying the sigmoid function.  Here's a picture:\n",
    "\n",
    "<img src=\"./nn2.png\" />\n",
    "\n",
    "A more complicated picture like this\n",
    "\n",
    "<img src=\"./nn1.png\" />\n",
    "\n",
    "represents either\n",
    "<ul>\n",
    "    <li>a single function $\\mathbb{R}^3 \\to \\mathbb{R}$, if the edges are labelled by weights</li>\n",
    "    <li>a set of functions $\\mathbb{R}^3 \\to \\mathbb{R}$, if the edges are unlabelled</li>\n",
    "</ul>\n"
   ]
  },
  {
   "cell_type": "markdown",
   "metadata": {
    "collapsed": false
   },
   "source": [
    "Let's look more closely at the simple picture above with one node and three input edges.  We'll fix some weights $\\theta_0=-400$, $\\theta_1=20$, and $\\theta_2=50$.  We'll assume that $x_0=1$ and we'll look at a bunch of random points $x_1, x_2$ in the rectangle $[0,10]\\times [0,10]$.  If the neuron fires for those values, we'll plot the point red and if the neuron doesn't fire, we'll plot the point blue.  Let's set the firing threshold to be $0.9$."
   ]
  },
  {
   "cell_type": "code",
   "execution_count": 13,
   "metadata": {
    "collapsed": false
   },
   "outputs": [
   ],
   "source": [
    "randomxpoints=10*np.random.rand(800)\n",
    "randomypoints=10*np.random.rand(800)"
   ]
  },
  {
   "cell_type": "code",
   "execution_count": 14,
   "metadata": {
    "collapsed": false
   },
   "outputs": [
   ],
   "source": [
    "thetavec=np.array([-8,-1,2])\n",
    "rpts=[] ; bpts=[]\n",
    "for i in range(800):\n",
    "    xvec=np.array([1,randomxpoints[i],randomypoints[i]])\n",
    "    xdottheta=np.dot(thetavec,xvec)\n",
    "    if(sigmoid(xdottheta)>.9):\n",
    "        rpts.append([randomxpoints[i],randomypoints[i]])\n",
    "    else:\n",
    "        bpts.append([randomxpoints[i],randomypoints[i]])\n",
    "redpoints=np.array(rpts)\n",
    "bluepoints=np.array(bpts)"
   ]
  },
  {
   "cell_type": "code",
   "execution_count": 15,
   "metadata": {
    "collapsed": false
   },
   "outputs": [
   ],
   "source": [
    "from __future__ import print_function"
   ]
  },
  {
   "cell_type": "code",
   "execution_count": 16,
   "metadata": {
    "collapsed": false
   },
   "outputs": [
    {
     "data": {
      "text/plain": [
       "[<matplotlib.lines.Line2D at 0x7f58477e12d0>,\n",
       " <matplotlib.lines.Line2D at 0x7f584563f0d0>]"
      ]
     },
     "execution_count": 16,
     "metadata": {
     },
     "output_type": "execute_result"
    },
    {
     "data": {
      "image/png": "[encoded data removed]"
     }
    }
   ],
   "source": [
    "xvalsR = redpoints[:,0] #prints first column\n",
    "yvalsR = redpoints[:,1] #prints second column\n",
    "xvalsB = bluepoints[:,0] #prints \n",
    "yvalsB = bluepoints[:,1]\n",
    "fig = plt.figure()\n",
    "axes = fig.add_axes([0.1, 0.1, 0.9, 0.8])\n",
    "axes.plot(xvalsR,yvalsR,'r+',xvalsB,yvalsB,'b.')"
   ]
  },
  {
   "cell_type": "markdown",
   "metadata": {
    "collapsed": false
   },
   "source": [
    "### Exercise\n",
    "Explain how the network above classifies points as red if they lie above a certain line or blue if they lie below that line."
   ]
  },
  {
   "cell_type": "markdown",
   "metadata": {
    "collapsed": false
   },
   "source": [
    "Here's a picture of a more sophisticated network and a picture of how it classifies some random points.\n",
    "\n",
    "<img src=\"./nn3.png\" />\n"
   ]
  },
  {
   "cell_type": "code",
   "execution_count": 17,
   "metadata": {
    "collapsed": false
   },
   "outputs": [
   ],
   "source": [
    "thetavec1=np.array([-300,20,50])\n",
    "thetavec2=np.array([80,-20,10])\n",
    "thetavec3=np.array([-30,10,20])\n",
    "rpts=[] ; bpts=[]\n",
    "for i in range(800):\n",
    "    xvec=np.array([1,randomxpoints[i],randomypoints[i]])\n",
    "    a0=sigmoid(np.dot(thetavec1,xvec))\n",
    "    a1=sigmoid(np.dot(thetavec2,xvec))\n",
    "    a=np.array([1,a0,a1])\n",
    "    out=sigmoid(np.dot(thetavec3,a))\n",
    "    if(out>.9):\n",
    "        rpts.append([randomxpoints[i],randomypoints[i]])\n",
    "    else:\n",
    "        bpts.append([randomxpoints[i],randomypoints[i]])\n",
    "redpoints=np.array(rpts)\n",
    "bluepoints=np.array(bpts)"
   ]
  },
  {
   "cell_type": "code",
   "execution_count": 22,
   "metadata": {
    "collapsed": false
   },
   "outputs": [
    {
     "ename": "IndexError",
     "evalue": "too many indices for array",
     "output_type": "error",
     "traceback": [
      "\u001b[0;31m---------------------------------------------------------------------------\u001b[0m",
      "\u001b[0;31mIndexError\u001b[0m                                Traceback (most recent call last)",
      "\u001b[0;32m<ipython-input-22-e585e4007ff3>\u001b[0m in \u001b[0;36m<module>\u001b[0;34m()\u001b[0m\n\u001b[0;32m----> 1\u001b[0;31m \u001b[0mxvalsR\u001b[0m \u001b[0;34m=\u001b[0m \u001b[0mredpoints\u001b[0m\u001b[0;34m[\u001b[0m\u001b[0;34m:\u001b[0m\u001b[0;34m,\u001b[0m\u001b[0;36m0\u001b[0m\u001b[0;34m]\u001b[0m\u001b[0;34m\u001b[0m\u001b[0m\n\u001b[0m\u001b[1;32m      2\u001b[0m \u001b[0myvalsR\u001b[0m \u001b[0;34m=\u001b[0m \u001b[0mredpoints\u001b[0m\u001b[0;34m[\u001b[0m\u001b[0;34m:\u001b[0m\u001b[0;34m,\u001b[0m\u001b[0;36m1\u001b[0m\u001b[0;34m]\u001b[0m\u001b[0;34m\u001b[0m\u001b[0m\n\u001b[1;32m      3\u001b[0m \u001b[0mxvalsB\u001b[0m \u001b[0;34m=\u001b[0m \u001b[0mbluepoints\u001b[0m\u001b[0;34m[\u001b[0m\u001b[0;34m:\u001b[0m\u001b[0;34m,\u001b[0m\u001b[0;36m0\u001b[0m\u001b[0;34m]\u001b[0m\u001b[0;34m\u001b[0m\u001b[0m\n\u001b[1;32m      4\u001b[0m \u001b[0myvalsB\u001b[0m \u001b[0;34m=\u001b[0m \u001b[0mbluepoints\u001b[0m\u001b[0;34m[\u001b[0m\u001b[0;34m:\u001b[0m\u001b[0;34m,\u001b[0m\u001b[0;36m1\u001b[0m\u001b[0;34m]\u001b[0m\u001b[0;34m\u001b[0m\u001b[0m\n\u001b[1;32m      5\u001b[0m \u001b[0mt\u001b[0m\u001b[0;34m=\u001b[0m\u001b[0mnp\u001b[0m\u001b[0;34m.\u001b[0m\u001b[0marange\u001b[0m\u001b[0;34m(\u001b[0m\u001b[0;36m0.\u001b[0m\u001b[0;34m,\u001b[0m\u001b[0;36m10.\u001b[0m\u001b[0;34m,\u001b[0m\u001b[0;36m0.1\u001b[0m\u001b[0;34m)\u001b[0m\u001b[0;34m\u001b[0m\u001b[0m\n",
      "\u001b[0;31mIndexError\u001b[0m: too many indices for array"
     ]
    }
   ],
   "source": [
    "xvalsR = redpoints[:,0]\n",
    "yvalsR = redpoints[:,1]\n",
    "xvalsB = bluepoints[:,0]\n",
    "yvalsB = bluepoints[:,1]\n",
    "t=np.arange(0.,10.,0.1)\n",
    "fig = plt.figure()\n",
    "axes = fig.add_axes([0.1, 0.1, 0.9, 0.8])\n",
    "axes.plot(xvalsR,yvalsR,'r+',xvalsB,yvalsB,'b.', t,1.6095-t,'g.',t,2*t-7.781,'y.',t,-0.4*t+6.0439,'k')"
   ]
  },
  {
   "cell_type": "markdown",
   "metadata": {
    "collapsed": false
   },
   "source": [
    "### Exercise\n",
    "Explain how the network above classifies points as red or blue."
   ]
  },
  {
   "cell_type": "code",
   "execution_count": 0,
   "metadata": {
    "collapsed": false
   },
   "outputs": [
   ],
   "source": [
   ]
  }
 ],
 "metadata": {
  "kernelspec": {
   "display_name": "Python 2 (SageMath)",
   "language": "python",
   "name": "python2"
  },
  "language_info": {
   "codemirror_mode": {
    "name": "ipython",
    "version": 2
   },
   "file_extension": ".py",
   "mimetype": "text/x-python",
   "name": "python",
   "nbconvert_exporter": "python",
   "pygments_lexer": "ipython2",
   "version": "2.7.13"
  }
 },
 "nbformat": 4,
 "nbformat_minor": 0
}