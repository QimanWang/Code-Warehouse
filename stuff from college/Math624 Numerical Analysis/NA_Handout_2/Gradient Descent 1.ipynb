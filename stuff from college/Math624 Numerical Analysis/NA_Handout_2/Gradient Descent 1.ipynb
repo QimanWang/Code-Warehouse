{
 "cells": [
  {
   "cell_type": "markdown",
   "metadata": {
    "collapsed": false
   },
   "source": [
    "# Basic Gradient Descent\n",
    "\n",
    "Gradient descent is a basic algorithm for minimizing a function.  Here's an example, implemented in python, from <a href=\"https://en.wikipedia.org/wiki/Gradient_descent#Computational_examples\">https://en.wikipedia.org/wiki/Gradient_descent#Computational_examples</a>.  The program finds the minimum of\n",
    "\n",
    "$$ f(x) =x^4−3x^3+2 $$"
   ]
  },
  {
   "cell_type": "code",
   "execution_count": 0,
   "metadata": {
    "collapsed": false
   },
   "outputs": [
   ],
   "source": [
    "# From calculation, it is expected that the local minimum occurs at x=9/4\n",
    "\n",
    "cur_x = 6 # The algorithm starts at x=6\n",
    "gamma = 0.01 # step size multiplier\n",
    "precision = 0.00001\n",
    "previous_step_size = cur_x\n",
    "\n",
    "def df(x):\n",
    "    return 4 * x**3 - 9 * x**2\n",
    "\n",
    "while previous_step_size > precision:\n",
    "    prev_x = cur_x\n",
    "    cur_x += -gamma * df(prev_x)\n",
    "    previous_step_size = abs(cur_x - prev_x)\n",
    "\n",
    "print(\"The local minimum occurs at %f\" % cur_x)"
   ]
  },
  {
   "cell_type": "markdown",
   "metadata": {
    "collapsed": false
   },
   "source": [
    "## Import modules"
   ]
  },
  {
   "cell_type": "code",
   "execution_count": 0,
   "metadata": {
    "collapsed": true
   },
   "outputs": [
   ],
   "source": [
    "import numpy as np\n",
    "import scipy as sp\n",
    "import matplotlib\n",
    "import matplotlib.pyplot as plt"
   ]
  },
  {
   "cell_type": "markdown",
   "metadata": {
    "collapsed": false
   },
   "source": [
    "The following line is a Jupyter code that tells matplotlib to print inline within the jupyter notbook"
   ]
  },
  {
   "cell_type": "code",
   "execution_count": 0,
   "metadata": {
    "collapsed": true
   },
   "outputs": [
   ],
   "source": [
    "%matplotlib inline"
   ]
  },
  {
   "cell_type": "markdown",
   "metadata": {
    "collapsed": false
   },
   "source": [
    "Define a function"
   ]
  },
  {
   "cell_type": "code",
   "execution_count": 0,
   "metadata": {
    "collapsed": true
   },
   "outputs": [
   ],
   "source": [
    "def f(x):\n",
    "    return  x**4 - 3 * x**3+2"
   ]
  },
  {
   "cell_type": "markdown",
   "metadata": {
    "collapsed": false
   },
   "source": [
    "In order to plot this function, we make a bunch of (x,y) coordinates on the graph.  Before doing this, let's take a look at ways we can operate on elements in a list."
   ]
  },
  {
   "cell_type": "code",
   "execution_count": 0,
   "metadata": {
    "collapsed": false
   },
   "outputs": [
   ],
   "source": [
    "x = np.linspace(0,5,11)\n",
    "print x"
   ]
  },
  {
   "cell_type": "code",
   "execution_count": 0,
   "metadata": {
    "collapsed": false
   },
   "outputs": [
   ],
   "source": [
    "x**2"
   ]
  },
  {
   "cell_type": "code",
   "execution_count": 0,
   "metadata": {
    "collapsed": false
   },
   "outputs": [
   ],
   "source": [
    "np.sin(x)"
   ]
  },
  {
   "cell_type": "code",
   "execution_count": 0,
   "metadata": {
    "collapsed": false
   },
   "outputs": [
   ],
   "source": [
    "x = np.linspace(-0,4,1000)"
   ]
  },
  {
   "cell_type": "code",
   "execution_count": 0,
   "metadata": {
    "collapsed": false
   },
   "outputs": [
   ],
   "source": [
    "y = f(x)"
   ]
  },
  {
   "cell_type": "code",
   "execution_count": 0,
   "metadata": {
    "collapsed": false
   },
   "outputs": [
   ],
   "source": [
    "f(2)"
   ]
  },
  {
   "cell_type": "code",
   "execution_count": 0,
   "metadata": {
    "collapsed": false
   },
   "outputs": [
   ],
   "source": [
    "f(a)"
   ]
  },
  {
   "cell_type": "code",
   "execution_count": 0,
   "metadata": {
    "collapsed": true
   },
   "outputs": [
   ],
   "source": [
    "from sympy import *"
   ]
  },
  {
   "cell_type": "code",
   "execution_count": 0,
   "metadata": {
    "collapsed": false
   },
   "outputs": [
   ],
   "source": [
    "a = Symbol('a')"
   ]
  },
  {
   "cell_type": "code",
   "execution_count": 0,
   "metadata": {
    "collapsed": false
   },
   "outputs": [
   ],
   "source": [
    "f(a)"
   ]
  },
  {
   "cell_type": "code",
   "execution_count": 0,
   "metadata": {
    "collapsed": false
   },
   "outputs": [
   ],
   "source": [
    "matplotlib.rcParams.update({'font.size': 18, 'text.usetex': True})\n",
    "fig = plt.figure()\n",
    "axes = fig.add_axes([0.1, 0.1, 0.9, 0.7]) # left, bottom, width, height (range 0 to 1)\n",
    "axes.plot(x,y, 'g', label=r'$y = x^4-3x^3+2$') # g for green\n",
    "axes.legend(loc=2); # upper left corner\n",
    "axes.set_xlabel('$x$')\n",
    "axes.set_ylabel('$y$') ;\n",
    "axes.set_title('$y = x^4 - 3  x^3+2$');"
   ]
  },
  {
   "cell_type": "code",
   "execution_count": 0,
   "metadata": {
    "collapsed": false
   },
   "outputs": [
   ],
   "source": [
    "cur_x = 6 # The algorithm starts at x=6\n",
    "gamma = 0.01 # step size multiplier\n",
    "precision = 0.00001\n",
    "previous_step_size = cur_x\n",
    "\n",
    "x_list = [cur_x]; y_list = [f(cur_x)]\n",
    "\n",
    "def df(x):\n",
    "    return 4 * x**3 - 9 * x**2\n",
    "\n",
    "while previous_step_size > precision:\n",
    "    prev_x = cur_x\n",
    "    cur_x += -gamma * df(prev_x)\n",
    "    previous_step_size = abs(cur_x - prev_x)\n",
    "    x_list.append(cur_x)\n",
    "    y_list.append(f(cur_x))\n",
    "\n",
    "print \"Local minimum occurs at:\", cur_x\n",
    "print \"Number of steps:\", len(x_list)"
   ]
  },
  {
   "cell_type": "code",
   "execution_count": 0,
   "metadata": {
    "collapsed": false
   },
   "outputs": [
   ],
   "source": [
    "fig = plt.figure()\n",
    "axes = fig.add_axes([0.1, 0.1, 0.9, 0.7]) # left, bottom, width, height (range 0 to 1)\n",
    "axes.plot(x,y, 'g', label=r'$y = x^4-3x^3+2$') # g for green\n",
    "axes.scatter(x_list,y_list,c=\"r\")\n",
    "axes.plot(x_list,y_list,c=\"r\",label='gradient descent steps')\n",
    "axes.legend(loc=2); # upper left corner\n",
    "axes.set_xlabel('$x$')\n",
    "axes.set_ylabel('$y$') ;"
   ]
  },
  {
   "cell_type": "code",
   "execution_count": 0,
   "metadata": {
    "collapsed": false
   },
   "outputs": [
   ],
   "source": [
    "xzoom = np.linspace(0,2.5,100)\n",
    "yzoom=f(xzoom)\n",
    "\n",
    "\n",
    "fig = plt.figure()\n",
    "axes = fig.add_axes([0.1, 0.1, 0.9, 0.7]) # left, bottom, width, height (range 0 to 1)\n",
    "axes.plot(xzoom,yzoom, 'g', label=r'$y = x^4-3x^3+2$') # g for green\n",
    "axes.scatter(x_list[8:],y_list[8:],c=\"r\")\n",
    "axes.plot(x_list[8:],y_list[8:],c=\"r\",label='gradient descent steps')\n",
    "axes.legend(loc=3); # lower left corner\n",
    "axes.set_xlabel('$x$')\n",
    "axes.set_ylabel('$y$') ;"
   ]
  },
  {
   "cell_type": "markdown",
   "metadata": {
    "collapsed": false
   },
   "source": [
    "## 2 dimensional example"
   ]
  },
  {
   "cell_type": "code",
   "execution_count": 0,
   "metadata": {
    "collapsed": false
   },
   "outputs": [
   ],
   "source": [
    "def g(x,y):\n",
    "    return (x-2)**2*(y-1)**2"
   ]
  },
  {
   "cell_type": "code",
   "execution_count": 0,
   "metadata": {
    "collapsed": false
   },
   "outputs": [
   ],
   "source": [
    "def grad_g(x,y):\n",
    "    return np.array([2*(x-2)*(y-1)**2, (x-2)**2*2*(y-1)])"
   ]
  },
  {
   "cell_type": "code",
   "execution_count": 0,
   "metadata": {
    "collapsed": false
   },
   "outputs": [
   ],
   "source": [
    "[a,b]=h*grad_g(3,3)\n",
    "print [a,b]"
   ]
  },
  {
   "cell_type": "code",
   "execution_count": 0,
   "metadata": {
    "collapsed": false
   },
   "outputs": [
   ],
   "source": [
    "x_old, y_old = 1,2 \n",
    "h = 0.1 # step size\n",
    "precision = 0.00001\n",
    "\n",
    "x_list = [x_old]; y_list = [y_old]; z_list= [g(x_old,y_old)]\n",
    "\n",
    "[x_new, y_new] = [x_old, y_old] - h * grad_g(x_old,y_old)\n",
    "\n",
    "while (abs(x_new - x_old)+abs(y_new - y_old)) > precision:\n",
    "    x_old, y_old = x_new, y_new\n",
    "    direction = - grad_g(x_old,y_old)\n",
    "    [x_new, y_new] = [x_old,y_old] + h * direction\n",
    "    x_list.append(x_new)\n",
    "    y_list.append(y_new)\n",
    "    z_list.append(g(x_new,y_new))\n",
    "print \"Local minimum occurs at:\", x_new,y_new\n",
    "print \"Number of steps:\", len(z_list)"
   ]
  },
  {
   "cell_type": "code",
   "execution_count": 0,
   "metadata": {
    "collapsed": false
   },
   "outputs": [
   ],
   "source": [
    "g(1.97076954928, 1.02923045072)"
   ]
  },
  {
   "cell_type": "code",
   "execution_count": 0,
   "metadata": {
    "collapsed": true
   },
   "outputs": [
   ],
   "source": [
   ]
  }
 ],
 "metadata": {
  "kernelspec": {
   "display_name": "Python 2 (SageMath)",
   "language": "python",
   "name": "python2"
  },
  "language_info": {
   "codemirror_mode": {
    "name": "ipython",
    "version": 2
   },
   "file_extension": ".py",
   "mimetype": "text/x-python",
   "name": "python",
   "nbconvert_exporter": "python",
   "pygments_lexer": "ipython2",
   "version": "2.7.13"
  }
 },
 "nbformat": 4,
 "nbformat_minor": 0
}