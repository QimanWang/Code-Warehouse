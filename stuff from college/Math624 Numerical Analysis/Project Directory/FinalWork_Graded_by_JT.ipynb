{
 "cells": [
  {
   "cell_type": "markdown",
   "metadata": {
    "collapsed": false
   },
   "source": [
    "# Gram Schmidt Process"
   ]
  },
  {
   "cell_type": "markdown",
   "metadata": {
    "collapsed": false
   },
   "source": [
    "# Approximate the sine in six ways"
   ]
  },
  {
   "cell_type": "markdown",
   "metadata": {
    "collapsed": false
   },
   "source": [
    "We need to find a cubic polynomial $u$ that best approximates sin(t) in the sense that \n",
    "\\begin{equation}\n",
    "||u(t)-sin(t)||\n",
    "\\end{equation}\n",
    "is minimized."
   ]
  },
  {
   "cell_type": "markdown",
   "metadata": {
    "collapsed": false
   },
   "source": [
    "Let us find $u_1$, $u_2$, $u_3$, $u_4$, $u_5$, $u_6$ and plot the results to compare them."
   ]
  },
  {
   "cell_type": "code",
   "execution_count": 1,
   "metadata": {
    "collapsed": false
   },
   "outputs": [
   ],
   "source": [
    "import numpy as np"
   ]
  },
  {
   "cell_type": "markdown",
   "metadata": {
    "collapsed": false
   },
   "source": [
    "# U1\n",
    "\\begin{align*}\n",
    "\\langle f,g\\rangle_1&=f(0)g(0)+f'(0)g'(0)+f(6)g(6)+f'(6)g'(6)\n",
    "\\end{align*}"
   ]
  },
  {
   "cell_type": "code",
   "execution_count": 2,
   "metadata": {
    "collapsed": false
   },
   "outputs": [
   ],
   "source": [
    "from sympy import *"
   ]
  },
  {
   "cell_type": "code",
   "execution_count": 3,
   "metadata": {
    "collapsed": false
   },
   "outputs": [
   ],
   "source": [
    "x = Symbol('x')"
   ]
  },
  {
   "cell_type": "code",
   "execution_count": 4,
   "metadata": {
    "collapsed": false
   },
   "outputs": [
   ],
   "source": [
    "def u1(f,g):\n",
    "    df = f.diff(x)\n",
    "    dg = g.diff(x)\n",
    "    return f.subs(x,0.0)*g.subs(x,0.0)+df.subs(x,0.0)*dg.subs(x,0.0)+f.subs(x,6.0)*g.subs(x,6.0)+df.subs(x,6.0)*dg.subs(x,6.0)"
   ]
  },
  {
   "cell_type": "code",
   "execution_count": 5,
   "metadata": {
    "collapsed": false
   },
   "outputs": [
   ],
   "source": [
    "k = 3 # max degree\n",
    "myE = [] # initialize the output with zeros\n",
    "for i in range(k+1):\n",
    "    fi=x**i\n",
    "    for j in range(i):\n",
    "        fi+=-u1(myE[j],x**i)*myE[j]\n",
    "    myE.append(fi/(sqrt(u1(fi,fi))))"
   ]
  },
  {
   "cell_type": "code",
   "execution_count": 6,
   "metadata": {
    "collapsed": false
   },
   "outputs": [
    {
     "name": "stdout",
     "output_type": "stream",
     "text": [
      "sqrt(2)/2\n",
      "0.223606797749979*x - 0.670820393249937\n",
      "0.117851130197758*x**2 - 0.707106781186547*x\n",
      "0.0414086662499961*x**3 - 0.372677996249966*x**2 + 0.670820393249943*x + 0.22360679774998\n"
     ]
    }
   ],
   "source": [
    "for p in myE:\n",
    "    print p"
   ]
  },
  {
   "cell_type": "markdown",
   "metadata": {
    "collapsed": false
   },
   "source": [
    "Now, we orthogonally project sin(x) onto U."
   ]
  },
  {
   "cell_type": "code",
   "execution_count": 7,
   "metadata": {
    "collapsed": false
   },
   "outputs": [
    {
     "name": "stdout",
     "output_type": "stream",
     "text": [
      "0.0570363551680557*x**3 - 0.516646339291639*x**2 + 1.00000000000001*x + 9.99200722162641e-16\n"
     ]
    }
   ],
   "source": [
    "u11=0\n",
    "for p in myE:\n",
    "    u11+= u1(sin(x),p) * p\n",
    "print u11"
   ]
  },
  {
   "cell_type": "code",
   "execution_count": 8,
   "metadata": {
    "collapsed": false
   },
   "outputs": [
    {
     "data": {
      "image/png": "[encoded data removed]"
     }
    }
   ],
   "source": [
    "myplot=plot(sin(x),u11,(x,-4,4),ylim=[-4,4],show=False)\n",
    "myplot[0].line_color = 'r'\n",
    "myplot[1].line_color = 'g'\n",
    "myplot.show()"
   ]
  },
  {
   "cell_type": "markdown",
   "metadata": {
    "collapsed": false
   },
   "source": [
    "## <span style=\"color:red\">Terilla</span>\n",
    "<span style=\"color:red\">Here, it's much better to look at the picture on an interval containing $[0,6]$.  Consideration of your inner product $\\langle \\, \\rangle_1$ suggests that $u_1$ and $\\sin$ will match up very well at $x=0$ and $x=6$.  Look:\n",
    "</span>"
   ]
  },
  {
   "cell_type": "code",
   "execution_count": 9,
   "metadata": {
    "collapsed": false
   },
   "outputs": [
    {
     "data": {
      "image/png": "[encoded data removed]"
     }
    }
   ],
   "source": [
    "myplot=plot(sin(x),u11,(x,-0.5,6.5),ylim=[-1.5,1.5],show=False)\n",
    "myplot[0].line_color = 'r'\n",
    "myplot[1].line_color = 'g'\n",
    "myplot.show()"
   ]
  },
  {
   "cell_type": "markdown",
   "metadata": {
    "collapsed": false
   },
   "source": [
    "<span style=\"color:red\">You see, the values of the function and their derivatives match at zero and six.\n",
    "</span>"
   ]
  },
  {
   "cell_type": "markdown",
   "metadata": {
    "collapsed": false
   },
   "source": [
    "# U2\n",
    "\\begin{align*}\n",
    "\\langle f,g\\rangle_2&=f(1)g(1)+f'(1)g'(1)+f(5)g(5)+f'(5)g'(5)\\\\\n",
    "\\end{align*}"
   ]
  },
  {
   "cell_type": "code",
   "execution_count": 10,
   "metadata": {
    "collapsed": false
   },
   "outputs": [
   ],
   "source": [
    "def u2(f,g):\n",
    "    df = f.diff(x)\n",
    "    dg = g.diff(x)\n",
    "    return f.subs(x,1.0)*g.subs(x,1.0)+df.subs(x,1.0)*dg.subs(x,1.0)+f.subs(x,5.0)*g.subs(x,5.0)+df.subs(x,5.0)*dg.subs(x,5.0)"
   ]
  },
  {
   "cell_type": "code",
   "execution_count": 11,
   "metadata": {
    "collapsed": false
   },
   "outputs": [
   ],
   "source": [
    "k = 3 # max degree\n",
    "myE = [] # initialize the output with zeros\n",
    "for i in range(k+1):\n",
    "    fi=x**i\n",
    "    for j in range(i):\n",
    "        fi+=-u2(myE[j],x**i)*myE[j]\n",
    "    myE.append(fi/(sqrt(u2(fi,fi))))"
   ]
  },
  {
   "cell_type": "code",
   "execution_count": 12,
   "metadata": {
    "collapsed": false
   },
   "outputs": [
    {
     "name": "stdout",
     "output_type": "stream",
     "text": [
      "sqrt(2)/2\n",
      "0.316227766016838*x - 0.948683298050514\n",
      "0.176776695296637*x**2 - 1.06066017177982*x + 0.883883476483185\n",
      "0.0988211768802619*x**3 - 0.889390591922356*x**2 + 2.1147731852376*x - 1.00797600417867\n"
     ]
    }
   ],
   "source": [
    "for p in myE:\n",
    "    print p"
   ]
  },
  {
   "cell_type": "code",
   "execution_count": 13,
   "metadata": {
    "collapsed": false
   },
   "outputs": [
    {
     "name": "stdout",
     "output_type": "stream",
     "text": [
      "0.10776013256668*x**3 - 1.00192120815073*x**2 + 2.22086432446957*x - 0.485232264077618\n"
     ]
    }
   ],
   "source": [
    "u12=0\n",
    "for p in myE:\n",
    "    u12+= u2(sin(x),p) * p\n",
    "print u12"
   ]
  },
  {
   "cell_type": "code",
   "execution_count": 14,
   "metadata": {
    "collapsed": false
   },
   "outputs": [
    {
     "data": {
      "image/png": "[encoded data removed]"
     }
    }
   ],
   "source": [
    "myplot=plot(sin(x),u12,(x,-4,4),ylim=[-4,4],show=False)\n",
    "myplot[0].line_color = 'r'\n",
    "myplot[1].line_color = 'g'\n",
    "myplot.show()"
   ]
  },
  {
   "cell_type": "markdown",
   "metadata": {
    "collapsed": false
   },
   "source": [
    "## <span style=\"color:red\">Terilla</span>\n",
    "<span style=\"color:red\">Again, look at a larger interval to see how well $u_2$ matches at 1 and 5.\n",
    "</span>"
   ]
  },
  {
   "cell_type": "code",
   "execution_count": 15,
   "metadata": {
    "collapsed": false
   },
   "outputs": [
    {
     "data": {
      "image/png": "[encoded data removed]"
     }
    }
   ],
   "source": [
    "myplot=plot(sin(x),u12,(x,0,6),ylim=[-1.5,1.5],show=False)\n",
    "myplot[0].line_color = 'r'\n",
    "myplot[1].line_color = 'g'\n",
    "myplot.show()"
   ]
  },
  {
   "cell_type": "markdown",
   "metadata": {
    "collapsed": false
   },
   "source": [
    "# U3\n",
    "\\begin{align*}\n",
    " \\langle f,g\\rangle_3&=f(0)g(0)+f(2)g(2)+f(4)g(4)+f(6)g(6)\\\\\n",
    "\\end{align*}"
   ]
  },
  {
   "cell_type": "code",
   "execution_count": 16,
   "metadata": {
    "collapsed": false
   },
   "outputs": [
   ],
   "source": [
    "def u3(f,g):\n",
    "    return f.subs(x,0.0)*g.subs(x,0.0)+f.subs(x,2.0)*g.subs(x,2.0)+f.subs(x,4.0)*g.subs(x,4.0)+f.subs(x,6.0)*g.subs(x,6.0)"
   ]
  },
  {
   "cell_type": "code",
   "execution_count": 17,
   "metadata": {
    "collapsed": false
   },
   "outputs": [
   ],
   "source": [
    "k = 3 # max degree\n",
    "myE = [] # initialize the output with zeros\n",
    "for i in range(k+1):\n",
    "    fi=x**i\n",
    "    for j in range(i):\n",
    "        fi+=-u3(myE[j],x**i)*myE[j]\n",
    "    myE.append(fi/(sqrt(u3(fi,fi))))"
   ]
  },
  {
   "cell_type": "code",
   "execution_count": 18,
   "metadata": {
    "collapsed": false
   },
   "outputs": [
    {
     "name": "stdout",
     "output_type": "stream",
     "text": [
      "1/2\n",
      "0.223606797749979*x - 0.670820393249937\n",
      "0.125*x**2 - 0.75*x + 0.5\n",
      "0.0931694990624911*x**3 - 0.838525491562423*x**2 + 1.75158658237485*x - 0.223606797749988\n"
     ]
    }
   ],
   "source": [
    "for p in myE:\n",
    "    print p"
   ]
  },
  {
   "cell_type": "code",
   "execution_count": 19,
   "metadata": {
    "collapsed": false
   },
   "outputs": [
    {
     "name": "stdout",
     "output_type": "stream",
     "text": [
      "0.0983100889208734*x**3 - 0.911785202145156*x**2 + 1.88497876201967*x - 1.13797860024079e-14\n"
     ]
    }
   ],
   "source": [
    "u13=0\n",
    "for p in myE:\n",
    "    u13+= u3(sin(x),p) * p\n",
    "print u13"
   ]
  },
  {
   "cell_type": "code",
   "execution_count": 20,
   "metadata": {
    "collapsed": false
   },
   "outputs": [
    {
     "data": {
      "image/png": "[encoded data removed]"
     }
    }
   ],
   "source": [
    "myplot=plot(sin(x),u13,(x,-4,4),ylim=[-4,4],show=False)\n",
    "myplot[0].line_color = 'r'\n",
    "myplot[1].line_color = 'g'\n",
    "myplot.show()"
   ]
  },
  {
   "cell_type": "markdown",
   "metadata": {
    "collapsed": false
   },
   "source": [
    "# U4\n",
    "\\begin{align*}\n",
    " \\langle f,g\\rangle_4&=f(0)g(0)+f(3)g(3)+f'(3)g'(3)+f(6)g(6)\\\\\n",
    "\\end{align*}"
   ]
  },
  {
   "cell_type": "code",
   "execution_count": 21,
   "metadata": {
    "collapsed": false
   },
   "outputs": [
   ],
   "source": [
    "def u4(f,g):\n",
    "    df = f.diff(x)\n",
    "    dg = g.diff(x)\n",
    "    return f.subs(x,0.0)*g.subs(x,0.0)+f.subs(x,3.0)*g.subs(x,3.0)+df.subs(x,3.0)*dg.subs(x,3.0)+f.subs(x,6.0)*g.subs(x,6.0)"
   ]
  },
  {
   "cell_type": "code",
   "execution_count": 22,
   "metadata": {
    "collapsed": false
   },
   "outputs": [
   ],
   "source": [
    "k = 3 # max degree\n",
    "myE = [] # initialize the output with zeros\n",
    "for i in range(k+1):\n",
    "    fi=x**i\n",
    "    for j in range(i):\n",
    "        fi+=-u4(myE[j],x**i)*myE[j]\n",
    "    myE.append(fi/(sqrt(u4(fi,fi))))"
   ]
  },
  {
   "cell_type": "code",
   "execution_count": 23,
   "metadata": {
    "collapsed": false
   },
   "outputs": [
    {
     "name": "stdout",
     "output_type": "stream",
     "text": [
      "sqrt(3)/3\n",
      "0.229415733870562*x - 0.688247201611685\n",
      "0.136082763487954*x**2 - 0.816496580927726*x + 0.408248290463862\n",
      "0.114155814869796*x**3 - 1.02740233382816*x**2 + 2.10887847469991*x - 0.162221421130765\n"
     ]
    }
   ],
   "source": [
    "for p in myE:\n",
    "    print p"
   ]
  },
  {
   "cell_type": "code",
   "execution_count": 24,
   "metadata": {
    "collapsed": false
   },
   "outputs": [
    {
     "name": "stdout",
     "output_type": "stream",
     "text": [
      "0.104824805211181*x**3 - 0.974626331029442*x**2 + 2.02749574887432*x - 2.4980018054066e-15\n"
     ]
    }
   ],
   "source": [
    "u14=0\n",
    "for p in myE:\n",
    "    u14+= u4(sin(x),p) * p\n",
    "print u14"
   ]
  },
  {
   "cell_type": "code",
   "execution_count": 25,
   "metadata": {
    "collapsed": false
   },
   "outputs": [
    {
     "data": {
      "image/png": "[encoded data removed]"
     }
    }
   ],
   "source": [
    "myplot=plot(sin(x),u14,(x,-4,4),ylim=[-4,4],show=False)\n",
    "myplot[0].line_color = 'r'\n",
    "myplot[1].line_color = 'g'\n",
    "myplot.show()"
   ]
  },
  {
   "cell_type": "markdown",
   "metadata": {
    "collapsed": false
   },
   "source": [
    "# U5\n",
    "\\begin{align*}\n",
    " \\langle f,g\\rangle_5&=\\int_0^6 f(t)g(t)dt \\\\\n",
    "\\end{align*}"
   ]
  },
  {
   "cell_type": "code",
   "execution_count": 26,
   "metadata": {
    "collapsed": false
   },
   "outputs": [
   ],
   "source": [
    "import scipy.integrate as integrate"
   ]
  },
  {
   "cell_type": "code",
   "execution_count": 27,
   "metadata": {
    "collapsed": false
   },
   "outputs": [
   ],
   "source": [
    "def u5(f,g):\n",
    "    h=f*g;\n",
    "    return integrate.quad(lambda t: h.subs(x,t),0.0,6.0)[0]"
   ]
  },
  {
   "cell_type": "code",
   "execution_count": 28,
   "metadata": {
    "collapsed": false
   },
   "outputs": [
   ],
   "source": [
    "k = 3 # max degree\n",
    "myE = [] # initialize the output with zeros\n",
    "for i in range(k+1):\n",
    "    fi=x**i\n",
    "    for j in range(i):\n",
    "        fi+=-u5(myE[j],x**i)*myE[j]\n",
    "    myE.append(fi/(sqrt(u5(fi,fi))))"
   ]
  },
  {
   "cell_type": "code",
   "execution_count": 29,
   "metadata": {
    "collapsed": false
   },
   "outputs": [
    {
     "name": "stdout",
     "output_type": "stream",
     "text": [
      "0.408248290463863\n",
      "0.235702260395516*x - 0.707106781186548\n",
      "0.152145154862546*x**2 - 0.912870929175276*x + 0.912870929175276\n",
      "0.100011430530985*x**3 - 0.900102874778876*x**2 + 2.16024689946933*x - 1.08012344973468\n"
     ]
    }
   ],
   "source": [
    "for p in myE:\n",
    "    print p"
   ]
  },
  {
   "cell_type": "code",
   "execution_count": 30,
   "metadata": {
    "collapsed": false
   },
   "outputs": [
    {
     "name": "stdout",
     "output_type": "stream",
     "text": [
      "0.0975657436612037*x**3 - 0.913211464612763*x**2 + 1.97592056204524*x - 0.231135982929297\n"
     ]
    }
   ],
   "source": [
    "u15=0\n",
    "for p in myE:\n",
    "    u15+= u5(sin(x),p) * p\n",
    "print u15"
   ]
  },
  {
   "cell_type": "code",
   "execution_count": 31,
   "metadata": {
    "collapsed": false
   },
   "outputs": [
    {
     "data": {
      "image/png": "[encoded data removed]"
     }
    }
   ],
   "source": [
    "myplot=plot(sin(x),u15,(x,-4,4),ylim=[-4,4],show=False)\n",
    "myplot[0].line_color = 'r'\n",
    "myplot[1].line_color = 'g'\n",
    "myplot.show()"
   ]
  },
  {
   "cell_type": "markdown",
   "metadata": {
    "collapsed": false
   },
   "source": [
    "# U6\n",
    "\\begin{align*}\n",
    "\\langle f,g\\rangle_6&=f(3)g(3)+f'(3)g'(3)+f''(3)g''(3)+f'''(3)g'''(3)\\\\\n",
    "\\end{align*}"
   ]
  },
  {
   "cell_type": "code",
   "execution_count": 32,
   "metadata": {
    "collapsed": false
   },
   "outputs": [
   ],
   "source": [
    "def u6(f,g):\n",
    "    df = f.diff(x)\n",
    "    dg = g.diff(x)\n",
    "    df2 = df.diff(x)\n",
    "    dg2 = dg.diff(x)\n",
    "    df3 = df2.diff(x)\n",
    "    dg3 = dg2.diff(x)\n",
    "    return f.subs(x,3.0)*g.subs(x,3.0)+df.subs(x,3.0)*dg.subs(x,3.0)+df2.subs(x,3.0)*dg2.subs(x,3.0)+df3.subs(x,3.0)*dg3.subs(x,3.0)"
   ]
  },
  {
   "cell_type": "code",
   "execution_count": 33,
   "metadata": {
    "collapsed": false
   },
   "outputs": [
   ],
   "source": [
    "k = 3 # max degree\n",
    "myE = [] # initialize the output with zeros\n",
    "for i in range(k+1):\n",
    "    fi=x**i\n",
    "    for j in range(i):\n",
    "        fi+=-u6(myE[j],x**i)*myE[j]\n",
    "    myE.append(fi/(sqrt(u6(fi,fi))))"
   ]
  },
  {
   "cell_type": "code",
   "execution_count": 34,
   "metadata": {
    "collapsed": false
   },
   "outputs": [
    {
     "name": "stdout",
     "output_type": "stream",
     "text": [
      "1\n",
      "x - 3.0\n",
      "x**2/2 - 3.0*x + 4.5\n",
      "x**3/6 - 1.5*x**2 + 4.5*x - 4.5\n"
     ]
    }
   ],
   "source": [
    "for p in myE:\n",
    "    print p"
   ]
  },
  {
   "cell_type": "code",
   "execution_count": 35,
   "metadata": {
    "collapsed": false
   },
   "outputs": [
    {
     "name": "stdout",
     "output_type": "stream",
     "text": [
      "0.164998749433408*x**3 - 1.5555487489306*x**2 + 3.88833376228116*x - 1.9789087731102\n"
     ]
    }
   ],
   "source": [
    "u16=0\n",
    "for p in myE:\n",
    "    u16+= u6(sin(x),p) * p\n",
    "print u16"
   ]
  },
  {
   "cell_type": "code",
   "execution_count": 36,
   "metadata": {
    "collapsed": false
   },
   "outputs": [
    {
     "data": {
      "image/png": "[encoded data removed]"
     }
    }
   ],
   "source": [
    "myplot=plot(sin(x),u16,(x,-4,4),ylim=[-4,4],show=False)\n",
    "myplot[0].line_color = 'r'\n",
    "myplot[1].line_color = 'g'\n",
    "myplot.show()"
   ]
  },
  {
   "cell_type": "markdown",
   "metadata": {
    "collapsed": false
   },
   "source": [
    "# Conclusion"
   ]
  },
  {
   "cell_type": "markdown",
   "metadata": {
    "collapsed": false
   },
   "source": [
    "By looking at the graphs we can see how well each of the cubic polynomial approximations works to fit to the sin(t) function."
   ]
  },
  {
   "cell_type": "markdown",
   "metadata": {
    "collapsed": false
   },
   "source": [
    "We can plot all of them on the same graph to see which graph fits the best."
   ]
  },
  {
   "cell_type": "code",
   "execution_count": 37,
   "metadata": {
    "collapsed": false
   },
   "outputs": [
    {
     "data": {
      "image/png": "[encoded data removed]"
     }
    }
   ],
   "source": [
    "myplot=plot(sin(x),u11,u12,u13,u14,u15,u16,(x,-4,4),ylim=[-4,4],show=False)\n",
    "myplot[0].line_color = 'r' #sin(t) is red\n",
    "myplot[1].line_color = 'g' #U1 is green\n",
    "myplot[2].line_color = 'b' #U2 is blue\n",
    "myplot[3].line_color = 'c' #U3 is cyan\n",
    "myplot[4].line_color = 'm' #U4 is magenta\n",
    "myplot[5].line_color = 'y' #U5 is yellow\n",
    "myplot[6].line_color = 'k' #U6 is black\n",
    "myplot.show()"
   ]
  },
  {
   "cell_type": "markdown",
   "metadata": {
    "collapsed": false
   },
   "source": [
    "We can look at the graphs closer to see which approximates sin(t) the best. Let us make make graphs at different intervals to see which approximation is the best at which interval. For instance, we are going to use 9 intervals from $-\\pi/2$ to $\\pi$ in steps of $\\pi/6$ like this:\n",
    "$\\lbrack-\\pi/2,-\\pi/3\\rbrack$,\n",
    "$\\lbrack-\\pi/3,-\\pi/6\\rbrack$,\n",
    "$\\lbrack-\\pi/6,0\\rbrack$,\n",
    "$\\lbrack0,\\pi/6\\rbrack$,\n",
    "$\\lbrack \\pi/6,\\pi/3\\rbrack$,\n",
    "$\\lbrack \\pi/3,\\pi/2\\rbrack$,\n",
    "$\\lbrack \\pi/2,2\\pi/3\\rbrack$,\n",
    "$\\lbrack 2\\pi/3,5\\pi/6\\rbrack$,\n",
    "$\\lbrack 5\\pi/6,\\pi\\rbrack$."
   ]
  },
  {
   "cell_type": "code",
   "execution_count": 38,
   "metadata": {
    "collapsed": false
   },
   "outputs": [
   ],
   "source": [
    "from math import pi"
   ]
  },
  {
   "cell_type": "markdown",
   "metadata": {
    "collapsed": false
   },
   "source": [
    "# $\\lbrack-\\pi/2,-\\pi/3\\rbrack$"
   ]
  },
  {
   "cell_type": "code",
   "execution_count": 39,
   "metadata": {
    "collapsed": false
   },
   "outputs": [
    {
     "data": {
      "image/png": "[encoded data removed]"
     }
    }
   ],
   "source": [
    "myplot=plot(sin(x),u11,u12,u13,u14,u15,u16,(x,-pi/2.0,-pi/3.0),ylim=[-10.0,-0.5],show=False)\n",
    "myplot[0].line_color = 'r' #sin(t) is red\n",
    "myplot[1].line_color = 'g' #U1 is green\n",
    "myplot[2].line_color = 'b' #U2 is blue\n",
    "myplot[3].line_color = 'c' #U3 is cyan\n",
    "myplot[4].line_color = 'm' #U4 is magenta\n",
    "myplot[5].line_color = 'y' #U5 is yellow\n",
    "myplot[6].line_color = 'k' #U6 is black\n",
    "myplot.show()"
   ]
  },
  {
   "cell_type": "markdown",
   "metadata": {
    "collapsed": false
   },
   "source": [
    "# $\\lbrack-\\pi/3,-\\pi/6\\rbrack$"
   ]
  },
  {
   "cell_type": "code",
   "execution_count": 40,
   "metadata": {
    "collapsed": false
   },
   "outputs": [
    {
     "data": {
      "image/png": "[encoded data removed]"
     }
    }
   ],
   "source": [
    "myplot=plot(sin(x),u11,u12,u13,u14,u15,u16,(x,-pi/3.0,-pi/6.0),ylim=[-3.5,-0.5],show=False)\n",
    "myplot[0].line_color = 'r' #sin(t) is red\n",
    "myplot[1].line_color = 'g' #U1 is green\n",
    "myplot[2].line_color = 'b' #U2 is blue\n",
    "myplot[3].line_color = 'c' #U3 is cyan\n",
    "myplot[4].line_color = 'm' #U4 is magenta\n",
    "myplot[5].line_color = 'y' #U5 is yellow\n",
    "myplot[6].line_color = 'k' #U6 is black\n",
    "myplot.show()"
   ]
  },
  {
   "cell_type": "markdown",
   "metadata": {
    "collapsed": false
   },
   "source": [
    "# $\\lbrack-\\pi/6,0\\rbrack$"
   ]
  },
  {
   "cell_type": "code",
   "execution_count": 41,
   "metadata": {
    "collapsed": false
   },
   "outputs": [
    {
     "data": {
      "image/png": "[encoded data removed]"
     }
    }
   ],
   "source": [
    "myplot=plot(sin(x),u11,u12,u13,u14,u15,u16,(x,-pi/6.0,0.0),ylim=[-2.5,0.5],show=False)\n",
    "myplot[0].line_color = 'r' #sin(t) is red\n",
    "myplot[1].line_color = 'g' #U1 is green\n",
    "myplot[2].line_color = 'b' #U2 is blue\n",
    "myplot[3].line_color = 'c' #U3 is cyan\n",
    "myplot[4].line_color = 'm' #U4 is magenta\n",
    "myplot[5].line_color = 'y' #U5 is yellow\n",
    "myplot[6].line_color = 'k' #U6 is black\n",
    "myplot.show()"
   ]
  },
  {
   "cell_type": "markdown",
   "metadata": {
    "collapsed": false
   },
   "source": [
    "# $\\lbrack0,\\pi/6\\rbrack$"
   ]
  },
  {
   "cell_type": "code",
   "execution_count": 42,
   "metadata": {
    "collapsed": false
   },
   "outputs": [
    {
     "data": {
      "image/png": "[encoded data removed]"
     }
    }
   ],
   "source": [
    "myplot=plot(sin(x),u11,u12,u13,u14,u15,u16,(x,0.0,pi/6.0),ylim=[-2.5,1.0],show=False)\n",
    "myplot[0].line_color = 'r' #sin(t) is red\n",
    "myplot[1].line_color = 'g' #U1 is green\n",
    "myplot[2].line_color = 'b' #U2 is blue\n",
    "myplot[3].line_color = 'c' #U3 is cyan\n",
    "myplot[4].line_color = 'm' #U4 is magenta\n",
    "myplot[5].line_color = 'y' #U5 is yellow\n",
    "myplot[6].line_color = 'k' #U6 is black\n",
    "myplot.show()"
   ]
  },
  {
   "cell_type": "markdown",
   "metadata": {
    "collapsed": false
   },
   "source": [
    "# $\\lbrack \\pi/6,\\pi/3\\rbrack$"
   ]
  },
  {
   "cell_type": "code",
   "execution_count": 43,
   "metadata": {
    "collapsed": false
   },
   "outputs": [
    {
     "data": {
      "image/png": "[encoded data removed]"
     }
    }
   ],
   "source": [
    "myplot=plot(sin(x),u11,u12,u13,u14,u15,u16,(x,pi/6.0,pi/3.0),ylim=[-1.0,1.5],show=False)\n",
    "myplot[0].line_color = 'r' #sin(t) is red\n",
    "myplot[1].line_color = 'g' #U1 is green\n",
    "myplot[2].line_color = 'b' #U2 is blue\n",
    "myplot[3].line_color = 'c' #U3 is cyan\n",
    "myplot[4].line_color = 'm' #U4 is magenta\n",
    "myplot[5].line_color = 'y' #U5 is yellow\n",
    "myplot[6].line_color = 'k' #U6 is black\n",
    "myplot.show()"
   ]
  },
  {
   "cell_type": "markdown",
   "metadata": {
    "collapsed": false
   },
   "source": [
    "# $\\lbrack \\pi/3,\\pi/2\\rbrack$"
   ]
  },
  {
   "cell_type": "code",
   "execution_count": 44,
   "metadata": {
    "collapsed": false
   },
   "outputs": [
    {
     "data": {
      "image/png": "[encoded data removed]"
     }
    }
   ],
   "source": [
    "myplot=plot(sin(x),u11,u12,u13,u14,u15,u16,(x,pi/3.0,pi/2.0),ylim=[0.5,1.5],show=False)\n",
    "myplot[0].line_color = 'r' #sin(t) is red\n",
    "myplot[1].line_color = 'g' #U1 is green\n",
    "myplot[2].line_color = 'b' #U2 is blue\n",
    "myplot[3].line_color = 'c' #U3 is cyan\n",
    "myplot[4].line_color = 'm' #U4 is magenta\n",
    "myplot[5].line_color = 'y' #U5 is yellow\n",
    "myplot[6].line_color = 'k' #U6 is black\n",
    "myplot.show()"
   ]
  },
  {
   "cell_type": "markdown",
   "metadata": {
    "collapsed": false
   },
   "source": [
    "# $\\lbrack \\pi/2,2\\pi/3\\rbrack$"
   ]
  },
  {
   "cell_type": "code",
   "execution_count": 45,
   "metadata": {
    "collapsed": false
   },
   "outputs": [
    {
     "data": {
      "image/png": "[encoded data removed]"
     }
    }
   ],
   "source": [
    "myplot=plot(sin(x),u11,u12,u13,u14,u15,u16,(x,pi/2.0,2.0*pi/3.0),ylim=[0.8,1.2],show=False)\n",
    "myplot[0].line_color = 'r' #sin(t) is red\n",
    "myplot[1].line_color = 'g' #U1 is green\n",
    "myplot[2].line_color = 'b' #U2 is blue\n",
    "myplot[3].line_color = 'c' #U3 is cyan\n",
    "myplot[4].line_color = 'm' #U4 is magenta\n",
    "myplot[5].line_color = 'y' #U5 is yellow\n",
    "myplot[6].line_color = 'k' #U6 is black\n",
    "myplot.show()"
   ]
  },
  {
   "cell_type": "markdown",
   "metadata": {
    "collapsed": false
   },
   "source": [
    "# $\\lbrack 2\\pi/3,5\\pi/6\\rbrack$"
   ]
  },
  {
   "cell_type": "code",
   "execution_count": 46,
   "metadata": {
    "collapsed": false
   },
   "outputs": [
    {
     "data": {
      "image/png": "[encoded data removed]"
     }
    }
   ],
   "source": [
    "myplot=plot(sin(x),u11,u12,u13,u14,u15,u16,(x,2.0*pi/3.0,5.0*pi/6.0),ylim=[0.2,0.8],show=False)\n",
    "myplot[0].line_color = 'r' #sin(t) is red\n",
    "myplot[1].line_color = 'g' #U1 is green\n",
    "myplot[2].line_color = 'b' #U2 is blue\n",
    "myplot[3].line_color = 'c' #U3 is cyan\n",
    "myplot[4].line_color = 'm' #U4 is magenta\n",
    "myplot[5].line_color = 'y' #U5 is yellow\n",
    "myplot[6].line_color = 'k' #U6 is black\n",
    "myplot.show()"
   ]
  },
  {
   "cell_type": "markdown",
   "metadata": {
    "collapsed": false
   },
   "source": [
    "# $\\lbrack 5\\pi/6,\\pi\\rbrack$"
   ]
  },
  {
   "cell_type": "code",
   "execution_count": 47,
   "metadata": {
    "collapsed": false
   },
   "outputs": [
    {
     "data": {
      "image/png": "[encoded data removed]"
     }
    }
   ],
   "source": [
    "myplot=plot(sin(x),u11,u12,u13,u14,u15,u16,(x,5.0*pi/6.0,pi),ylim=[-0.2,0.4],show=False)\n",
    "myplot[0].line_color = 'r' #sin(t) is red\n",
    "myplot[1].line_color = 'g' #U1 is green\n",
    "myplot[2].line_color = 'b' #U2 is blue\n",
    "myplot[3].line_color = 'c' #U3 is cyan\n",
    "myplot[4].line_color = 'm' #U4 is magenta\n",
    "myplot[5].line_color = 'y' #U5 is yellow\n",
    "myplot[6].line_color = 'k' #U6 is black\n",
    "myplot.show()"
   ]
  },
  {
   "cell_type": "markdown",
   "metadata": {
    "collapsed": false
   },
   "source": [
    "U1 has an advantage at the negative x-axis from $-pi/2$ to $0$. It also is almost exactly approximates $\\sin(t)$ at the zero point. From $0$ to $pi/6$ U5 has an advantage. From $pi/6$ to $pi/3$ U2 has a good approximation. From $pi/3$ to $pi/2$ U2 and U5 are both closest to the red line of $\\sin(t)$. From $pi/2$ to $2pi/3$ U3 and U6 are closest. From $2pi/3$ to $pi$ U6 is a very good approximation to the $\\sin(t)$."
   ]
  },
  {
   "cell_type": "markdown",
   "metadata": {
    "collapsed": false
   },
   "source": [
    "In conclusion, we believe that around zero U1 has the best approximation, at around $pi$ U6 is the best approximation, and in between them U2 is the best approximation."
   ]
  }
 ],
 "metadata": {
  "kernelspec": {
   "display_name": "Python 2 (SageMath)",
   "language": "python",
   "name": "python2"
  },
  "language_info": {
   "codemirror_mode": {
    "name": "ipython",
    "version": 2
   },
   "file_extension": ".py",
   "mimetype": "text/x-python",
   "name": "python",
   "nbconvert_exporter": "python",
   "pygments_lexer": "ipython2",
   "version": "2.7.13"
  }
 },
 "nbformat": 4,
 "nbformat_minor": 0
}