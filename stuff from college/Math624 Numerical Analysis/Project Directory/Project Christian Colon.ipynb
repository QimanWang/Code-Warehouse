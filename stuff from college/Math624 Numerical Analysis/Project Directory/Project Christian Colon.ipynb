{
 "cells": [
  {
   "cell_type": "code",
   "execution_count": 4,
   "metadata": {
    "collapsed": false
   },
   "outputs": [
   ],
   "source": [
    "import numpy as np"
   ]
  },
  {
   "cell_type": "code",
   "execution_count": 5,
   "metadata": {
    "collapsed": false
   },
   "outputs": [
   ],
   "source": [
    "import sympy as sp"
   ]
  },
  {
   "cell_type": "code",
   "execution_count": 6,
   "metadata": {
    "collapsed": false
   },
   "outputs": [
   ],
   "source": [
    "x = sp.Symbol('x')"
   ]
  },
  {
   "cell_type": "markdown",
   "metadata": {
    "collapsed": false
   },
   "source": [
    "# U1"
   ]
  },
  {
   "cell_type": "code",
   "execution_count": 7,
   "metadata": {
    "collapsed": false
   },
   "outputs": [
   ],
   "source": [
    "def u1(f,g):\n",
    "    df1 = sp.diff(f,x)\n",
    "    dg1 = sp.diff(g,x)\n",
    "    return f.subs(x,0.0)*g.subs(x,0.0) + df1.subs(x,0.0)*dg1.subs(x,0.0) + f.subs(x,6.0)*g.subs(x,6.0) + df1.subs(x,6.0)*dg1.subs(x,6.0)"
   ]
  },
  {
   "cell_type": "code",
   "execution_count": 5,
   "metadata": {
    "collapsed": false
   },
   "outputs": [
   ],
   "source": [
    "#Finds basis for subspace of polynomials of degree <= 3\n",
    "k=3 # max degree\n",
    "myF=[] # initialize the output with zeros\n",
    "for i in range(k+1):\n",
    "    fi=x**i\n",
    "    for j in range(i):\n",
    "        fi+=-u1(myF[j],x**i)*myF[j]\n",
    "    myF.append(fi/(sp.sqrt(u1(fi,fi))))"
   ]
  },
  {
   "cell_type": "code",
   "execution_count": 6,
   "metadata": {
    "collapsed": false
   },
   "outputs": [
    {
     "data": {
      "text/plain": [
       "[sqrt(2)/2,\n",
       " 0.223606797749979*x - 0.670820393249937,\n",
       " 0.117851130197758*x**2 - 0.707106781186547*x,\n",
       " 0.0414086662499961*x**3 - 0.372677996249966*x**2 + 0.670820393249943*x + 0.22360679774998]"
      ]
     },
     "execution_count": 6,
     "metadata": {
     },
     "output_type": "execute_result"
    }
   ],
   "source": [
    "myF"
   ]
  },
  {
   "cell_type": "code",
   "execution_count": 7,
   "metadata": {
    "collapsed": false
   },
   "outputs": [
    {
     "name": "stdout",
     "output_type": "stream",
     "text": [
      "0.0570363551680557*x**3 - 0.516646339291639*x**2 + 1.00000000000001*x + 9.99200722162641e-16\n"
     ]
    }
   ],
   "source": [
    "#Projection of sin onto subspace of polynomials of degree <= 3\n",
    "u=0\n",
    "for p in myF:\n",
    "    u+= u1(sp.sin(x),p) * p\n",
    "print(u)"
   ]
  },
  {
   "cell_type": "code",
   "execution_count": 8,
   "metadata": {
    "collapsed": false
   },
   "outputs": [
    {
     "data": {
      "image/png": "[encoded data removed]"
     }
    }
   ],
   "source": [
    "myplot=sp.plot(sp.sin(x),u,(x,-5,5),ylim=[-5,5],show=False)\n",
    "myplot[0].line_color = 'r'\n",
    "myplot[1].line_color = 'g'\n",
    "myplot.show()"
   ]
  },
  {
   "cell_type": "markdown",
   "metadata": {
    "collapsed": false
   },
   "source": [
    "# U2\n"
   ]
  },
  {
   "cell_type": "code",
   "execution_count": 9,
   "metadata": {
    "collapsed": false
   },
   "outputs": [
   ],
   "source": [
    "def u2(f,g):\n",
    "    df1 = sp.diff(f,x)\n",
    "    dg1 = sp.diff(g,x)\n",
    "    return f.subs(x,1.0)*g.subs(x,1.0) + df1.subs(x,1.0)*dg1.subs(x,1.0) + f.subs(x,5.0)*g.subs(x,5.0) + df1.subs(x,5.0)*dg1.subs(x,5.0)"
   ]
  },
  {
   "cell_type": "code",
   "execution_count": 10,
   "metadata": {
    "collapsed": false
   },
   "outputs": [
   ],
   "source": [
    "#Finds basis for subspace of polynomials of degree <= 3\n",
    "k=3 # max degree\n",
    "myF=[] # initialize the output with zeros\n",
    "for i in range(k+1):\n",
    "    fi=x**i\n",
    "    for j in range(i):\n",
    "        fi+=-u2(myF[j],x**i)*myF[j]\n",
    "    myF.append(fi/(sp.sqrt(u2(fi,fi))))"
   ]
  },
  {
   "cell_type": "code",
   "execution_count": 11,
   "metadata": {
    "collapsed": false
   },
   "outputs": [
    {
     "data": {
      "text/plain": [
       "[sqrt(2)/2,\n",
       " 0.316227766016838*x - 0.948683298050514,\n",
       " 0.176776695296637*x**2 - 1.06066017177982*x + 0.883883476483185,\n",
       " 0.0988211768802619*x**3 - 0.889390591922356*x**2 + 2.1147731852376*x - 1.00797600417867]"
      ]
     },
     "execution_count": 11,
     "metadata": {
     },
     "output_type": "execute_result"
    }
   ],
   "source": [
    "myF"
   ]
  },
  {
   "cell_type": "code",
   "execution_count": 12,
   "metadata": {
    "collapsed": false
   },
   "outputs": [
    {
     "name": "stdout",
     "output_type": "stream",
     "text": [
      "0.10776013256668*x**3 - 1.00192120815073*x**2 + 2.22086432446957*x - 0.485232264077618\n"
     ]
    }
   ],
   "source": [
    "#Projection of sin onto subspace of polynomials of degree <= 3\n",
    "u=0\n",
    "for p in myF:\n",
    "    u+= u2(sp.sin(x),p) * p\n",
    "print(u)"
   ]
  },
  {
   "cell_type": "code",
   "execution_count": 13,
   "metadata": {
    "collapsed": false
   },
   "outputs": [
    {
     "data": {
      "image/png": "[encoded data removed]"
     }
    }
   ],
   "source": [
    "myplot=sp.plot(sp.sin(x),u,(x,-5,5),ylim=[-5,5],show=False)\n",
    "myplot[0].line_color = 'r'\n",
    "myplot[1].line_color = 'g'\n",
    "myplot.show()"
   ]
  },
  {
   "cell_type": "markdown",
   "metadata": {
    "collapsed": false
   },
   "source": [
    "# U3"
   ]
  },
  {
   "cell_type": "code",
   "execution_count": 14,
   "metadata": {
    "collapsed": false
   },
   "outputs": [
   ],
   "source": [
    "#INNER PRODUCT U3\n",
    "def u3(f,g):\n",
    "#      return f(0.0)*g(0.0) + f(2.0)*g(2.0) + f(4.0)*g(4.0) + f(6.0)*g(6.0)\n",
    "    return f.subs(x,0.0)*g.subs(x,0.0) + f.subs(x,2.0)*g.subs(x,2.0) + f.subs(x,4.0)*g.subs(x,4.0) + f.subs(x,6.0)*g.subs(x,6.0)"
   ]
  },
  {
   "cell_type": "code",
   "execution_count": 15,
   "metadata": {
    "collapsed": false
   },
   "outputs": [
   ],
   "source": [
    "#Finds basis for subspace of polynomials of degree <= 3\n",
    "k=3 # max degree\n",
    "myF=[] # initialize the output with zeros\n",
    "for i in range(k+1):\n",
    "    fi=x**i\n",
    "    for j in range(i):\n",
    "        fi+=-u3(myF[j],x**i)*myF[j]\n",
    "    myF.append(fi/(sp.sqrt(u3(fi,fi))))"
   ]
  },
  {
   "cell_type": "code",
   "execution_count": 16,
   "metadata": {
    "collapsed": false,
    "scrolled": true
   },
   "outputs": [
    {
     "data": {
      "text/plain": [
       "[1/2,\n",
       " 0.223606797749979*x - 0.670820393249937,\n",
       " 0.125*x**2 - 0.75*x + 0.5,\n",
       " 0.0931694990624911*x**3 - 0.838525491562423*x**2 + 1.75158658237485*x - 0.223606797749988]"
      ]
     },
     "execution_count": 16,
     "metadata": {
     },
     "output_type": "execute_result"
    }
   ],
   "source": [
    "myF"
   ]
  },
  {
   "cell_type": "code",
   "execution_count": 17,
   "metadata": {
    "collapsed": false
   },
   "outputs": [
    {
     "name": "stdout",
     "output_type": "stream",
     "text": [
      "0.0983100889208734*x**3 - 0.911785202145156*x**2 + 1.88497876201967*x - 1.13797860024079e-14\n"
     ]
    }
   ],
   "source": [
    "#Projection of sin onto subspace of polynomials of degree <= 3\n",
    "u=0\n",
    "for p in myF:\n",
    "    u+= u3(sp.sin(x),p) * p\n",
    "print(u)"
   ]
  },
  {
   "cell_type": "code",
   "execution_count": 18,
   "metadata": {
    "collapsed": false
   },
   "outputs": [
    {
     "data": {
      "image/png": "[encoded data removed]"
     }
    }
   ],
   "source": [
    "myplot=sp.plot(sp.sin(x),u,(x,-5,5),ylim=[-5,5],show=False)\n",
    "myplot[0].line_color = 'r'\n",
    "myplot[1].line_color = 'g'\n",
    "myplot.show()"
   ]
  },
  {
   "cell_type": "markdown",
   "metadata": {
    "collapsed": false
   },
   "source": [
    "# U4"
   ]
  },
  {
   "cell_type": "code",
   "execution_count": 19,
   "metadata": {
    "collapsed": false
   },
   "outputs": [
    {
     "data": {
      "text/plain": [
       "-sin(x)"
      ]
     },
     "execution_count": 19,
     "metadata": {
     },
     "output_type": "execute_result"
    }
   ],
   "source": [
    "#derivative\n",
    "sp.diff(sp.cos(x), x) # second parameter is with respect to (x) , adding more x,x,x, will correspond to nth derivative"
   ]
  },
  {
   "cell_type": "code",
   "execution_count": 20,
   "metadata": {
    "collapsed": false
   },
   "outputs": [
   ],
   "source": [
    "def u4(f,g):\n",
    "    df1 = sp.diff(f,x)\n",
    "    dg1 = sp.diff(g,x)\n",
    "    return f.subs(x,0.0)*g.subs(x,0.0) + f.subs(x,3.0)*g.subs(x,3.0) + df1.subs(x,3.0)*dg1.subs(x,3.0) + f.subs(x,6.0)*g.subs(x,6.0)"
   ]
  },
  {
   "cell_type": "code",
   "execution_count": 21,
   "metadata": {
    "collapsed": false
   },
   "outputs": [
   ],
   "source": [
    "#Finds basis for subspace of polynomials of degree <= 3\n",
    "k=3 # max degree\n",
    "myF=[] # initialize the output with zeros\n",
    "for i in range(k+1):\n",
    "    fi=x**i\n",
    "    for j in range(i):\n",
    "        fi+=-u4(myF[j],x**i)*myF[j]\n",
    "    myF.append(fi/(sp.sqrt(u4(fi,fi))))"
   ]
  },
  {
   "cell_type": "code",
   "execution_count": 22,
   "metadata": {
    "collapsed": false
   },
   "outputs": [
    {
     "data": {
      "text/plain": [
       "[sqrt(3)/3,\n",
       " 0.229415733870562*x - 0.688247201611685,\n",
       " 0.136082763487954*x**2 - 0.816496580927726*x + 0.408248290463862,\n",
       " 0.114155814869796*x**3 - 1.02740233382816*x**2 + 2.10887847469991*x - 0.162221421130765]"
      ]
     },
     "execution_count": 22,
     "metadata": {
     },
     "output_type": "execute_result"
    }
   ],
   "source": [
    "myF"
   ]
  },
  {
   "cell_type": "code",
   "execution_count": 23,
   "metadata": {
    "collapsed": false
   },
   "outputs": [
    {
     "name": "stdout",
     "output_type": "stream",
     "text": [
      "0.104824805211181*x**3 - 0.974626331029442*x**2 + 2.02749574887432*x - 2.4980018054066e-15\n"
     ]
    }
   ],
   "source": [
    "#Projection of sin onto subspace of polynomials of degree <= 3\n",
    "u=0\n",
    "for p in myF:\n",
    "    u+= u4(sp.sin(x),p) * p\n",
    "print(u)"
   ]
  },
  {
   "cell_type": "code",
   "execution_count": 24,
   "metadata": {
    "collapsed": false
   },
   "outputs": [
    {
     "data": {
      "image/png": "[encoded data removed]"
     }
    }
   ],
   "source": [
    "myplot=sp.plot(sp.sin(x),u,(x,-5,5),ylim=[-5,5],show=False)\n",
    "myplot[0].line_color = 'r'\n",
    "myplot[1].line_color = 'g'\n",
    "myplot.show()"
   ]
  },
  {
   "cell_type": "markdown",
   "metadata": {
    "collapsed": false
   },
   "source": [
    "# U5"
   ]
  },
  {
   "cell_type": "code",
   "execution_count": 8,
   "metadata": {
    "collapsed": false
   },
   "outputs": [
   ],
   "source": [
    "import scipy.integrate as integrate\n",
    "def u5(f,g):\n",
    "    h=f*g;\n",
    "    return integrate.quad(lambda t: h.subs(x,t),0,6)[0]"
   ]
  },
  {
   "cell_type": "code",
   "execution_count": 9,
   "metadata": {
    "collapsed": false
   },
   "outputs": [
   ],
   "source": [
    "#Finds basis for subspace of polynomials of degree <= 3\n",
    "k=3 # max degree\n",
    "myF=[] # initialize the output with zeros\n",
    "for i in range(k+1):\n",
    "    fi=x**i\n",
    "    for j in range(i):\n",
    "        fi+=-u5(myF[j],x**i)*myF[j]\n",
    "    myF.append(fi/(sp.sqrt(u5(fi,fi))))"
   ]
  },
  {
   "cell_type": "code",
   "execution_count": 10,
   "metadata": {
    "collapsed": false
   },
   "outputs": [
    {
     "data": {
      "text/plain": [
       "[0.408248290463863,\n",
       " 0.235702260395516*x - 0.707106781186548,\n",
       " 0.152145154862546*x**2 - 0.912870929175276*x + 0.912870929175276,\n",
       " 0.100011430530985*x**3 - 0.900102874778876*x**2 + 2.16024689946933*x - 1.08012344973468]"
      ]
     },
     "execution_count": 10,
     "metadata": {
     },
     "output_type": "execute_result"
    }
   ],
   "source": [
    "myF"
   ]
  },
  {
   "cell_type": "code",
   "execution_count": 11,
   "metadata": {
    "collapsed": false
   },
   "outputs": [
    {
     "name": "stdout",
     "output_type": "stream",
     "text": [
      "0.0975657436612037*x**3 - 0.913211464612763*x**2 + 1.97592056204524*x - 0.231135982929297\n"
     ]
    }
   ],
   "source": [
    "#Projection of sin onto subspace of polynomials of degree <= 3\n",
    "u=0\n",
    "for p in myF:\n",
    "    u+= u5(sp.sin(x),p) * p\n",
    "print(u)"
   ]
  },
  {
   "cell_type": "code",
   "execution_count": 12,
   "metadata": {
    "collapsed": false
   },
   "outputs": [
    {
     "data": {
      "image/png": "[encoded data removed]"
     }
    }
   ],
   "source": [
    "myplot=sp.plot(sp.sin(x),u,(x,-5,5),ylim=[-5,5],show=False)\n",
    "myplot[0].line_color = 'r'\n",
    "myplot[1].line_color = 'g'\n",
    "myplot.show()"
   ]
  },
  {
   "cell_type": "markdown",
   "metadata": {
    "collapsed": false
   },
   "source": [
    "# U6\n"
   ]
  },
  {
   "cell_type": "code",
   "execution_count": 30,
   "metadata": {
    "collapsed": false
   },
   "outputs": [
   ],
   "source": [
    "def u6(f,g):\n",
    "    df1 = sp.diff(f,x)\n",
    "    dg1 = sp.diff(g,x)\n",
    "    df2 = sp.diff(f,x,x)\n",
    "    dg2 = sp.diff(g,x,x)\n",
    "    df3 = sp.diff(f,x,x,x)\n",
    "    dg3 = sp.diff(g,x,x,x)\n",
    "    return f.subs(x,3.0)*g.subs(x,3.0) + df1.subs(x,3.0)*dg1.subs(x,3.0) + df2.subs(x,3.0)*dg2.subs(x,3.0) +             df3.subs(x,3.0)*dg3.subs(x,3.0)"
   ]
  },
  {
   "cell_type": "code",
   "execution_count": 31,
   "metadata": {
    "collapsed": false
   },
   "outputs": [
   ],
   "source": [
    "#Finds basis for subspace of polynomials of degree <= 3\n",
    "k=3 # max degree\n",
    "myF=[] # initialize the output with zeros\n",
    "for i in range(k+1):\n",
    "    fi=x**i\n",
    "    for j in range(i):\n",
    "        fi+=-u6(myF[j],x**i)*myF[j]\n",
    "    myF.append(fi/(sp.sqrt(u6(fi,fi))))"
   ]
  },
  {
   "cell_type": "code",
   "execution_count": 32,
   "metadata": {
    "collapsed": false
   },
   "outputs": [
    {
     "data": {
      "text/plain": [
       "[1, x - 3.0, x**2/2 - 3.0*x + 4.5, x**3/6 - 1.5*x**2 + 4.5*x - 4.5]"
      ]
     },
     "execution_count": 32,
     "metadata": {
     },
     "output_type": "execute_result"
    }
   ],
   "source": [
    "myF"
   ]
  },
  {
   "cell_type": "code",
   "execution_count": 33,
   "metadata": {
    "collapsed": false
   },
   "outputs": [
    {
     "name": "stdout",
     "output_type": "stream",
     "text": [
      "0.164998749433408*x**3 - 1.5555487489306*x**2 + 3.88833376228116*x - 1.9789087731102\n"
     ]
    }
   ],
   "source": [
    "#Projection of sin onto subspace of polynomials of degree <= 3\n",
    "u=0\n",
    "for p in myF:\n",
    "    u+= u6(sp.sin(x),p) * p\n",
    "print(u)"
   ]
  },
  {
   "cell_type": "code",
   "execution_count": 34,
   "metadata": {
    "collapsed": false
   },
   "outputs": [
    {
     "data": {
      "image/png": "[encoded data removed]"
     }
    }
   ],
   "source": [
    "myplot=sp.plot(sp.sin(x),u,(x,-5,5),ylim=[-5,5],show=False)\n",
    "myplot[0].line_color = 'r'\n",
    "myplot[1].line_color = 'g'\n",
    "myplot.show()"
   ]
  },
  {
   "cell_type": "code",
   "execution_count": 0,
   "metadata": {
    "collapsed": false
   },
   "outputs": [
   ],
   "source": [
   ]
  }
 ],
 "metadata": {
  "kernelspec": {
   "display_name": "Python 2 (SageMath)",
   "language": "python",
   "name": "python2"
  },
  "language_info": {
   "codemirror_mode": {
    "name": "ipython",
    "version": 2
   },
   "file_extension": ".py",
   "mimetype": "text/x-python",
   "name": "python",
   "nbconvert_exporter": "python",
   "pygments_lexer": "ipython2",
   "version": "2.7.13"
  }
 },
 "nbformat": 4,
 "nbformat_minor": 0
}