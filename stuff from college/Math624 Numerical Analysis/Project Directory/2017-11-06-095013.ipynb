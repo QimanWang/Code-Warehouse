{
 "cells": [
  {
   "cell_type": "code",
   "execution_count": 1,
   "metadata": {
    "collapsed": false
   },
   "outputs": [
   ],
   "source": [
    "import numpy as np\n",
    "import math\n",
    "import matplotlib\n",
    "import matplotlib.pyplot as plt"
   ]
  },
  {
   "cell_type": "code",
   "execution_count": 2,
   "metadata": {
    "collapsed": false
   },
   "outputs": [
   ],
   "source": [
    "%matplotlib inline"
   ]
  },
  {
   "cell_type": "code",
   "execution_count": 3,
   "metadata": {
    "collapsed": false
   },
   "outputs": [
   ],
   "source": [
    "def inner_product(f,g,network_params):\n",
    "    points = np.linspace(0,2 * np.pi,100)\n",
    "    sum = 0\n",
    "    for point in points:\n",
    "        sum = sum + f(network_params,point) * g(network_params,point)\n",
    "    return sum"
   ]
  },
  {
   "cell_type": "code",
   "execution_count": 4,
   "metadata": {
    "collapsed": false
   },
   "outputs": [
   ],
   "source": [
    "#Cost function\n",
    "def norm_of_u_minus_sin_squared(x):\n",
    "    u = network_function\n",
    "    #y is input to sine and network\n",
    "    u_minus_sin = lambda x,y: u(x,y) - np.sin(y)\n",
    "    return 0.5 * inner_product(u_minus_sin,u_minus_sin,x)"
   ]
  },
  {
   "cell_type": "code",
   "execution_count": 5,
   "metadata": {
    "collapsed": false
   },
   "outputs": [
   ],
   "source": [
    "def sigmoid(x):\n",
    "    return 1 / (1 + math.exp(-x))"
   ]
  },
  {
   "cell_type": "markdown",
   "metadata": {
    "collapsed": false
   },
   "source": [
    "Network parameters is represnted as [$\\alpha_{0},\\theta^0_{0},\\theta^0_{1},\\alpha_{1},\\theta^1_{0},\\theta^1_{1},\\alpha_{2},\\theta^2_{0},\\theta^2_{1},\\alpha_{3},\\theta^3_{0},\\theta^3_{1}$]"
   ]
  },
  {
   "cell_type": "code",
   "execution_count": 6,
   "metadata": {
    "collapsed": false
   },
   "outputs": [
   ],
   "source": [
    "def network_function(network_params,x):\n",
    "    first_term = network_params[0] * sigmoid(network_params[1]+ network_params[2] * x)\n",
    "    second_term = network_params[3] * sigmoid(network_params[4] + network_params[5]* x)\n",
    "    third_term = network_params[6] * sigmoid(network_params[7] + network_params[8]* x)\n",
    "    fourth_term = network_params[9] * sigmoid(network_params[10] + network_params[11]* x)\n",
    "    return first_term + second_term + third_term + fourth_term"
   ]
  },
  {
   "cell_type": "code",
   "execution_count": 7,
   "metadata": {
    "collapsed": false
   },
   "outputs": [
   ],
   "source": [
    "def eval_numerical_gradient(f, x):\n",
    "    \"\"\" \n",
    "    a naive implementation of numerical gradient of f at x\n",
    "    - f should be a function that takes a single argument\n",
    "    - x is the point (numpy array) to evaluate the gradient at\n",
    "    \"\"\"\n",
    "    fx = f(x) # evaluate function value at original point\n",
    "    grad = np.zeros(x.shape)\n",
    "    h = 0.00001\n",
    "\n",
    "    # iterate over all indexes in x\n",
    "    it = np.nditer(x, flags=['multi_index'], op_flags=['readwrite'])\n",
    "    while not it.finished:\n",
    "\n",
    "        # evaluate function at x+h\n",
    "        ix = it.multi_index\n",
    "        old_value = x[ix]\n",
    "        x[ix] = old_value + h # increment by h\n",
    "        fxh = f(x) # evalute f(x + h)\n",
    "        x[ix] = old_value # restore to previous value (very important!)\n",
    "        # compute the partial derivative\n",
    "        grad[ix] = (fxh - fx) / h # the slope\n",
    "        it.iternext() # step to next dimension\n",
    "    return grad"
   ]
  },
  {
   "cell_type": "code",
   "execution_count": 8,
   "metadata": {
    "collapsed": false
   },
   "outputs": [
   ],
   "source": [
    "def not_below_tolerance(x_new,x_old,tolerance):\n",
    "    for i in range(len(x_new)):\n",
    "        if(abs(x_new[i] - x_old[i]) > tolerance):\n",
    "            return True\n",
    "    return False"
   ]
  },
  {
   "cell_type": "code",
   "execution_count": 9,
   "metadata": {
    "collapsed": false
   },
   "outputs": [
    {
     "name": "stdout",
     "output_type": "stream",
     "text": [
      "Local minimum occurs at: [ 0.46956299  0.39338222 -0.39940059 -0.41640588  0.07608199  0.43413529\n",
      "  0.26036769  0.14582295 -0.46018747  0.00387464  0.41308418 -0.30770448]\n",
      "Number of steps: 152\n",
      "minimum value is: 18.0651260685\n"
     ]
    }
   ],
   "source": [
    "x_old = np.random.rand(12)\n",
    "h = 0.0001 # step size\n",
    "precision = 0.01\n",
    "\n",
    "x_list = [x_old]\n",
    "z_list = [norm_of_u_minus_sin_squared(x_old)]\n",
    "\n",
    "x_new = x_old - h * eval_numerical_gradient(norm_of_u_minus_sin_squared,x_old)\n",
    "\n",
    "x_list.append(x_new)\n",
    "z_list.append(norm_of_u_minus_sin_squared(x_new))\n",
    "\n",
    "iterations = 0\n",
    "while iterations < 150 :\n",
    "    x_old = x_new\n",
    "    direction = - norm_of_u_minus_sin_squared(x_old)\n",
    "    x_new = x_old + h * direction\n",
    "    x_list.append(x_new)\n",
    "    z_list.append(norm_of_u_minus_sin_squared(x_new))\n",
    "    iterations= iterations + 1\n",
    "print (\"Local minimum occurs at:\", x_new)\n",
    "print (\"Number of steps:\", len(x_list))\n",
    "print (\"minimum value is:\", norm_of_u_minus_sin_squared(x_new))"
   ]
  },
  {
   "cell_type": "code",
   "execution_count": 10,
   "metadata": {
    "collapsed": false
   },
   "outputs": [
    {
     "data": {
      "text/plain": [
       "array([ 0.46956299,  0.39338222, -0.39940059, -0.41640588,  0.07608199,\n",
       "        0.43413529,  0.26036769,  0.14582295, -0.46018747,  0.00387464,\n",
       "        0.41308418, -0.30770448])"
      ]
     },
     "execution_count": 10,
     "metadata": {
     },
     "output_type": "execute_result"
    }
   ],
   "source": [
    "x_new"
   ]
  },
  {
   "cell_type": "code",
   "execution_count": 11,
   "metadata": {
    "collapsed": false
   },
   "outputs": [
   ],
   "source": [
    "x_0 = np.linspace(0, 2 * np.pi,1000)\n",
    "y_0 = []\n",
    "y_1 = []\n",
    "for p in x_0:\n",
    "    y_0.append(network_function(x_new,p))\n",
    "    y_1.append(np.sin(p))"
   ]
  },
  {
   "cell_type": "code",
   "execution_count": 12,
   "metadata": {
    "collapsed": false,
    "scrolled": true
   },
   "outputs": [
    {
     "name": "stderr",
     "output_type": "stream",
     "text": [
      "WARNING: Some output was deleted.\n"
     ]
    }
   ],
   "source": [
    "y_1"
   ]
  },
  {
   "cell_type": "code",
   "execution_count": 13,
   "metadata": {
    "collapsed": false
   },
   "outputs": [
    {
     "data": {
      "text/plain": [
       "<matplotlib.legend.Legend at 0x7f37c6ba0a58>"
      ]
     },
     "execution_count": 13,
     "metadata": {
     },
     "output_type": "execute_result"
    },
    {
     "data": {
      "image/png": "[encoded data removed]"
     },
     "metadata": {
      "image/png": {
       "height": 234,
       "width": 442
      }
     }
    }
   ],
   "source": [
    "fig = plt.figure()\n",
    "axes = fig.add_axes([0.1, 0.1, 0.9, 0.7])\n",
    "axes.plot(x_0,y_0,label =\"Gradient Descent\",c = \"yellow\");\n",
    "axes.plot(x_0,y_1, label = \"Sine Function\")\n",
    "axes.legend(loc = 3)"
   ]
  },
  {
   "cell_type": "code",
   "execution_count": 0,
   "metadata": {
    "collapsed": false
   },
   "outputs": [
   ],
   "source": [
   ]
  }
 ],
 "metadata": {
  "kernelspec": {
   "display_name": "Python 3 (Anaconda)",
   "language": "python",
   "name": "anaconda3"
  },
  "language_info": {
   "codemirror_mode": {
    "name": "ipython",
    "version": 3
   },
   "file_extension": ".py",
   "mimetype": "text/x-python",
   "name": "python",
   "nbconvert_exporter": "python",
   "pygments_lexer": "ipython3",
   "version": "3.5.4"
  }
 },
 "nbformat": 4,
 "nbformat_minor": 0
}