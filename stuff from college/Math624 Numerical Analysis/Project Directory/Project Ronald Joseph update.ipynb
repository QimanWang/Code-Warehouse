{
 "cells": [
  {
   "cell_type": "code",
   "execution_count": 8,
   "metadata": {
    "collapsed": false
   },
   "outputs": [
    {
     "name": "stdout",
     "output_type": "stream",
     "text": [
      "[sqrt(2)/2, 0.223606797749979*t - 0.670820393249937, 0.117851130197758*t**2 - 0.707106781186547*t, 0.0414086662499961*t**3 - 0.372677996249966*t**2 + 0.670820393249943*t + 0.22360679774998]\n",
      "0.0570363551680557*t**3 - 0.516646339291639*t**2 + 1.00000000000001*t + 9.99200722162641e-16\n"
     ]
    },
    {
     "data": {
      "image/png": "[encoded data removed]"
     }
    }
   ],
   "source": [
    "import numpy as np\n",
    "from sympy import *\n",
    "t = Symbol('t')\n",
    "#INNER PRODUCT 1\n",
    "def inner_product1(f,g):\n",
    "    df1 = diff(f,t)\n",
    "    dg1 = diff(g,t)\n",
    "    return f.subs(t,0.0)*g.subs(t,0.0) + df1.subs(t,0.0)*dg1.subs(t,0.0) + f.subs(t,6.0)*g.subs(t,6.0) + df1.subs(t,6.0)*dg1.subs(t,6.0)\n",
    "#Finds basis for subspace of polynomials of degree <= 3\n",
    "d=3 # max degree\n",
    "myOutput=[] # initialize the output with zeros\n",
    "for i in range(d+1):\n",
    "    fi=t**i\n",
    "    for j in range(i):\n",
    "        fi+=-inner_product1(myOutput[j],t**i)*myOutput[j]\n",
    "    myOutput.append(fi/(sqrt(inner_product1(fi,fi))))\n",
    "print(myOutput)\n",
    "#Projection of sin onto subspace of polynomials of degree <= 3\n",
    "w=0\n",
    "for p in myOutput:\n",
    "    w+=inner_product1(sin(t),p) * p\n",
    "print(w)\n",
    "myplot=plot(sin(t),w,(t,-5,5),ylim=[-5,5],show=False)\n",
    "myplot[0].line_color = 'r'\n",
    "myplot[1].line_color = 'g'\n",
    "myplot.show()"
   ]
  },
  {
   "cell_type": "code",
   "execution_count": 9,
   "metadata": {
    "collapsed": false
   },
   "outputs": [
    {
     "name": "stdout",
     "output_type": "stream",
     "text": [
      "[sqrt(2)/2, 0.316227766016838*t - 0.948683298050514, 0.176776695296637*t**2 - 1.06066017177982*t + 0.883883476483185, 0.0988211768802619*t**3 - 0.889390591922356*t**2 + 2.1147731852376*t - 1.00797600417867]\n",
      "0.10776013256668*t**3 - 1.00192120815073*t**2 + 2.22086432446957*t - 0.485232264077618\n"
     ]
    },
    {
     "data": {
      "image/png": "[encoded data removed]"
     }
    }
   ],
   "source": [
    "import numpy as np\n",
    "from sympy import *\n",
    "t = Symbol('t')\n",
    "#INNER PRODUCT 2\n",
    "def inner_product2(f,g):\n",
    "    df1 = diff(f,t)\n",
    "    dg1 = diff(g,t)\n",
    "    return f.subs(t,1.0)*g.subs(t,1.0) + df1.subs(t,1.0)*dg1.subs(t,1.0) + f.subs(t,5.0)*g.subs(t,5.0) + df1.subs(t,5.0)*dg1.subs(t,5.0)#Best approximation of sin(x) of all six inner products.\n",
    "#Finds basis for subspace of polynomials of degree <= 3\n",
    "d=3 # max degree\n",
    "myOut2=[] # initialize the output with zeros\n",
    "for i in range(d+1):\n",
    "    fi=t**i\n",
    "    for j in range(i):\n",
    "        fi+=-inner_product2(myOut2[j],t**i)*myOut2[j]\n",
    "    myOut2.append(fi/(sqrt(inner_product2(fi,fi))))\n",
    "print(myOut2)\n",
    "#Projection of sin onto subspace of polynomials of degree <= 3\n",
    "y=0\n",
    "for p in myOut2:\n",
    "    y+=inner_product2(sin(t),p) * p\n",
    "print(y)\n",
    "myplot=plot(sin(t),y,(t,-5,5),ylim=[-5,5],show=False)\n",
    "myplot[0].line_color = 'r'\n",
    "myplot[1].line_color = 'g'\n",
    "myplot.show()"
   ]
  },
  {
   "cell_type": "code",
   "execution_count": 10,
   "metadata": {
    "collapsed": false
   },
   "outputs": [
    {
     "name": "stdout",
     "output_type": "stream",
     "text": [
      "[1/2, 0.223606797749979*t - 0.670820393249937, 0.125*t**2 - 0.75*t + 0.5, 0.0931694990624911*t**3 - 0.838525491562423*t**2 + 1.75158658237485*t - 0.223606797749988]\n",
      "0.0983100889208734*t**3 - 0.911785202145156*t**2 + 1.88497876201967*t - 1.13797860024079e-14\n"
     ]
    },
    {
     "data": {
      "image/png": "[encoded data removed]"
     }
    }
   ],
   "source": [
    "import numpy as np\n",
    "from sympy import *\n",
    "t = Symbol('t')\n",
    "#INNER PRODUCT 3\n",
    "def inner_product3(f,g):\n",
    "#   return f(0.0)*g(0.0) + f(2.0)*g(2.0) + f(4.0)*g(4.0) + f(6.0)*g(6.0)\n",
    "    return f.subs(t,0.0)*g.subs(t,0.0) + f.subs(t,2.0)*g.subs(t,2.0) + f.subs(t,4.0)*g.subs(t,4.0) + f.subs(t,6.0)*g.subs(t,6.0)\n",
    "#Finds basis for subspace of polynomials of degree <= 3\n",
    "d=3 # max degree\n",
    "myOut=[] # initialize the output with zeros\n",
    "for i in range(d+1):\n",
    "    fi=t**i\n",
    "    for j in range(i):\n",
    "        fi+=-inner_product3(myOut[j],t**i)*myOut[j]\n",
    "    myOut.append(fi/(sqrt(inner_product3(fi,fi))))\n",
    "print(myOut)\n",
    "#Projection of sin onto subspace of polynomials of degree <= 3\n",
    "u=0\n",
    "for p in myOut:\n",
    "    u+=inner_product3(sin(t),p) * p\n",
    "print(u)\n",
    "myplot=plot(sin(t),u,(t,-5,5),ylim=[-5,5],show=False)\n",
    "myplot[0].line_color = 'r'\n",
    "myplot[1].line_color = 'g'\n",
    "myplot.show()"
   ]
  },
  {
   "cell_type": "code",
   "execution_count": 11,
   "metadata": {
    "collapsed": false
   },
   "outputs": [
    {
     "name": "stdout",
     "output_type": "stream",
     "text": [
      "[sqrt(3)/3, 0.229415733870562*t - 0.688247201611685, 0.136082763487954*t**2 - 0.816496580927726*t + 0.408248290463862, 0.114155814869796*t**3 - 1.02740233382816*t**2 + 2.10887847469991*t - 0.162221421130765]\n",
      "0.104824805211181*t**3 - 0.974626331029442*t**2 + 2.02749574887432*t - 2.4980018054066e-15\n"
     ]
    },
    {
     "data": {
      "image/png": "[encoded data removed]"
     }
    }
   ],
   "source": [
    "import numpy as np\n",
    "from sympy import *\n",
    "t = Symbol('t')\n",
    "#INNER PRODUCT 4\n",
    "def inner_product4(f,g):\n",
    "    df1 = diff(f,t)\n",
    "    dg1 = diff(g,t)\n",
    "    return f.subs(t,0.0)*g.subs(t,0.0) + f.subs(t,3.0)*g.subs(t,3.0) + df1.subs(t,3.0)*dg1.subs(t,3.0) + f.subs(t,6.0)*g.subs(t,6.0)\n",
    "#Finds basis for subspace of polynomials of degree <= 3\n",
    "d=3 # max degree\n",
    "myOutput4=[] # initialize the output with zeros\n",
    "for i in range(d+1):\n",
    "    fi=t**i\n",
    "    for j in range(i):\n",
    "        fi+=-inner_product4(myOutput4[j],t**i)*myOutput4[j]\n",
    "    myOutput4.append(fi/(sqrt(inner_product4(fi,fi))))\n",
    "print(myOutput4)\n",
    "#Projection of sin onto subspace of polynomials of degree <= 3\n",
    "z=0\n",
    "for p in myOutput4:\n",
    "    z+=inner_product4(sin(t),p) * p\n",
    "print(z)\n",
    "myplot=plot(sin(t),z,(t,-5,5),ylim=[-5,5],show=False)\n",
    "myplot[0].line_color = 'r'\n",
    "myplot[1].line_color = 'g'\n",
    "myplot.show()"
   ]
  },
  {
   "cell_type": "code",
   "execution_count": 7,
   "metadata": {
    "collapsed": false
   },
   "outputs": [
    {
     "name": "stdout",
     "output_type": "stream",
     "text": [
      "[]\n",
      "0\n"
     ]
    },
    {
     "data": {
      "image/png": "[encoded data removed]"
     }
    }
   ],
   "source": [
    "import numpy as np\n",
    "from sympy import *\n",
    "d=3\n",
    "out=[]\n",
    "t = Symbol('t')\n",
    "#INNER PRODUCT 5\n",
    "def inner_product5(h,g): \n",
    "    k=h*g\n",
    "    return integrate(k,(t,0,6))\n",
    "    for i in range(d+1):\n",
    "        fi=t**i\n",
    "        for j in range (i):\n",
    "            fi+=-inner_product5(out[j],t**i)*out[j]\n",
    "        out.append(fi/(sqrt(inner_product5(fi,fi))))\n",
    "print(out)\n",
    "#Projection of sin onto subspace of polynomials of degree <= 3\n",
    "v=0\n",
    "for p in out:\n",
    "    v+=inner_product5(sin(t),p) * p\n",
    "print(v)\n",
    "myplot=plot(sin(t),v,(t,-5,5),ylim=[-5,5],show=False)\n",
    "myplot[0].line_color = 'r'\n",
    "myplot[1].line_color = 'g'\n",
    "myplot.show()"
   ]
  },
  {
   "cell_type": "code",
   "execution_count": 1,
   "metadata": {
    "collapsed": false
   },
   "outputs": [
    {
     "name": "stdout",
     "output_type": "stream",
     "text": [
      "[1, t - 3.0, t**2/2 - 3.0*t + 4.5, t**3/6 - 1.5*t**2 + 4.5*t - 4.5]\n",
      "0.164998749433408*t**3 - 1.5555487489306*t**2 + 3.88833376228116*t - 1.9789087731102\n"
     ]
    },
    {
     "data": {
      "image/png": "[encoded data removed]"
     }
    }
   ],
   "source": [
    "import numpy as np\n",
    "from sympy import *\n",
    "t = Symbol('t')\n",
    "#INNER PRODUCT 6\n",
    "def inner_product6(f,g):\n",
    "    df1 = diff(f,t)\n",
    "    dg1 = diff(g,t)\n",
    "    df2 = diff(f,t,t)\n",
    "    dg2 = diff(g,t,t)\n",
    "    df3 = diff(f,t,t,t)\n",
    "    dg3 = diff(g,t,t,t)\n",
    "    return f.subs(t,3.0)*g.subs(t,3.0) + df1.subs(t,3.0)*dg1.subs(t,3.0) + df2.subs(t,3.0)*dg2.subs(t,3.0) +             df3.subs(t,3.0)*dg3.subs(t,3.0)\n",
    "#Finds basis for subspace of polynomials of degree <= 3\n",
    "d=3 # max degree\n",
    "myOutput6=[] # initialize the output with zeros\n",
    "for i in range(d+1):\n",
    "    fi=t**i\n",
    "    for j in range(i):\n",
    "        fi+=-inner_product6(myOutput6[j],t**i)*myOutput6[j]\n",
    "    myOutput6.append(fi/(sqrt(inner_product6(fi,fi))))\n",
    "print(myOutput6)\n",
    "#Projection of sin onto subspace of polynomials of degree <= 3\n",
    "s=0\n",
    "for p in myOutput6:\n",
    "    s+=inner_product6(sin(t),p) * p\n",
    "print(s)\n",
    "myplot=plot(sin(t),s,(t,-5,5),ylim=[-5,5],show=False)\n",
    "myplot[0].line_color = 'r'\n",
    "myplot[1].line_color = 'g'\n",
    "myplot.show()"
   ]
  },
  {
   "cell_type": "code",
   "execution_count": 12,
   "metadata": {
    "collapsed": false
   },
   "outputs": [
    {
     "data": {
      "image/png": "[encoded data removed]"
     }
    }
   ],
   "source": [
    "w=0\n",
    "for p in myOutput:\n",
    "    w+=inner_product1(sin(t),p) * p\n",
    "y=0\n",
    "for p in myOut2:\n",
    "    y+=inner_product2(sin(t),p) * p\n",
    "u=0\n",
    "for p in myOut:\n",
    "    u+=inner_product3(sin(t),p) * p\n",
    "z=0\n",
    "for p in myOutput4:\n",
    "    z+=inner_product4(sin(t),p) * p\n",
    "v=0\n",
    "for p in out:\n",
    "    v+=inner_product5(sin(t),p) * p\n",
    "s=0\n",
    "for p in myOutput6:\n",
    "    s+=inner_product6(sin(t),p) * p\n",
    "myplot=plot(sin(t),s,v,z,u,y,w,(t,-5,5),ylim=[-5,5],show=False)\n",
    "myplot[0].line_color = 'r' #sin(t) is red\n",
    "myplot[1].line_color = 'g' #s is green\n",
    "myplot[2].line_color = 'b' #v is blue\n",
    "myplot[3].line_color = 'c' #z is cyan\n",
    "myplot[4].line_color = 'm' #u is magenta\n",
    "myplot[5].line_color = 'y' #y is yellow\n",
    "myplot[6].line_color = 'k' #w is black\n",
    "myplot.show()"
   ]
  },
  {
   "cell_type": "code",
   "execution_count": 0,
   "metadata": {
    "collapsed": false
   },
   "outputs": [
   ],
   "source": [
    "#Conclusion: Inner Product 2 gives the best appoximation of sin(x) by a polynomial of degre <=3"
   ]
  }
 ],
 "metadata": {
  "kernelspec": {
   "display_name": "Python 2 (SageMath)",
   "language": "python",
   "name": "python2"
  },
  "language_info": {
   "codemirror_mode": {
    "name": "ipython",
    "version": 2
   },
   "file_extension": ".py",
   "mimetype": "text/x-python",
   "name": "python",
   "nbconvert_exporter": "python",
   "pygments_lexer": "ipython2",
   "version": "2.7.13"
  }
 },
 "nbformat": 4,
 "nbformat_minor": 0
}