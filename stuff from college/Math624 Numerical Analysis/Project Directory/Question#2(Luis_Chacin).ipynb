{
 "cells": [
  {
   "cell_type": "markdown",
   "metadata": {
    "collapsed": false
   },
   "source": [
    "I tried using strict gradient descent as if we were doing a calc3 question. It works well depending on the initial values chosen for theta the results are really accurate or really poor."
   ]
  },
  {
   "cell_type": "code",
   "execution_count": 2,
   "metadata": {
    "collapsed": false
   },
   "outputs": [
   ],
   "source": [
    "import numpy as np\n",
    "import matplotlib\n",
    "import matplotlib.pyplot as plt"
   ]
  },
  {
   "cell_type": "code",
   "execution_count": 3,
   "metadata": {
    "collapsed": false
   },
   "outputs": [
   ],
   "source": [
    "def sigmoid(x):\n",
    "    return(1/(1+np.exp(-x)))"
   ]
  },
  {
   "cell_type": "code",
   "execution_count": 4,
   "metadata": {
    "collapsed": false
   },
   "outputs": [
   ],
   "source": [
    "def g(theta,x):\n",
    "    output=0\n",
    "    for i in [0,3,6,9]:\n",
    "        output+=sigmoid(theta[i]+theta[i+1]*x)*theta[i+2]\n",
    "    return(output)"
   ]
  },
  {
   "cell_type": "code",
   "execution_count": 5,
   "metadata": {
    "collapsed": false
   },
   "outputs": [
   ],
   "source": [
    "x=np.linspace(0,2*np.pi,30)\n",
    "theta=np.random.rand(12)"
   ]
  },
  {
   "cell_type": "code",
   "execution_count": 6,
   "metadata": {
    "collapsed": false
   },
   "outputs": [
   ],
   "source": [
    "def grad_cost(theta):\n",
    "    output=np.array([0.0,0,0,0,0,0,0,0,0,0,0,0])\n",
    "    for i in range(29):\n",
    "        output[0]+=2*((np.sin(x[i])\n",
    "        -(1/(1+np.exp(-1*(theta[0]+theta[1]*x[i]))))*theta[2]\n",
    "        -(1/(1+np.exp(-1*(theta[3]+theta[4]*x[i]))))*theta[5]\n",
    "        -(1/(1+np.exp(-1*(theta[6]+theta[7]*x[i]))))*theta[8]\n",
    "        -(1/(1+np.exp(-1*(theta[9]+theta[10]*x[i]))))*theta[11])\n",
    "        *((-theta[2]*np.exp(-1*(theta[0]+theta[1]*x[i])))/(1+np.exp(-1*(theta[0]+theta[1]*x[i])))**2))\n",
    "    for i in range(29):\n",
    "        output[3]+=2*((np.sin(x[i])\n",
    "        -(1/(1+np.exp(-1*(theta[0]+theta[1]*x[i]))))*theta[2]\n",
    "        -(1/(1+np.exp(-1*(theta[3]+theta[4]*x[i]))))*theta[5]\n",
    "        -(1/(1+np.exp(-1*(theta[6]+theta[7]*x[i]))))*theta[8]\n",
    "        -(1/(1+np.exp(-1*(theta[9]+theta[10]*x[i]))))*theta[11])\n",
    "        *((-theta[5]*np.exp(-1*(theta[3]+theta[4]*x[i])))/(1+np.exp(-1*(theta[3]+theta[4]*x[i])))**2))\n",
    "    for i in range(29):\n",
    "        output[6]+=2*((np.sin(x[i])\n",
    "        -(1/(1+np.exp(-1*(theta[0]+theta[1]*x[i]))))*theta[2]\n",
    "        -(1/(1+np.exp(-1*(theta[3]+theta[4]*x[i]))))*theta[5]\n",
    "        -(1/(1+np.exp(-1*(theta[6]+theta[7]*x[i]))))*theta[8]\n",
    "        -(1/(1+np.exp(-1*(theta[9]+theta[10]*x[i]))))*theta[11])\n",
    "        *((-theta[8]*np.exp(-1*(theta[6]+theta[7]*x[i])))/(1+np.exp(-1*(theta[6]+theta[7]*x[i])))**2))\n",
    "    for i in range(29):\n",
    "        output[9]+=2*((np.sin(x[i])\n",
    "        -(1/(1+np.exp(-1*(theta[0]+theta[1]*x[i]))))*theta[2]\n",
    "        -(1/(1+np.exp(-1*(theta[3]+theta[4]*x[i]))))*theta[5]\n",
    "        -(1/(1+np.exp(-1*(theta[6]+theta[7]*x[i]))))*theta[8]\n",
    "        -(1/(1+np.exp(-1*(theta[9]+theta[10]*x[i]))))*theta[11])\n",
    "        *((-theta[11]*np.exp(-1*(theta[9]+theta[10]*x[i])))/(1+np.exp(-1*(theta[9]+theta[10]*x[i])))**2))\n",
    "    for i in range(29):\n",
    "        output[1]+=2*((np.sin(x[i])\n",
    "        -(1/(1+np.exp(-1*(theta[0]+theta[1]*x[i]))))*theta[2]\n",
    "        -(1/(1+np.exp(-1*(theta[3]+theta[4]*x[i]))))*theta[5]\n",
    "        -(1/(1+np.exp(-1*(theta[6]+theta[7]*x[i]))))*theta[8]\n",
    "        -(1/(1+np.exp(-1*(theta[9]+theta[10]*x[i]))))*theta[11])\n",
    "        *((-theta[2]*np.exp(-1*(theta[0]+theta[1]*x[i]))*x[i])/(1+np.exp(-1*(theta[0]+theta[1]*x[i])))**2))\n",
    "    for i in range(29):\n",
    "        output[4]+=2*((np.sin(x[i])\n",
    "        -(1/(1+np.exp(-1*(theta[0]+theta[1]*x[i]))))*theta[2]\n",
    "        -(1/(1+np.exp(-1*(theta[3]+theta[4]*x[i]))))*theta[5]\n",
    "        -(1/(1+np.exp(-1*(theta[6]+theta[7]*x[i]))))*theta[8]\n",
    "        -(1/(1+np.exp(-1*(theta[9]+theta[10]*x[i]))))*theta[11])\n",
    "        *((-theta[5]*np.exp(-1*(theta[3]+theta[4]*x[i]))*x[i])/(1+np.exp(-1*(theta[3]+theta[4]*x[i])))**2))\n",
    "    for i in range(29):\n",
    "        output[7]+=2*((np.sin(x[i])\n",
    "        -(1/(1+np.exp(-1*(theta[0]+theta[1]*x[i]))))*theta[2]\n",
    "        -(1/(1+np.exp(-1*(theta[3]+theta[4]*x[i]))))*theta[5]\n",
    "        -(1/(1+np.exp(-1*(theta[6]+theta[7]*x[i]))))*theta[8]\n",
    "        -(1/(1+np.exp(-1*(theta[9]+theta[10]*x[i]))))*theta[11])\n",
    "        *((-theta[8]*np.exp(-1*(theta[6]+theta[7]*x[i]))*x[i])/(1+np.exp(-1*(theta[6]+theta[7]*x[i])))**2))\n",
    "    for i in range(29):\n",
    "        output[10]+=2*((np.sin(x[i])\n",
    "        -(1/(1+np.exp(-1*(theta[0]+theta[1]*x[i]))))*theta[2]\n",
    "        -(1/(1+np.exp(-1*(theta[3]+theta[4]*x[i]))))*theta[5]\n",
    "        -(1/(1+np.exp(-1*(theta[6]+theta[7]*x[i]))))*theta[8]\n",
    "        -(1/(1+np.exp(-1*(theta[9]+theta[10]*x[i]))))*theta[11])\n",
    "        *((-theta[11]*np.exp(-1*(theta[9]+theta[10]*x[i]))*x[i])/(1+np.exp(-1*(theta[9]+theta[10]*x[i])))**2))\n",
    "    for i in range(29):\n",
    "        output[2]+=2*((np.sin(x[i])\n",
    "        -(1/(1+np.exp(-1*(theta[0]+theta[1]*x[i]))))*theta[2]\n",
    "        -(1/(1+np.exp(-1*(theta[3]+theta[4]*x[i]))))*theta[5]\n",
    "        -(1/(1+np.exp(-1*(theta[6]+theta[7]*x[i]))))*theta[8]\n",
    "        -(1/(1+np.exp(-1*(theta[9]+theta[10]*x[i]))))*theta[11])\n",
    "        *(-1*(1/(1+np.exp(-1*(theta[0]+theta[1]*x[i]))))))\n",
    "    for i in range(29):\n",
    "        output[5]+=2*((np.sin(x[i])\n",
    "        -(1/(1+np.exp(-1*(theta[0]+theta[1]*x[i]))))*theta[2]\n",
    "        -(1/(1+np.exp(-1*(theta[3]+theta[4]*x[i]))))*theta[5]\n",
    "        -(1/(1+np.exp(-1*(theta[6]+theta[7]*x[i]))))*theta[8]\n",
    "        -(1/(1+np.exp(-1*(theta[9]+theta[10]*x[i]))))*theta[11])\n",
    "        *(-1*(1/(1+np.exp(-1*(theta[3]+theta[4]*x[i]))))))\n",
    "    for i in range(29):\n",
    "        output[8]+=2*((np.sin(x[i])\n",
    "        -(1/(1+np.exp(-1*(theta[0]+theta[1]*x[i]))))*theta[2]\n",
    "        -(1/(1+np.exp(-1*(theta[3]+theta[4]*x[i]))))*theta[5]\n",
    "        -(1/(1+np.exp(-1*(theta[6]+theta[7]*x[i]))))*theta[8]\n",
    "        -(1/(1+np.exp(-1*(theta[9]+theta[10]*x[i]))))*theta[11])\n",
    "        *(-1*(1/(1+np.exp(-1*(theta[6]+theta[7]*x[i]))))))\n",
    "    for i in range(29):\n",
    "        output[11]+=2*((np.sin(x[i])\n",
    "        -(1/(1+np.exp(-1*(theta[0]+theta[1]*x[i]))))*theta[2]\n",
    "        -(1/(1+np.exp(-1*(theta[3]+theta[4]*x[i]))))*theta[5]\n",
    "        -(1/(1+np.exp(-1*(theta[6]+theta[7]*x[i]))))*theta[8]\n",
    "        -(1/(1+np.exp(-1*(theta[9]+theta[10]*x[i]))))*theta[11])\n",
    "        *(-1*(1/(1+np.exp(-1*(theta[9]+theta[10]*x[i]))))))\n",
    "    return(output)"
   ]
  },
  {
   "cell_type": "code",
   "execution_count": 7,
   "metadata": {
    "collapsed": false
   },
   "outputs": [
    {
     "name": "stdout",
     "output_type": "stream",
     "text": [
      "[ 0.59340895 -0.40653996 -1.45669704  2.50073578 -0.38973278 -2.68407837\n",
      " -0.72821427  2.1609231   1.23591172  5.67078248 -1.86284969  3.11176351]\n"
     ]
    }
   ],
   "source": [
    "h=0.005\n",
    "theta_new=-h*grad_cost(theta)+theta\n",
    "for i in range(3000):\n",
    "    theta=theta_new\n",
    "    theta_new=-h*grad_cost(theta)+theta\n",
    "print(theta_new)"
   ]
  },
  {
   "cell_type": "code",
   "execution_count": 8,
   "metadata": {
    "collapsed": false
   },
   "outputs": [
    {
     "data": {
      "image/png": "[encoded data removed]"
     },
     "metadata": {
      "image/png": {
       "height": 385,
       "width": 831
      }
     }
    }
   ],
   "source": [
    "x100=np.linspace(0,2*np.pi, 100)\n",
    "fig = plt.figure()\n",
    "axes = fig.add_axes([0.1, 0.1, 0.9, 0.7]) \n",
    "axes.plot(x100,np.sin(x100),c=\"r\");\n",
    "axes.plot(x,g(theta_new,x),c=\"b\");"
   ]
  },
  {
   "cell_type": "code",
   "execution_count": 0,
   "metadata": {
    "collapsed": false
   },
   "outputs": [
   ],
   "source": [
   ]
  }
 ],
 "metadata": {
  "kernelspec": {
   "display_name": "Python 3 (Anaconda)",
   "language": "python",
   "name": "anaconda3"
  },
  "language_info": {
   "codemirror_mode": {
    "name": "ipython",
    "version": 3
   },
   "file_extension": ".py",
   "mimetype": "text/x-python",
   "name": "python",
   "nbconvert_exporter": "python",
   "pygments_lexer": "ipython3",
   "version": "3.5.4"
  }
 },
 "nbformat": 4,
 "nbformat_minor": 0
}