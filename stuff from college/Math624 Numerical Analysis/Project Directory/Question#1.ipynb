{
 "cells": [
  {
   "cell_type": "markdown",
   "metadata": {
    "collapsed": false
   },
   "source": [
    "# Problem 1\n",
    "Choose a few lines in the plane, say five or six.  They will divide the plane into a number of chambers.  Select a couple of chambers.  Then, design a neural network with inputs $1, x, y$ and a single output, call it $o(x,y)$ so that $$ o(x,y)\\approx \\begin{cases} 1 & \\text{ if $(x,y)$ is contained in the chosen chambers}\\\\\n",
    "0 & \\text{otherwise}\n",
    "\\end{cases}\n",
    "$$"
   ]
  },
  {
   "cell_type": "markdown",
   "metadata": {
    "collapsed": false
   },
   "source": [
    "-Each line on the graph below represents the inequality based on the threshold of 0.9 chosen for the sigmoid function to activate. <br/>\n",
    "-If we want the sigmoid neuron to activate iff when its evaluation is greater than *0.9* than its input should be greater than *-ln(1/9)* <br/>\n",
    "-We'll choose two pairs of parallel lines that pass within the [10x10] area where the random points lie, and that cross each other forming different blocks. To do this we choose opposite signed slopes. <br/>\n",
    "-Then we'll choose appropiate weights to generate inqualities such that only values in separate blocks satisfy the threshold condition <br/><br/>\n",
    "-Inequalities used: <br/>\n",
    "- x2<((300+np.log(.11111111111111))/50)-0.4*x1 (black) <br/> \n",
    "- x2>((550-np.log(.11111111111111))/50)-0.4*x1 (black) <br/>\n",
    "- x2<((80-np.log(.11111111111111))/-10)+2*x1 (yellow) <br/>\n",
    "- x2>((80-np.log(.11111111111111))/10)+2*x1 (yellow) <br/>\n"
   ]
  },
  {
   "cell_type": "code",
   "execution_count": 4,
   "metadata": {
    "collapsed": false
   },
   "outputs": [
   ],
   "source": [
    "import numpy as np"
   ]
  },
  {
   "cell_type": "code",
   "execution_count": 5,
   "metadata": {
    "collapsed": false
   },
   "outputs": [
   ],
   "source": [
    "def sigmoid(x):\n",
    "    return 1/(1+np.exp(-x))"
   ]
  },
  {
   "cell_type": "code",
   "execution_count": 6,
   "metadata": {
    "collapsed": false
   },
   "outputs": [
   ],
   "source": [
    "import matplotlib\n",
    "import matplotlib.pyplot as plt"
   ]
  },
  {
   "cell_type": "code",
   "execution_count": 7,
   "metadata": {
    "collapsed": false
   },
   "outputs": [
   ],
   "source": [
    "randomxpoints=10*np.random.rand(800)\n",
    "randomypoints=10*np.random.rand(800)"
   ]
  },
  {
   "cell_type": "code",
   "execution_count": 8,
   "metadata": {
    "collapsed": false
   },
   "outputs": [
   ],
   "source": [
    "thetavec1=np.array([-550,20,50])\n",
    "thetavec2=np.array([-80,-20,10])\n",
    "thetavec3=np.array([300,-20,-50])\n",
    "thetavec4=np.array([-80,20,-10])\n",
    "thetavec5=np.array([-30,20,20,20,20])\n",
    "output=[]\n",
    "rpts=[] ; bpts=[]\n",
    "for i in xrange(800):\n",
    "    xvec=np.array([1,randomxpoints[i],randomypoints[i]])\n",
    "    out1=sigmoid(np.dot(thetavec1,xvec))\n",
    "    out2=sigmoid(np.dot(thetavec2,xvec))\n",
    "    out3=sigmoid(np.dot(thetavec3,xvec))\n",
    "    out4=sigmoid(np.dot(thetavec4,xvec))\n",
    "    input_last_layer=np.array([1,out1,out2,out3,out4])\n",
    "    out_final=sigmoid(np.dot(thetavec5,input_last_layer))\n",
    "    if(out_final>0.9):\n",
    "        rpts.append([randomxpoints[i],randomypoints[i]])\n",
    "    else:\n",
    "        bpts.append([randomxpoints[i],randomypoints[i]])\n",
    "redpoints=np.array(rpts)\n",
    "bluepoints=np.array(bpts)"
   ]
  },
  {
   "cell_type": "code",
   "execution_count": 9,
   "metadata": {
    "collapsed": false,
    "scrolled": true
   },
   "outputs": [
    {
     "data": {
      "text/plain": [
       "[<matplotlib.lines.Line2D at 0x7f3ee8fce190>,\n",
       " <matplotlib.lines.Line2D at 0x7f3ee8f6d410>,\n",
       " <matplotlib.lines.Line2D at 0x7f3ee8f6db10>,\n",
       " <matplotlib.lines.Line2D at 0x7f3ee8f81150>,\n",
       " <matplotlib.lines.Line2D at 0x7f3ee8f81750>,\n",
       " <matplotlib.lines.Line2D at 0x7f3ee8f81d50>]"
      ]
     },
     "execution_count": 9,
     "metadata": {
     },
     "output_type": "execute_result"
    },
    {
     "data": {
      "image/png": "[encoded data removed]"
     }
    }
   ],
   "source": [
    "xvalsR = redpoints[:,0]\n",
    "yvalsR = redpoints[:,1]\n",
    "xvalsB = bluepoints[:,0]\n",
    "yvalsB = bluepoints[:,1]\n",
    "fig = plt.figure()\n",
    "t=np.arange(0,10,0.01)\n",
    "axes = fig.add_axes([0.1, 0.1, 0.9, 0.8])\n",
    "axes.plot(xvalsR,yvalsR,'r+',xvalsB,yvalsB,'b.',t,((300+np.log((.11111111111111)))/50)-0.4*t,'k+',t,((550-np.log(.11111111111111))/50)-0.4*t,'k+',t,((80-np.log(.11111111111111))/-10)+2*t,'y+',t,((80-np.log(.11111111111111))/10)+2*t,'y+')"
   ]
  },
  {
   "cell_type": "code",
   "execution_count": 0,
   "metadata": {
    "collapsed": false
   },
   "outputs": [
   ],
   "source": [
   ]
  }
 ],
 "metadata": {
  "kernelspec": {
   "display_name": "Python 2 (SageMath)",
   "language": "python",
   "name": "python2"
  },
  "language_info": {
   "codemirror_mode": {
    "name": "ipython",
    "version": 2
   },
   "file_extension": ".py",
   "mimetype": "text/x-python",
   "name": "python",
   "nbconvert_exporter": "python",
   "pygments_lexer": "ipython2",
   "version": "2.7.13"
  }
 },
 "nbformat": 4,
 "nbformat_minor": 0
}