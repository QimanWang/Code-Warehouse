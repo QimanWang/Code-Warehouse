{
 "cells": [
  {
   "cell_type": "code",
   "execution_count": 1,
   "metadata": {
    "collapsed": false
   },
   "outputs": [
   ],
   "source": [
    "import numpy as np"
   ]
  },
  {
   "cell_type": "code",
   "execution_count": 2,
   "metadata": {
    "collapsed": false
   },
   "outputs": [
   ],
   "source": [
    "def sigmoid(x):\n",
    "    return 1.0/(1.0+np.exp(-x))"
   ]
  },
  {
   "cell_type": "code",
   "execution_count": 3,
   "metadata": {
    "collapsed": false
   },
   "outputs": [
   ],
   "source": [
    "def sigtheta(theta,xval):\n",
    "    return theta[0]*sigmoid(theta[1]+theta[2]*xval)"
   ]
  },
  {
   "cell_type": "code",
   "execution_count": 5,
   "metadata": {
    "collapsed": false
   },
   "outputs": [
   ],
   "source": [
    "def mu(theta,xval):\n",
    "    out = 0\n",
    "    j = len(theta)\n",
    "    for i in range(0,j,3):\n",
    "        out += theta[i]*sigmoid(theta[i+1]+theta[i+2]*xval)\n",
    "    return out"
   ]
  },
  {
   "cell_type": "code",
   "execution_count": 6,
   "metadata": {
    "collapsed": false
   },
   "outputs": [
   ],
   "source": [
    "def scale_theta(theta,factor):\n",
    "    j = len(theta)\n",
    "    factor_vec = np.ones(j)\n",
    "    for i in range(0,j,3):\n",
    "        factor_vec[i] = factor\n",
    "    return factor_vec*theta"
   ]
  },
  {
   "cell_type": "code",
   "execution_count": 7,
   "metadata": {
    "collapsed": false
   },
   "outputs": [
   ],
   "source": [
    "mydata=np.linspace(0,2*np.pi,1000)"
   ]
  },
  {
   "cell_type": "code",
   "execution_count": 8,
   "metadata": {
    "collapsed": false
   },
   "outputs": [
   ],
   "source": [
    "def myip(theta1,theta2,data):\n",
    "    N = len(data)\n",
    "    return (1.0/N)*np.sum(mu(theta1,mydata)*mu(theta2,mydata))"
   ]
  },
  {
   "cell_type": "code",
   "execution_count": 30,
   "metadata": {
    "collapsed": false
   },
   "outputs": [
   ],
   "source": [
    "def random_initial_theta(n):\n",
    "    theta = np.ones(n)\n",
    "    for i in range(1,n,3):\n",
    "        theta[i:i+2] = np.random.randn(2)\n",
    "    return theta"
   ]
  },
  {
   "cell_type": "code",
   "execution_count": 10,
   "metadata": {
    "collapsed": false
   },
   "outputs": [
    {
     "name": "stdout",
     "output_type": "stream",
     "text": [
      "[ 1.          2.83117475  1.48005295  1.         -0.43417636  1.99839397\n",
      "  1.          5.38785027  1.56734854  1.          3.08999697  0.46488654]\n"
     ]
    }
   ],
   "source": [
    "my_theta = random_initial_theta(12)\n",
    "print my_theta"
   ]
  },
  {
   "cell_type": "code",
   "execution_count": 11,
   "metadata": {
    "collapsed": false
   },
   "outputs": [
   ],
   "source": [
    "def basis_from_theta(theta):\n",
    "    n = len(theta)\n",
    "    B = []\n",
    "    for i in range(0,n,3):\n",
    "        newtheta = np.zeros(i+3)\n",
    "        newtheta[i:i+3] = np.array(theta[i:i+3])\n",
    "        B.append(newtheta)\n",
    "    return B"
   ]
  },
  {
   "cell_type": "code",
   "execution_count": 12,
   "metadata": {
    "collapsed": false
   },
   "outputs": [
    {
     "name": "stdout",
     "output_type": "stream",
     "text": [
      "[array([ 1.        ,  2.83117475,  1.48005295]), array([ 0.        ,  0.        ,  0.        ,  1.        , -0.43417636,\n",
      "        1.99839397]), array([ 0.        ,  0.        ,  0.        ,  0.        ,  0.        ,\n",
      "        0.        ,  1.        ,  5.38785027,  1.56734854]), array([ 0.        ,  0.        ,  0.        ,  0.        ,  0.        ,\n",
      "        0.        ,  0.        ,  0.        ,  0.        ,  1.        ,\n",
      "        3.08999697,  0.46488654])]\n"
     ]
    }
   ],
   "source": [
    "myB = basis_from_theta(my_theta)\n",
    "print myB"
   ]
  },
  {
   "cell_type": "code",
   "execution_count": 13,
   "metadata": {
    "collapsed": false
   },
   "outputs": [
   ],
   "source": [
    "def sig_gram_schmidt(B,data):\n",
    "    E = []\n",
    "    \n",
    "    norm0 = np.sqrt(myip(B[0],B[0],mydata))\n",
    "    E0 = scale_theta(B[0],1/norm0)\n",
    "    E.append(E0)\n",
    "\n",
    "    f1=np.copy(B[1])\n",
    "    scale = - myip(E[0],f1,mydata)\n",
    "    f1[:3] = scale_theta(E[0],scale)\n",
    "    norm1 = np.sqrt(myip(f1,f1,mydata))\n",
    "    E1 = scale_theta(f1,1/norm1)\n",
    "    E.append(E1)\n",
    "\n",
    "    f2 = np.copy(B[2])\n",
    "    scale0 = - myip(E[0],B[2],mydata)\n",
    "    scale1 = - myip(E[1],B[2],mydata)\n",
    "    \n",
    "    f2[:6] = scale_theta(E[1],scale1)\n",
    "    f2[0]+=scale0*E[0][0]\n",
    "    norm2 = np.sqrt(myip(f2,f2,mydata))\n",
    "    E2 = scale_theta(f2,1/norm2)\n",
    "    E.append(E2)\n",
    "\n",
    "    f3 = np.copy(B[3])\n",
    "    scale0 = - myip(E[0],B[3],mydata)\n",
    "    scale1 = - myip(E[1],B[3],mydata)\n",
    "    scale2 = - myip(E[2],B[3],mydata)\n",
    "\n",
    "    f3[:9] = scale_theta(E[2],scale2)\n",
    "    f3[3] += scale1*E[1][3]\n",
    "    f3[0] += scale1*E[1][0]\n",
    "    f3[0] += scale0*E[0][0]\n",
    "    norm3 = np.sqrt(myip(f3,f3,mydata))\n",
    "    E3 = scale_theta(f3,1/norm3)\n",
    "    E.append(E3)\n",
    "    \n",
    "    return E"
   ]
  },
  {
   "cell_type": "code",
   "execution_count": 14,
   "metadata": {
    "collapsed": false
   },
   "outputs": [
   ],
   "source": [
    "myE = sig_gram_schmidt(myB,mydata)"
   ]
  },
  {
   "cell_type": "code",
   "execution_count": 15,
   "metadata": {
    "collapsed": false
   },
   "outputs": [
    {
     "data": {
      "text/plain": [
       "[array([ 1.0061488 ,  2.83117475,  1.48005295]),\n",
       " array([-7.02620931,  2.83117475,  1.48005295,  7.5329205 , -0.43417636,\n",
       "         1.99839397]),\n",
       " array([ -1.18668523e+03,   2.83117475e+00,   1.48005295e+00,\n",
       "          8.91113585e+01,  -4.34176358e-01,   1.99839397e+00,\n",
       "          1.09739795e+03,   5.38785027e+00,   1.56734854e+00]),\n",
       " array([  64.82553442,    2.83117475,    1.48005295,  -17.77693165,\n",
       "          -0.43417636,    1.99839397, -246.01188695,    5.38785027,\n",
       "           1.56734854,  200.81622454,    3.08999697,    0.46488654])]"
      ]
     },
     "execution_count": 15,
     "metadata": {
     },
     "output_type": "execute_result"
    }
   ],
   "source": [
    "myE"
   ]
  },
  {
   "cell_type": "code",
   "execution_count": 16,
   "metadata": {
    "collapsed": false
   },
   "outputs": [
    {
     "name": "stdout",
     "output_type": "stream",
     "text": [
      "[[  1.00000000e+00  -5.68434189e-16   1.77770687e-13  -6.45172804e-14]\n",
      " [ -5.68434189e-16   1.00000000e+00   6.22108587e-13  -1.73088210e-14]\n",
      " [  1.77770687e-13   6.22108587e-13   1.00000000e+00  -3.50081635e-11]\n",
      " [ -6.45172804e-14  -1.73088210e-14  -3.50081635e-11   1.00000000e+00]]\n"
     ]
    }
   ],
   "source": [
    "ips=np.zeros((4,4))\n",
    "for i in range(4):\n",
    "    for j in range(4):\n",
    "        ips[i,j]=myip(myE[i],myE[j],mydata)\n",
    "print ips"
   ]
  },
  {
   "cell_type": "code",
   "execution_count": 17,
   "metadata": {
    "collapsed": false
   },
   "outputs": [
   ],
   "source": [
    "def orthoproject(E,data):\n",
    "    N = len(data)\n",
    "    coeffs = []\n",
    "    theta_out = np.zeros(12)\n",
    "    for ei in E:\n",
    "        coeff = 1.0/N*np.sum(np.sin(mydata)*mu(ei,mydata))\n",
    "        coeffs.append(coeff)\n",
    "    theta_out = scale_theta(E[3],coeffs[3])\n",
    "    theta_out[6] += coeffs[2]*E[2][6]\n",
    "    theta_out[3] += coeffs[2]*E[2][3]\n",
    "    theta_out[0] += coeffs[2]*E[2][0]\n",
    "    theta_out[3] += coeffs[1]*E[1][3]\n",
    "    theta_out[0] += coeffs[1]*E[1][0]\n",
    "    theta_out[0] += coeffs[0]*E[0][0]\n",
    "    return theta_out"
   ]
  },
  {
   "cell_type": "code",
   "execution_count": 18,
   "metadata": {
    "collapsed": false
   },
   "outputs": [
   ],
   "source": [
    "my_test_theta=orthoproject(myE,mydata)"
   ]
  },
  {
   "cell_type": "code",
   "execution_count": 19,
   "metadata": {
    "collapsed": false
   },
   "outputs": [
   ],
   "source": [
    "import matplotlib\n",
    "import matplotlib.pyplot as plt\n",
    "%matplotlib inline"
   ]
  },
  {
   "cell_type": "code",
   "execution_count": 20,
   "metadata": {
    "collapsed": false
   },
   "outputs": [
    {
     "data": {
      "image/png": "[encoded data removed]"
     },
     "execution_count": 20,
     "metadata": {
     },
     "output_type": "execute_result"
    }
   ],
   "source": [
    "fig = plt.figure()\n",
    "axes = fig.add_axes([0.1, 0.1, 0.9, 0.7]) \n",
    "axes.plot(mydata,np.sin(mydata),c=\"r\");\n",
    "axes.plot(mydata,mu(my_test_theta,mydata),c=\"b\");"
   ]
  },
  {
   "cell_type": "code",
   "execution_count": 31,
   "metadata": {
    "collapsed": false
   },
   "outputs": [
    {
     "name": "stdout",
     "output_type": "stream",
     "text": [
      "new best found 8.24471426294e-05\n"
     ]
    },
    {
     "name": "stdout",
     "output_type": "stream",
     "text": [
      "new best found 2.95290359863e-05\n"
     ]
    },
    {
     "name": "stdout",
     "output_type": "stream",
     "text": [
      "best is 2.95290359863e-05\n",
      "[ 33.37297664  -1.57104526   0.38588102  -4.76528849   1.50911863\n",
      "  -0.90883989 -29.92948801  -1.94205095   0.68376755   4.04704312\n",
      "  -0.12518974   0.85365515]\n"
     ]
    }
   ],
   "source": [
    "for i in range(40000):\n",
    "    B = basis_from_theta(random_initial_theta(12))\n",
    "    E = sig_gram_schmidt(B,mydata)\n",
    "    my_theta=orthoproject(E,mydata)\n",
    "    trial = (1.0/1000)*np.sum((np.sin(mydata)-mu(my_theta,mydata))**2)\n",
    "    if trial < best:\n",
    "        best = trial\n",
    "        print \"new best found\", best\n",
    "        best_theta = np.copy(my_theta)\n",
    "print \"best is\", best\n",
    "print best_theta"
   ]
  },
  {
   "cell_type": "code",
   "execution_count": 32,
   "metadata": {
    "collapsed": false
   },
   "outputs": [
    {
     "data": {
      "image/png": "[encoded data removed]"
     },
     "execution_count": 32,
     "metadata": {
     },
     "output_type": "execute_result"
    }
   ],
   "source": [
    "fig = plt.figure()\n",
    "axes = fig.add_axes([0.1, 0.1, 0.9, 0.7]) \n",
    "axes.plot(mydata,np.sin(mydata),c=\"r\");\n",
    "axes.plot(mydata,mu(best_theta,mydata),c=\"b\");"
   ]
  },
  {
   "cell_type": "code",
   "execution_count": 0,
   "metadata": {
    "collapsed": false
   },
   "outputs": [
   ],
   "source": [
    "for i in range(100000):\n",
    "    B = basis_from_theta(random_initial_theta(12))\n",
    "    E = sig_gram_schmidt(B,mydata)\n",
    "    my_theta=orthoproject(E,mydata)\n",
    "    trial = (1.0/1000)*np.sum((np.sin(mydata)-mu(my_theta,mydata))**2)\n",
    "    if trial < best:\n",
    "        best = trial\n",
    "        print \"new best found\", best\n",
    "        best_theta = np.copy(my_theta)\n",
    "print \"best is\", best\n",
    "print best_theta"
   ]
  },
  {
   "cell_type": "code",
   "execution_count": 33,
   "metadata": {
    "collapsed": false
   },
   "outputs": [
   ],
   "source": [
    "np.save('best_theta',best_theta)"
   ]
  },
  {
   "cell_type": "code",
   "execution_count": 25,
   "metadata": {
    "collapsed": false
   },
   "outputs": [
   ],
   "source": [
    "saved_best_theta=np.load('best_theta.npy')"
   ]
  },
  {
   "cell_type": "code",
   "execution_count": 26,
   "metadata": {
    "collapsed": false
   },
   "outputs": [
    {
     "data": {
      "image/png": "[encoded data removed]"
     },
     "execution_count": 26,
     "metadata": {
     },
     "output_type": "execute_result"
    }
   ],
   "source": [
    "fig = plt.figure()\n",
    "axes = fig.add_axes([0.1, 0.1, 0.9, 0.7]) \n",
    "axes.plot(mydata,np.sin(mydata),c=\"r\");\n",
    "axes.plot(mydata,mu(saved_best_theta,mydata),c=\"b\");"
   ]
  },
  {
   "cell_type": "code",
   "execution_count": 27,
   "metadata": {
    "collapsed": false
   },
   "outputs": [
    {
     "data": {
      "text/plain": [
       "0.00027411998295621471"
      ]
     },
     "execution_count": 27,
     "metadata": {
     },
     "output_type": "execute_result"
    }
   ],
   "source": [
    "(1.0/1000)*np.sum((np.sin(mydata)-mu(best_theta,mydata))**2)"
   ]
  },
  {
   "cell_type": "code",
   "execution_count": 28,
   "metadata": {
    "collapsed": false
   },
   "outputs": [
    {
     "data": {
      "text/plain": [
       "4.6702398457301524e-05"
      ]
     },
     "execution_count": 28,
     "metadata": {
     },
     "output_type": "execute_result"
    }
   ],
   "source": [
    "(1.0/1000)*np.sum((np.sin(mydata)-mu(saved_best_theta,mydata))**2)"
   ]
  },
  {
   "cell_type": "code",
   "execution_count": 0,
   "metadata": {
    "collapsed": false
   },
   "outputs": [
   ],
   "source": [
   ]
  }
 ],
 "metadata": {
  "kernelspec": {
   "display_name": "Python 2 (SageMath)",
   "language": "python",
   "name": "python2"
  },
  "language_info": {
   "codemirror_mode": {
    "name": "ipython",
    "version": 2
   },
   "file_extension": ".py",
   "mimetype": "text/x-python",
   "name": "python",
   "nbconvert_exporter": "python",
   "pygments_lexer": "ipython2",
   "version": "2.7.13"
  }
 },
 "nbformat": 4,
 "nbformat_minor": 0
}