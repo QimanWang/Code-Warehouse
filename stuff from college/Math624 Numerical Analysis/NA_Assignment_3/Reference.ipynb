{
 "cells": [
  {
   "cell_type": "markdown",
   "metadata": {
    "collapsed": false
   },
   "source": [
    "# The third assignment\n",
    "Here are the problems that I assigned earlier.  Work in groups as before, create projects with all the group members and include me.  Try to complete them this weekend. "
   ]
  },
  {
   "cell_type": "markdown",
   "metadata": {
    "collapsed": false
   },
   "source": [
    "# Problem 1\n",
    "Choose a few lines in the plane, say five or six.  They will divide the plane into a number of chambers.  Select a couple of chambers.  Then, design a neural network with inputs $1, x, y$ and a single output, call it $o(x,y)$ so that $$ o(x,y)\\approx \\begin{cases} 1 & \\text{ if $(x,y)$ is contained in the chosen chambers}\\\\\n",
    "0 & \\text{otherwise}\n",
    "\\end{cases}\n",
    "$$"
   ]
  },
  {
   "cell_type": "markdown",
   "metadata": {
    "collapsed": false
   },
   "source": [
    "# Problem 2\n",
    "Use the following neural network topology to approximate the sine function:\n",
    "\n",
    "<img src=\"nn_for_sine.png\">\n",
    "\n",
    "Here, approximate means minimize the distance between your approximation $u$ and the function $\\sin$ using the norm defined by \n",
    "\n",
    "$$\\| f -g \\| = \\frac{1}{2}\\sum_{i=0}^{99}(f(x_i)-g(x_i))^2$$\n",
    "where $x_0, x_1, \\ldots, x_{99}$ are one hundred points evenly spaced throughout the interval $[0,2\\pi]$."
   ]
  },
  {
   "cell_type": "markdown",
   "metadata": {
    "collapsed": false
   },
   "source": [
    "# Looking Ahead\n",
    "We're preparing to train a neural network to recognize handwritten digits using the MNSIT Data Set.  For a reference, see chapter 1 of <em>Neural Networks and Deep Learning</em> by M. Nielsen."
   ]
  },
  {
   "cell_type": "markdown",
   "metadata": {
    "collapsed": false
   },
   "source": [
    "<a href=\"http://neuralnetworksanddeeplearning.com/chap1.html\">http://neuralnetworksanddeeplearning.com/chap1.html</a>"
   ]
  },
  {
   "cell_type": "code",
   "execution_count": 0,
   "metadata": {
    "collapsed": false
   },
   "outputs": [
   ],
   "source": [
   ]
  },
  {
   "cell_type": "code",
   "execution_count": 0,
   "metadata": {
    "collapsed": false
   },
   "outputs": [
   ],
   "source": [
   ]
  }
 ],
 "metadata": {
  "kernelspec": {
   "display_name": "Python 2 (SageMath)",
   "language": "python",
   "name": "python2"
  },
  "language_info": {
   "codemirror_mode": {
    "name": "ipython",
    "version": 2
   },
   "file_extension": ".py",
   "mimetype": "text/x-python",
   "name": "python",
   "nbconvert_exporter": "python",
   "pygments_lexer": "ipython2",
   "version": "2.7.13"
  }
 },
 "nbformat": 4,
 "nbformat_minor": 0
}