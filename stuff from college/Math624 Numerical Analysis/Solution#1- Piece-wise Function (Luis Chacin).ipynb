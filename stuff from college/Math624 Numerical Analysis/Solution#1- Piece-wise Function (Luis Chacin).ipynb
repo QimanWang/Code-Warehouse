{
 "cells": [
  {
   "cell_type": "markdown",
   "metadata": {
    "collapsed": false
   },
   "source": [
    "Here I tried to run my original algorithm on 100 points ranging from 0 to pi.\n",
    "\n",
    "Knowing that the sin function from pi to 2pi is merely an isometry of the curve from 0 to pi, we can run gradient descent to find the thetas that minimize the cost function from 0 to pi and apply a direct isometry to the resulting function to approximate the sin function from 0 to 2pi.\n",
    "\n",
    "# The result is a composite piece-wise function that is defined from 0 to pi and from pi to 2pi. \n",
    "It works extremely well at minimizing the sum of squared residuals.\n",
    "# It also solves the problem of a lack of precision at the tails of the model when using other methods\n",
    "\n",
    "Possibly the only drawback is the fact that the derivative will not exist at the point of union "
   ]
  },
  {
   "cell_type": "code",
   "execution_count": 1,
   "metadata": {
    "collapsed": false
   },
   "outputs": [
   ],
   "source": [
    "import numpy as np\n",
    "import matplotlib\n",
    "import matplotlib.pyplot as plt"
   ]
  },
  {
   "cell_type": "code",
   "execution_count": 2,
   "metadata": {
    "collapsed": false
   },
   "outputs": [
   ],
   "source": [
    "def sigmoid(x):\n",
    "    return(1/(1+np.exp(-x)))"
   ]
  },
  {
   "cell_type": "code",
   "execution_count": 3,
   "metadata": {
    "collapsed": false
   },
   "outputs": [
   ],
   "source": [
    "def cost_function(x,y):\n",
    "    output=np.array([0.0])\n",
    "    for i in range(99):\n",
    "        output[0]+=(np.sin(x[i])-y[i])**2\n",
    "    return(output[0])"
   ]
  },
  {
   "cell_type": "code",
   "execution_count": 4,
   "metadata": {
    "collapsed": false
   },
   "outputs": [
   ],
   "source": [
    "def g(theta,x):\n",
    "    output=0\n",
    "    for i in [0,3,6,9]:\n",
    "        output+=sigmoid(theta[i]+theta[i+1]*x)*theta[i+2]\n",
    "    return(output)"
   ]
  },
  {
   "cell_type": "code",
   "execution_count": 5,
   "metadata": {
    "collapsed": false
   },
   "outputs": [
   ],
   "source": [
    "x=np.linspace(0,(np.pi)/2,100)\n",
    "theta=np.random.rand(12)"
   ]
  },
  {
   "cell_type": "code",
   "execution_count": 6,
   "metadata": {
    "collapsed": false
   },
   "outputs": [
   ],
   "source": [
    "def grad_cost(theta):\n",
    "    output=np.array([0.0,0,0,0,0,0,0,0,0,0,0,0])\n",
    "    for i in range(99):\n",
    "        output[0]+=2*((np.sin(x[i])\n",
    "        -(1/(1+np.exp(-1*(theta[0]+theta[1]*x[i]))))*theta[2]\n",
    "        -(1/(1+np.exp(-1*(theta[3]+theta[4]*x[i]))))*theta[5]\n",
    "        -(1/(1+np.exp(-1*(theta[6]+theta[7]*x[i]))))*theta[8]\n",
    "        -(1/(1+np.exp(-1*(theta[9]+theta[10]*x[i]))))*theta[11])\n",
    "        *((-theta[2]*np.exp(-1*(theta[0]+theta[1]*x[i])))/(1+np.exp(-1*(theta[0]+theta[1]*x[i])))**2))\n",
    "    for i in range(99):\n",
    "        output[3]+=2*((np.sin(x[i])\n",
    "        -(1/(1+np.exp(-1*(theta[0]+theta[1]*x[i]))))*theta[2]\n",
    "        -(1/(1+np.exp(-1*(theta[3]+theta[4]*x[i]))))*theta[5]\n",
    "        -(1/(1+np.exp(-1*(theta[6]+theta[7]*x[i]))))*theta[8]\n",
    "        -(1/(1+np.exp(-1*(theta[9]+theta[10]*x[i]))))*theta[11])\n",
    "        *((-theta[5]*np.exp(-1*(theta[3]+theta[4]*x[i])))/(1+np.exp(-1*(theta[3]+theta[4]*x[i])))**2))\n",
    "    for i in range(99):\n",
    "        output[6]+=2*((np.sin(x[i])\n",
    "        -(1/(1+np.exp(-1*(theta[0]+theta[1]*x[i]))))*theta[2]\n",
    "        -(1/(1+np.exp(-1*(theta[3]+theta[4]*x[i]))))*theta[5]\n",
    "        -(1/(1+np.exp(-1*(theta[6]+theta[7]*x[i]))))*theta[8]\n",
    "        -(1/(1+np.exp(-1*(theta[9]+theta[10]*x[i]))))*theta[11])\n",
    "        *((-theta[8]*np.exp(-1*(theta[6]+theta[7]*x[i])))/(1+np.exp(-1*(theta[6]+theta[7]*x[i])))**2))\n",
    "    for i in range(99):\n",
    "        output[9]+=2*((np.sin(x[i])\n",
    "        -(1/(1+np.exp(-1*(theta[0]+theta[1]*x[i]))))*theta[2]\n",
    "        -(1/(1+np.exp(-1*(theta[3]+theta[4]*x[i]))))*theta[5]\n",
    "        -(1/(1+np.exp(-1*(theta[6]+theta[7]*x[i]))))*theta[8]\n",
    "        -(1/(1+np.exp(-1*(theta[9]+theta[10]*x[i]))))*theta[11])\n",
    "        *((-theta[11]*np.exp(-1*(theta[9]+theta[10]*x[i])))/(1+np.exp(-1*(theta[9]+theta[10]*x[i])))**2))\n",
    "    for i in range(49):\n",
    "        output[1]+=2*((np.sin(x[i])\n",
    "        -(1/(1+np.exp(-1*(theta[0]+theta[1]*x[i]))))*theta[2]\n",
    "        -(1/(1+np.exp(-1*(theta[3]+theta[4]*x[i]))))*theta[5]\n",
    "        -(1/(1+np.exp(-1*(theta[6]+theta[7]*x[i]))))*theta[8]\n",
    "        -(1/(1+np.exp(-1*(theta[9]+theta[10]*x[i]))))*theta[11])\n",
    "        *((-theta[2]*np.exp(-1*(theta[0]+theta[1]*x[i]))*x[i])/(1+np.exp(-1*(theta[0]+theta[1]*x[i])))**2))\n",
    "    for i in range(99):\n",
    "        output[4]+=2*((np.sin(x[i])\n",
    "        -(1/(1+np.exp(-1*(theta[0]+theta[1]*x[i]))))*theta[2]\n",
    "        -(1/(1+np.exp(-1*(theta[3]+theta[4]*x[i]))))*theta[5]\n",
    "        -(1/(1+np.exp(-1*(theta[6]+theta[7]*x[i]))))*theta[8]\n",
    "        -(1/(1+np.exp(-1*(theta[9]+theta[10]*x[i]))))*theta[11])\n",
    "        *((-theta[5]*np.exp(-1*(theta[3]+theta[4]*x[i]))*x[i])/(1+np.exp(-1*(theta[3]+theta[4]*x[i])))**2))\n",
    "    for i in range(99):\n",
    "        output[7]+=2*((np.sin(x[i])\n",
    "        -(1/(1+np.exp(-1*(theta[0]+theta[1]*x[i]))))*theta[2]\n",
    "        -(1/(1+np.exp(-1*(theta[3]+theta[4]*x[i]))))*theta[5]\n",
    "        -(1/(1+np.exp(-1*(theta[6]+theta[7]*x[i]))))*theta[8]\n",
    "        -(1/(1+np.exp(-1*(theta[9]+theta[10]*x[i]))))*theta[11])\n",
    "        *((-theta[8]*np.exp(-1*(theta[6]+theta[7]*x[i]))*x[i])/(1+np.exp(-1*(theta[6]+theta[7]*x[i])))**2))\n",
    "    for i in range(99):\n",
    "        output[10]+=2*((np.sin(x[i])\n",
    "        -(1/(1+np.exp(-1*(theta[0]+theta[1]*x[i]))))*theta[2]\n",
    "        -(1/(1+np.exp(-1*(theta[3]+theta[4]*x[i]))))*theta[5]\n",
    "        -(1/(1+np.exp(-1*(theta[6]+theta[7]*x[i]))))*theta[8]\n",
    "        -(1/(1+np.exp(-1*(theta[9]+theta[10]*x[i]))))*theta[11])\n",
    "        *((-theta[11]*np.exp(-1*(theta[9]+theta[10]*x[i]))*x[i])/(1+np.exp(-1*(theta[9]+theta[10]*x[i])))**2))\n",
    "    for i in range(99):\n",
    "        output[2]+=2*((np.sin(x[i])\n",
    "        -(1/(1+np.exp(-1*(theta[0]+theta[1]*x[i]))))*theta[2]\n",
    "        -(1/(1+np.exp(-1*(theta[3]+theta[4]*x[i]))))*theta[5]\n",
    "        -(1/(1+np.exp(-1*(theta[6]+theta[7]*x[i]))))*theta[8]\n",
    "        -(1/(1+np.exp(-1*(theta[9]+theta[10]*x[i]))))*theta[11])\n",
    "        *(-1*(1/(1+np.exp(-1*(theta[0]+theta[1]*x[i]))))))\n",
    "    for i in range(99):\n",
    "        output[5]+=2*((np.sin(x[i])\n",
    "        -(1/(1+np.exp(-1*(theta[0]+theta[1]*x[i]))))*theta[2]\n",
    "        -(1/(1+np.exp(-1*(theta[3]+theta[4]*x[i]))))*theta[5]\n",
    "        -(1/(1+np.exp(-1*(theta[6]+theta[7]*x[i]))))*theta[8]\n",
    "        -(1/(1+np.exp(-1*(theta[9]+theta[10]*x[i]))))*theta[11])\n",
    "        *(-1*(1/(1+np.exp(-1*(theta[3]+theta[4]*x[i]))))))\n",
    "    for i in range(99):\n",
    "        output[8]+=2*((np.sin(x[i])\n",
    "        -(1/(1+np.exp(-1*(theta[0]+theta[1]*x[i]))))*theta[2]\n",
    "        -(1/(1+np.exp(-1*(theta[3]+theta[4]*x[i]))))*theta[5]\n",
    "        -(1/(1+np.exp(-1*(theta[6]+theta[7]*x[i]))))*theta[8]\n",
    "        -(1/(1+np.exp(-1*(theta[9]+theta[10]*x[i]))))*theta[11])\n",
    "        *(-1*(1/(1+np.exp(-1*(theta[6]+theta[7]*x[i]))))))\n",
    "    for i in range(99):\n",
    "        output[11]+=2*((np.sin(x[i])\n",
    "        -(1/(1+np.exp(-1*(theta[0]+theta[1]*x[i]))))*theta[2]\n",
    "        -(1/(1+np.exp(-1*(theta[3]+theta[4]*x[i]))))*theta[5]\n",
    "        -(1/(1+np.exp(-1*(theta[6]+theta[7]*x[i]))))*theta[8]\n",
    "        -(1/(1+np.exp(-1*(theta[9]+theta[10]*x[i]))))*theta[11])\n",
    "        *(-1*(1/(1+np.exp(-1*(theta[9]+theta[10]*x[i]))))))\n",
    "    return(output)"
   ]
  },
  {
   "cell_type": "code",
   "execution_count": 7,
   "metadata": {
    "collapsed": false
   },
   "outputs": [
   ],
   "source": [
    "x=np.linspace(0,np.pi,100)\n",
    "x0=x+np.pi\n",
    "theta=np.random.rand(12)"
   ]
  },
  {
   "cell_type": "code",
   "execution_count": 8,
   "metadata": {
    "collapsed": false
   },
   "outputs": [
    {
     "name": "stdout",
     "output_type": "stream",
     "text": [
      "Theta Vector=  [ 0.56633856  0.84897362 -0.2632291  -3.77311193  1.20452052 -3.16368301\n",
      " -0.83358212  1.77597154  2.57765234 -0.04102853  0.23202799 -1.03062414]\n"
     ]
    }
   ],
   "source": [
    "h=0.003\n",
    "theta_new=-h*grad_cost(theta)+theta\n",
    "for i in range(12000):\n",
    "    theta=theta_new\n",
    "    theta_new=-h*grad_cost(theta)+theta\n",
    "print(\"Theta Vector= \", theta_new)"
   ]
  },
  {
   "cell_type": "code",
   "execution_count": 9,
   "metadata": {
    "collapsed": false
   },
   "outputs": [
   ],
   "source": [
    "def z(x_value): \n",
    "## the z is a piece-wise composite function\n",
    "##the x_value will come from values in x or in x0\n",
    "    if(x_value>=0 and x_value<np.pi):\n",
    "        return g(theta_new,x_value)\n",
    "    if(x_value>=np.pi and x_value<2*np.pi):\n",
    "        return -g(theta_new,x_value-np.pi)"
   ]
  },
  {
   "cell_type": "code",
   "execution_count": 10,
   "metadata": {
    "collapsed": false
   },
   "outputs": [
   ],
   "source": [
    "y=np.random.uniform(0,0,100)\n",
    "for i in range(99):\n",
    "    y[i]+=z(x[i]) \n",
    "y0=np.random.uniform(0,0,100)\n",
    "for i in range(99):\n",
    "    y0[i]+=z(x0[i])     \n",
    "    \n",
    "    ## y and y0 solely serves as an array created from evaluations of our approximating function z for values from 0 to 2*pi in order to be albe to use our cost function"
   ]
  },
  {
   "cell_type": "code",
   "execution_count": 11,
   "metadata": {
    "collapsed": false
   },
   "outputs": [
    {
     "name": "stdout",
     "output_type": "stream",
     "text": [
      "Cost from 0 to pi = 0.0158021774101\n",
      "Cost from pi to 2*pi= 0.0158021774101\n",
      "Total cost= 0.0316043548203\n"
     ]
    }
   ],
   "source": [
    "print(\"Cost from 0 to pi =\", cost_function(x,y))\n",
    "print(\"Cost from pi to 2*pi=\", cost_function(x0,y0))\n",
    "print(\"Total cost=\", cost_function(x,y)+cost_function(x0,y0))\n",
    "#run the code several times until you find a cost below 0.001"
   ]
  },
  {
   "cell_type": "code",
   "execution_count": 12,
   "metadata": {
    "collapsed": false
   },
   "outputs": [
    {
     "data": {
      "image/png": "[encoded data removed]"
     },
     "metadata": {
      "image/png": {
       "height": 385,
       "width": 831
      }
     }
    }
   ],
   "source": [
    "fig = plt.figure()\n",
    "axes = fig.add_axes([0.1, 0.1, 0.9, 0.7]) \n",
    "axes.plot(x,np.sin(x),c=\"r\");\n",
    "axes.plot(x,y,c=\"b\");\n",
    "axes.plot(x0,np.sin(x0),c=\"r\")\n",
    "axes.plot(x0,y0,c=\"b\");\n"
   ]
  },
  {
   "cell_type": "code",
   "execution_count": 0,
   "metadata": {
    "collapsed": false
   },
   "outputs": [
   ],
   "source": [
   ]
  }
 ],
 "metadata": {
  "kernelspec": {
   "display_name": "Python 3 (Anaconda)",
   "language": "python",
   "name": "anaconda3"
  },
  "language_info": {
   "codemirror_mode": {
    "name": "ipython",
    "version": 3
   },
   "file_extension": ".py",
   "mimetype": "text/x-python",
   "name": "python",
   "nbconvert_exporter": "python",
   "pygments_lexer": "ipython3",
   "version": "3.5.5"
  }
 },
 "nbformat": 4,
 "nbformat_minor": 0
}