{
 "cells": [
  {
   "cell_type": "code",
   "execution_count": 1,
   "metadata": {
    "collapsed": false
   },
   "outputs": [
   ],
   "source": [
    "import numpy as np\n",
    "import matplotlib\n",
    "import matplotlib.pyplot as plt"
   ]
  },
  {
   "cell_type": "code",
   "execution_count": 2,
   "metadata": {
    "collapsed": false
   },
   "outputs": [
   ],
   "source": [
    "%matplotlib inline"
   ]
  },
  {
   "cell_type": "markdown",
   "metadata": {
    "collapsed": false
   },
   "source": [
    "Here we can specify wether we want large input data or small input data"
   ]
  },
  {
   "cell_type": "code",
   "execution_count": 3,
   "metadata": {
    "collapsed": false
   },
   "outputs": [
   ],
   "source": [
    "sizeOfTrainingData = 100 # choose between 100, 200 or more\n",
    "learningRate = 4 #choose between 2 ,4 ,or 6"
   ]
  },
  {
   "cell_type": "code",
   "execution_count": 4,
   "metadata": {
    "collapsed": false
   },
   "outputs": [
   ],
   "source": [
    "def my_grad_desc(g,dg,x,tol_1,tol_2,max_steps):\n",
    "    counter =0\n",
    "    for i in range(max_steps):\n",
    "        #print i,x,g(x)\n",
    "        g0 = g(x)\n",
    "        grad = dg(x)\n",
    "        norm_grad = np.linalg.norm(grad)\n",
    "        counter +=1\n",
    "        if counter % 300 == 0:\n",
    "            print norm_grad\n",
    "        if norm_grad < tol_1:\n",
    "            #print \"gradient norm less than \", tol_1\n",
    "            #print \"min value of \", g0,\" obtained in \",i+1,\" steps.\"\n",
    "            return x\n",
    "            break\n",
    "        unit_grad = (1/norm_grad)*grad\n",
    "        alpha0=0; alpha2=1\n",
    "        g2 = g(x-alpha2*unit_grad)\n",
    "        while g2 >= g0:\n",
    "            alpha2 = 0.5*alpha2\n",
    "            g2 = g(x-alpha2*unit_grad)\n",
    "            if alpha2 < tol_1:\n",
    "                #print \"step size less than \", tol_1\n",
    "                #print \"min value of \", g0,\" obtained in \",i+1,\" steps.\"\n",
    "                return x\n",
    "                break\n",
    "        alpha1 = 0.5*alpha2\n",
    "        g1 = g(x-alpha1*unit_grad)\n",
    "        h0 = (g1-g0)/alpha1\n",
    "        h1 = (g2-g1)/(alpha2-alpha1)\n",
    "        h2 = (h1-h0)/alpha2\n",
    "        alpha0=0.5*(alpha1-h0/h2)\n",
    "        g00=g(x-alpha0*unit_grad)\n",
    "        if abs(g00-g0) < tol_2 :\n",
    "            #print \"functional values less than \", tol_2\n",
    "            return x\n",
    "            break\n",
    "        x = x-alpha0*unit_grad\n",
    "    #print(\"iteration limit reached.  min value of \", g0,\" obtained in \",i+1,\" steps.\")\n",
    "    return x"
   ]
  },
  {
   "cell_type": "code",
   "execution_count": 5,
   "metadata": {
    "collapsed": false
   },
   "outputs": [
   ],
   "source": [
    "def sigmoid(x):\n",
    "    return 1 / (1 + np.exp(-x))"
   ]
  },
  {
   "cell_type": "code",
   "execution_count": 6,
   "metadata": {
    "collapsed": false
   },
   "outputs": [
   ],
   "source": [
    "def dsigmoid(x):\n",
    "    s=sigmoid(x)\n",
    "    return s*(1-s)"
   ]
  },
  {
   "cell_type": "code",
   "execution_count": 7,
   "metadata": {
    "collapsed": false
   },
   "outputs": [
   ],
   "source": [
    "def mu(theta,x):\n",
    "    # assuming theta = [t0, t1, ..., t11]\n",
    "    musum=0\n",
    "    for i in range(0,12,3):\n",
    "        musum+=theta[i]*sigmoid(theta[i+1]+theta[i+2]*x)\n",
    "#     if np.amax(x) <=np.pi:\n",
    "#         musum*=-1\n",
    "    return musum"
   ]
  },
  {
   "cell_type": "code",
   "execution_count": 8,
   "metadata": {
    "collapsed": false
   },
   "outputs": [
   ],
   "source": [
    "def cost(theta):\n",
    "    totalcost=0\n",
    "    for i in range(sizeOfTrainingData):\n",
    "        totalcost+=(mu(theta,data[i])-y[i])**2\n",
    "    return (1.0/sizeOfTrainingData)*totalcost"
   ]
  },
  {
   "cell_type": "code",
   "execution_count": 9,
   "metadata": {
    "collapsed": false
   },
   "outputs": [
   ],
   "source": [
    "def gradcost(theta):\n",
    "    gradvect=np.zeros(12)\n",
    "    for x in data:\n",
    "        dcostdmu=(mu(theta,x)-np.sin(x))\n",
    "        for i in range(0,12,3):\n",
    "            term=dcostdmu*theta[i]*dsigmoid(theta[i+1]+theta[i+2]*x)\n",
    "            gradvect[i]+=dcostdmu*sigmoid(theta[i+1]+theta[i+2]*x)\n",
    "            gradvect[i+1]+=term\n",
    "            gradvect[i+2]+=term*x\n",
    "    return 1.0/sizeOfTrainingData*learningRate*gradvect\n",
    "#hmm"
   ]
  },
  {
   "cell_type": "markdown",
   "metadata": {
    "collapsed": false
   },
   "source": [
    "# We shuffle the data so that the fitting is not sequential.\n"
   ]
  },
  {
   "cell_type": "code",
   "execution_count": 10,
   "metadata": {
    "collapsed": false
   },
   "outputs": [
   ],
   "source": [
    "data=np.linspace(0,np.pi,sizeOfTrainingData)\n",
    "np.random.shuffle(data)\n",
    "y=np.sin(data)\n"
   ]
  },
  {
   "cell_type": "code",
   "execution_count": 11,
   "metadata": {
    "collapsed": false
   },
   "outputs": [
   ],
   "source": [
    "x4plotting=np.linspace(0,np.pi,sizeOfTrainingData)\n",
    "y4plotting=np.sin(x4plotting)"
   ]
  },
  {
   "cell_type": "markdown",
   "metadata": {
    "collapsed": false
   },
   "source": [
    "# The goal here is to only approximate sine from 0 to $\\pi$\n",
    "from $\\pi$ to 2 $\\pi$ we simply just take the negative of sine 0 to $\\pi$ "
   ]
  },
  {
   "cell_type": "code",
   "execution_count": 12,
   "metadata": {
    "collapsed": false,
    "scrolled": true
   },
   "outputs": [
    {
     "name": "stdout",
     "output_type": "stream",
     "text": [
      "trial  0\n"
     ]
    },
    {
     "name": "stdout",
     "output_type": "stream",
     "text": [
      "0.0191779878705\n"
     ]
    },
    {
     "name": "stdout",
     "output_type": "stream",
     "text": [
      "0.0125187157911\n"
     ]
    },
    {
     "name": "stdout",
     "output_type": "stream",
     "text": [
      "0.00988168016659\n"
     ]
    },
    {
     "name": "stdout",
     "output_type": "stream",
     "text": [
      "0.00825264856606\n"
     ]
    },
    {
     "name": "stdout",
     "output_type": "stream",
     "text": [
      "0.00703930371107\n"
     ]
    },
    {
     "name": "stdout",
     "output_type": "stream",
     "text": [
      "0.00609312723825\n"
     ]
    },
    {
     "name": "stdout",
     "output_type": "stream",
     "text": [
      "improved parameters with cost  0.000825042590801  found\n",
      "trial  1\n"
     ]
    },
    {
     "name": "stdout",
     "output_type": "stream",
     "text": [
      "0.0132211420394\n"
     ]
    },
    {
     "name": "stdout",
     "output_type": "stream",
     "text": [
      "0.00572278227004\n"
     ]
    },
    {
     "name": "stdout",
     "output_type": "stream",
     "text": [
      "0.00397299150873\n"
     ]
    },
    {
     "name": "stdout",
     "output_type": "stream",
     "text": [
      "0.00317106354178\n"
     ]
    },
    {
     "name": "stdout",
     "output_type": "stream",
     "text": [
      "0.00264834685141\n"
     ]
    },
    {
     "name": "stdout",
     "output_type": "stream",
     "text": [
      "0.00227018251874\n"
     ]
    },
    {
     "name": "stdout",
     "output_type": "stream",
     "text": [
      "improved parameters with cost  0.000140887890472  found\n",
      "trial  2\n"
     ]
    },
    {
     "name": "stdout",
     "output_type": "stream",
     "text": [
      "0.0653409288382\n"
     ]
    },
    {
     "name": "stdout",
     "output_type": "stream",
     "text": [
      "0.0399959743861\n"
     ]
    },
    {
     "name": "stdout",
     "output_type": "stream",
     "text": [
      "0.0225614971023\n"
     ]
    },
    {
     "name": "stdout",
     "output_type": "stream",
     "text": [
      "0.0134364751835\n"
     ]
    },
    {
     "name": "stdout",
     "output_type": "stream",
     "text": [
      "0.00876662175639\n"
     ]
    },
    {
     "name": "stdout",
     "output_type": "stream",
     "text": [
      "0.00641537197632\n"
     ]
    },
    {
     "name": "stdout",
     "output_type": "stream",
     "text": [
      "trial  3\n"
     ]
    },
    {
     "name": "stdout",
     "output_type": "stream",
     "text": [
      "0.00567123253776\n"
     ]
    },
    {
     "name": "stdout",
     "output_type": "stream",
     "text": [
      "0.00284325641983\n"
     ]
    },
    {
     "name": "stdout",
     "output_type": "stream",
     "text": [
      "0.00501481707743\n"
     ]
    },
    {
     "name": "stdout",
     "output_type": "stream",
     "text": [
      "0.0294162494718\n"
     ]
    },
    {
     "name": "stdout",
     "output_type": "stream",
     "text": [
      "0.016280113811\n"
     ]
    },
    {
     "name": "stdout",
     "output_type": "stream",
     "text": [
      "0.00673248996888\n"
     ]
    },
    {
     "name": "stdout",
     "output_type": "stream",
     "text": [
      "trial  4\n"
     ]
    },
    {
     "name": "stdout",
     "output_type": "stream",
     "text": [
      "0.0755300625472\n"
     ]
    },
    {
     "name": "stdout",
     "output_type": "stream",
     "text": [
      "0.0428411622747\n"
     ]
    },
    {
     "name": "stdout",
     "output_type": "stream",
     "text": [
      "0.0234942272911\n"
     ]
    },
    {
     "name": "stdout",
     "output_type": "stream",
     "text": [
      "0.0159804634979\n"
     ]
    },
    {
     "name": "stdout",
     "output_type": "stream",
     "text": [
      "0.0128796665358\n"
     ]
    },
    {
     "name": "stdout",
     "output_type": "stream",
     "text": [
      "0.0112388334332\n"
     ]
    },
    {
     "name": "stdout",
     "output_type": "stream",
     "text": [
      "trial  5\n"
     ]
    },
    {
     "name": "stdout",
     "output_type": "stream",
     "text": [
      "0.0619093066198\n"
     ]
    },
    {
     "name": "stdout",
     "output_type": "stream",
     "text": [
      "0.0308183007812\n"
     ]
    },
    {
     "name": "stdout",
     "output_type": "stream",
     "text": [
      "0.0169443483005\n"
     ]
    },
    {
     "name": "stdout",
     "output_type": "stream",
     "text": [
      "0.0111389032084\n"
     ]
    },
    {
     "name": "stdout",
     "output_type": "stream",
     "text": [
      "0.00848987076213\n"
     ]
    },
    {
     "name": "stdout",
     "output_type": "stream",
     "text": [
      "0.00711316512019\n"
     ]
    },
    {
     "name": "stdout",
     "output_type": "stream",
     "text": [
      "trial  6\n"
     ]
    },
    {
     "name": "stdout",
     "output_type": "stream",
     "text": [
      "0.015629874276\n"
     ]
    },
    {
     "name": "stdout",
     "output_type": "stream",
     "text": [
      "0.00973245997043\n"
     ]
    },
    {
     "name": "stdout",
     "output_type": "stream",
     "text": [
      "0.00670707074932\n"
     ]
    },
    {
     "name": "stdout",
     "output_type": "stream",
     "text": [
      "0.00503891262465\n"
     ]
    },
    {
     "name": "stdout",
     "output_type": "stream",
     "text": [
      "0.00411235244297\n"
     ]
    },
    {
     "name": "stdout",
     "output_type": "stream",
     "text": [
      "0.00361526645645\n"
     ]
    },
    {
     "name": "stdout",
     "output_type": "stream",
     "text": [
      "trial  7\n"
     ]
    },
    {
     "name": "stdout",
     "output_type": "stream",
     "text": [
      "0.0256233065055\n"
     ]
    },
    {
     "name": "stdout",
     "output_type": "stream",
     "text": [
      "0.0136875797009\n"
     ]
    },
    {
     "name": "stdout",
     "output_type": "stream",
     "text": [
      "0.00947071684219\n"
     ]
    },
    {
     "name": "stdout",
     "output_type": "stream",
     "text": [
      "0.00763132813221\n"
     ]
    },
    {
     "name": "stdout",
     "output_type": "stream",
     "text": [
      "0.00649706933203\n"
     ]
    },
    {
     "name": "stdout",
     "output_type": "stream",
     "text": [
      "0.00569503713225\n"
     ]
    },
    {
     "name": "stdout",
     "output_type": "stream",
     "text": [
      "trial  8\n"
     ]
    },
    {
     "name": "stdout",
     "output_type": "stream",
     "text": [
      "0.0171873724757\n"
     ]
    },
    {
     "name": "stdout",
     "output_type": "stream",
     "text": [
      "0.010585163003\n"
     ]
    },
    {
     "name": "stdout",
     "output_type": "stream",
     "text": [
      "0.00820203591863\n"
     ]
    },
    {
     "name": "stdout",
     "output_type": "stream",
     "text": [
      "0.00667829183363\n"
     ]
    },
    {
     "name": "stdout",
     "output_type": "stream",
     "text": [
      "0.00560238932991\n"
     ]
    },
    {
     "name": "stdout",
     "output_type": "stream",
     "text": [
      "0.00478629684098\n"
     ]
    },
    {
     "name": "stdout",
     "output_type": "stream",
     "text": [
      "trial  9\n"
     ]
    },
    {
     "name": "stdout",
     "output_type": "stream",
     "text": [
      "0.026168125283\n"
     ]
    },
    {
     "name": "stdout",
     "output_type": "stream",
     "text": [
      "0.0136171226012\n"
     ]
    },
    {
     "name": "stdout",
     "output_type": "stream",
     "text": [
      "0.00926522829769\n"
     ]
    },
    {
     "name": "stdout",
     "output_type": "stream",
     "text": [
      "0.00739380309569\n"
     ]
    },
    {
     "name": "stdout",
     "output_type": "stream",
     "text": [
      "0.00676059969963\n"
     ]
    },
    {
     "name": "stdout",
     "output_type": "stream",
     "text": [
      "0.00698951778847\n"
     ]
    },
    {
     "name": "stdout",
     "output_type": "stream",
     "text": [
      "Trials complete\n"
     ]
    }
   ],
   "source": [
    "best_theta=np.zeros(12)\n",
    "best_initial_theta=np.zeros(12)\n",
    "num_trials=10\n",
    "for i in range(num_trials):\n",
    "    print \"trial \",i\n",
    "    ######### theta between certain numbers\n",
    "    random_theta=learningRate*np.random.rand(12)\n",
    "    sol_theta=my_grad_desc(cost,gradcost,random_theta,10**(-11),10**(-11),2000)\n",
    "    if cost(sol_theta)<cost(best_theta):\n",
    "        print \"improved parameters with cost \",cost(sol_theta),\" found\"\n",
    "        best_theta=sol_theta\n",
    "        best_initial_theta=random_theta\n",
    "print \"Trials complete\""
   ]
  },
  {
   "cell_type": "code",
   "execution_count": 13,
   "metadata": {
    "collapsed": false
   },
   "outputs": [
    {
     "data": {
      "text/plain": [
       "array([ 2.72290559,  4.00210685, -1.38816066, -1.01186484,  3.08729029,\n",
       "        2.74788794, -2.29774811,  0.83698494, -1.84040938, -0.06511214,\n",
       "        3.38834455,  0.26978883])"
      ]
     },
     "execution_count": 13,
     "metadata": {
     },
     "output_type": "execute_result"
    }
   ],
   "source": [
    "best_theta"
   ]
  },
  {
   "cell_type": "code",
   "execution_count": 14,
   "metadata": {
    "collapsed": false
   },
   "outputs": [
    {
     "data": {
      "text/plain": [
       "0.00014088789047151206"
      ]
     },
     "execution_count": 14,
     "metadata": {
     },
     "output_type": "execute_result"
    }
   ],
   "source": [
    "cost(best_theta)"
   ]
  },
  {
   "cell_type": "code",
   "execution_count": 15,
   "metadata": {
    "collapsed": false
   },
   "outputs": [
    {
     "data": {
      "image/png": "[encoded data removed]"
     }
    }
   ],
   "source": [
    "fig = plt.figure()\n",
    "axes = fig.add_axes([0.1, 0.1, 0.9, 0.7]) \n",
    "ypredicted = mu(best_theta,x4plotting) \n",
    "yfinal = np.append(ypredicted , -1*ypredicted)\n",
    "xfinal = np.linspace(0,2*np.pi,200)\n",
    "axes.plot(xfinal,np.sin(xfinal),c=\"r\");\n",
    "axes.plot(xfinal,yfinal,c=\"b\");"
   ]
  },
  {
   "cell_type": "code",
   "execution_count": 16,
   "metadata": {
    "collapsed": false
   },
   "outputs": [
   ],
   "source": [
    "# fig = plt.figure()\n",
    "# axes = fig.add_axes([0.1, 0.1, 0.9, 0.7]) \n",
    "# axes.plot(xx,yy,c=\"r\");\n",
    "# axes.plot(xx,mu(best_theta,xx),c=\"b\");"
   ]
  },
  {
   "cell_type": "code",
   "execution_count": 0,
   "metadata": {
    "collapsed": false
   },
   "outputs": [
   ],
   "source": [
   ]
  }
 ],
 "metadata": {
  "kernelspec": {
   "display_name": "Python 2 (SageMath)",
   "language": "python",
   "name": "python2"
  },
  "language_info": {
   "codemirror_mode": {
    "name": "ipython",
    "version": 2
   },
   "file_extension": ".py",
   "mimetype": "text/x-python",
   "name": "python",
   "nbconvert_exporter": "python",
   "pygments_lexer": "ipython2",
   "version": "2.7.14"
  }
 },
 "nbformat": 4,
 "nbformat_minor": 0
}