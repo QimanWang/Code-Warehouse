{
 "cells": [
  {
   "cell_type": "code",
   "execution_count": 1,
   "metadata": {
    "collapsed": true
   },
   "outputs": [],
   "source": [
    "import numpy as np\n",
    "import math\n",
    "import matplotlib\n",
    "import matplotlib.pyplot as plt\n",
    "from mpl_toolkits.mplot3d import Axes3D\n",
    "from matplotlib import cm\n",
    "%matplotlib inline"
   ]
  },
  {
   "cell_type": "code",
   "execution_count": 2,
   "metadata": {
    "collapsed": true
   },
   "outputs": [],
   "source": [
    "# return a number computed from function p with input a = [a0, a1, .. a5] x:[1, x1, x2,...x5]\n",
    "def p(a,x):\n",
    "    result = 0\n",
    "    for i in range(len(x)):\n",
    "            result += (a[i]*x[i]**i)\n",
    "    return result  "
   ]
  },
  {
   "cell_type": "code",
   "execution_count": 4,
   "metadata": {
    "collapsed": false
   },
   "outputs": [
    {
     "name": "stdout",
     "output_type": "stream",
     "text": [
      "[ 0.    0.25  0.5   0.75  1.    1.25  1.5   1.75  2.    2.25  2.5   2.75\n",
      "  3.    3.25  3.5   3.75  4.    4.25  4.5   4.75]\n",
      "[  5.85953121  22.88309989  30.38942188  13.21021289   0.32720096\n",
      "   3.97301535  -3.90770545   5.3292406   14.74408003   6.78220144\n",
      "   8.31606066   6.03781717  11.00363366  -1.53629526  -0.58868123\n",
      "  -4.30375877   9.41031136  18.14232431  54.81734958  92.26249149]\n"
     ]
    }
   ],
   "source": [
    "# load the data:\n",
    "data=np.load('datafile.npy')\n",
    "x =(data[:,0])\n",
    "y =(data[:,1])\n",
    "print(x)\n",
    "print(y)"
   ]
  },
  {
   "cell_type": "code",
   "execution_count": null,
   "metadata": {
    "collapsed": true
   },
   "outputs": [],
   "source": [
    "a_new = [0,0,0,0,0,0] # initial cofeeicents\n",
    "h = 0.1 # step size\n",
    "precision = 0.01\n",
    "#outer loop to know when to stop algorithm\n",
    "for iter in range(10):\n",
    "        a_old = a_new\n",
    "        #update each of the a's\n",
    "        for jth_a in len(0,len(a_old)):\n",
    "            #calculate the summation\n",
    "            sum = 0\n",
    "            for ith_data in len(0,len(x)):\n",
    "                sum = sum + p(a_old )\n",
    "                \n",
    "            \n",
    "            a_new[jth_a] = a_old[jth_a] - h *\n",
    "            \n",
    "            \n",
    "#             a_new[1] = a_old[1] - h * sum(a_old,x,y)\n",
    "#             a_new[2] = a_old[2] - h * sum(a_old,x,y)\n",
    "#             a_new[3] = a_old[3] - h * sum(a_old,x,y)\n",
    "#             a_new[4] = a_old[4] - h * sum(a_old,x,y)\n",
    "#             a_new[5] = a_old[5] - h * sum(a_old,x,y)"
   ]
  }
 ],
 "metadata": {
  "kernelspec": {
   "display_name": "Python [conda env:p_3.5]",
   "language": "python",
   "name": "conda-env-p_3.5-py"
  },
  "language_info": {
   "codemirror_mode": {
    "name": "ipython",
    "version": 3
   },
   "file_extension": ".py",
   "mimetype": "text/x-python",
   "name": "python",
   "nbconvert_exporter": "python",
   "pygments_lexer": "ipython3",
   "version": "3.5.3"
  }
 },
 "nbformat": 4,
 "nbformat_minor": 1
}
