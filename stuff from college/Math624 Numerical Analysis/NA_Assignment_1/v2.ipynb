{
 "cells": [
  {
   "cell_type": "code",
   "execution_count": 2,
   "metadata": {
    "collapsed": true
   },
   "outputs": [],
   "source": [
    "import numpy as np\n",
    "import math\n",
    "import matplotlib\n",
    "import matplotlib.pyplot as plt\n",
    "from mpl_toolkits.mplot3d import Axes3D\n",
    "from matplotlib import cm\n",
    "%matplotlib inline"
   ]
  },
  {
   "cell_type": "code",
   "execution_count": 3,
   "metadata": {
    "collapsed": false,
    "scrolled": true
   },
   "outputs": [
    {
     "data": {
      "image/png": "[encoded data removed]",
      "text/plain": [
       "<matplotlib.figure.Figure at 0x24d796dd940>"
      ]
     },
     "metadata": {},
     "output_type": "display_data"
    }
   ],
   "source": [
    "# load the data:\n",
    "data=np.load('datafile.npy')\n",
    "fig = plt.figure()\n",
    "axes = fig.add_axes([0.1, 0.1, 0.9, 0.7]) \n",
    "axes.scatter(data[:,0],data[:,1],c=\"b\");"
   ]
  },
  {
   "cell_type": "code",
   "execution_count": 4,
   "metadata": {
    "collapsed": false
   },
   "outputs": [],
   "source": [
    "# return a number computed from function p with input a = [a0, a1, .. a5] x:[1, x1, x2,...x5]\n",
    "def p(a,x):\n",
    "    result = 0\n",
    "    for i in range(len(x)):\n",
    "            result += (a[i]*x[i]**i)\n",
    "    return result  "
   ]
  },
  {
   "cell_type": "code",
   "execution_count": 5,
   "metadata": {
    "collapsed": false
   },
   "outputs": [],
   "source": [
    "def grad_p(a,x):\n",
    "#     g_arr = np.array([])\n",
    "#     for i in range(1,len(x)):\n",
    "#         np.append(g_arr,[i*a[i-1]*x[i-1]**i-1]) \n",
    "#     return g_arr\n",
    "    return np.array([5*a[5]*x[5]**4 , 4*a[4]*x[4]**3 , 3*a[3]*x[3]**2 , 2*a[2]*x[2]**1 , a[1]*a[1] ])"
   ]
  },
  {
   "cell_type": "code",
   "execution_count": 18,
   "metadata": {
    "collapsed": true
   },
   "outputs": [],
   "source": [
    "def sum(a,x,y):\n",
    "    sum = 0;\n",
    "    m = len(x)\n",
    "    for i in range(0,m):\n",
    "        sum = sum + abs(p(a,[1,x[i],x[i],x[i],x[i],x[i]]) - y[i] ) \n",
    "    return sum/m"
   ]
  },
  {
   "cell_type": "code",
   "execution_count": 8,
   "metadata": {
    "collapsed": false
   },
   "outputs": [
    {
     "name": "stdout",
     "output_type": "stream",
     "text": [
      "[ 0.    0.25  0.5   0.75  1.    1.25  1.5   1.75  2.    2.25  2.5   2.75\n",
      "  3.    3.25  3.5   3.75  4.    4.25  4.5   4.75]\n",
      "[  5.85953121  22.88309989  30.38942188  13.21021289   0.32720096\n",
      "   3.97301535  -3.90770545   5.3292406   14.74408003   6.78220144\n",
      "   8.31606066   6.03781717  11.00363366  -1.53629526  -0.58868123\n",
      "  -4.30375877   9.41031136  18.14232431  54.81734958  92.26249149]\n"
     ]
    }
   ],
   "source": [
    "x =(data[:,0])\n",
    "y =(data[:,1])\n",
    "print(x)\n",
    "print(y)"
   ]
  },
  {
   "cell_type": "code",
   "execution_count": 20,
   "metadata": {
    "collapsed": false
   },
   "outputs": [],
   "source": [
    "a_old = [0,0,0,0,0,0] # initial cofeeicents\n",
    "a_new = a_old\n",
    "h = 0.1 # step size\n",
    "precision = 0.01\n",
    "x_poly = \n",
    "#outer loop to know when to stop algorithm\n",
    "for iter in range(10):\n",
    "        a_old = a_new\n",
    "        #update each of the a's\n",
    "        a_new[0] = a_old[0] - h * sum(a_old,x,y)\n",
    "        a_new[1] = a_old[1] - h * sum(a_old,x,y)\n",
    "        a_new[2] = a_old[2] - h * sum(a_old,x,y)\n",
    "        a_new[3] = a_old[3] - h * sum(a_old,x,y)\n",
    "        a_new[4] = a_old[4] - h * sum(a_old,x,y)\n",
    "        a_new[5] = a_old[5] - h * sum(a_old,x,y)\n",
    "        \n",
    "        "
   ]
  },
  {
   "cell_type": "code",
   "execution_count": 12,
   "metadata": {
    "collapsed": false
   },
   "outputs": [
    {
     "name": "stdout",
     "output_type": "stream",
     "text": [
      "243\n",
      "[405   0   0   0   0]\n"
     ]
    }
   ],
   "source": [
    "a=[0,0,10,0,0,1]\n",
    "x=[1, 0,0,0,0,3]\n",
    "pp = p(a,x)\n",
    "print(pp)\n",
    "gg = grad_p(a,x)\n",
    "print(gg)"
   ]
  },
  {
   "cell_type": "code",
   "execution_count": 13,
   "metadata": {
    "collapsed": false
   },
   "outputs": [
    {
     "ename": "NameError",
     "evalue": "name 'a_old' is not defined",
     "output_type": "error",
     "traceback": [
      "\u001b[0;31m---------------------------------------------------------------------------\u001b[0m",
      "\u001b[0;31mNameError\u001b[0m                                 Traceback (most recent call last)",
      "\u001b[0;32m<ipython-input-13-1b6f02ab2859>\u001b[0m in \u001b[0;36m<module>\u001b[0;34m()\u001b[0m\n\u001b[0;32m----> 1\u001b[0;31m \u001b[1;32mfor\u001b[0m \u001b[0mith\u001b[0m \u001b[1;32min\u001b[0m \u001b[0mrange\u001b[0m\u001b[1;33m(\u001b[0m\u001b[1;36m1\u001b[0m\u001b[1;33m,\u001b[0m\u001b[0mlen\u001b[0m\u001b[1;33m(\u001b[0m\u001b[0ma_old\u001b[0m\u001b[1;33m)\u001b[0m\u001b[1;33m)\u001b[0m\u001b[1;33m:\u001b[0m\u001b[1;33m\u001b[0m\u001b[0m\n\u001b[0m\u001b[1;32m      2\u001b[0m     \u001b[0mprint\u001b[0m\u001b[1;33m(\u001b[0m\u001b[0mith\u001b[0m\u001b[1;33m)\u001b[0m\u001b[1;33m\u001b[0m\u001b[0m\n",
      "\u001b[0;31mNameError\u001b[0m: name 'a_old' is not defined"
     ]
    }
   ],
   "source": [
    "for ith in range(1,len(a_old)):\n",
    "    print(ith)"
   ]
  },
  {
   "cell_type": "code",
   "execution_count": null,
   "metadata": {
    "collapsed": false
   },
   "outputs": [],
   "source": [
    "x_in =(data[:,0])\n",
    "y_in =(data[:,1])\n",
    "a_old = [0,0,2,0,0,0] # initial cofeeicents\n",
    "print(x)\n",
    "print(y)\n",
    "h = 0.1 # step size\n",
    "precision = 0.01\n",
    "a_list = a_old # store coefficent updates\n",
    "p_list = [p(a_old,[1,x,x,x,x,x])]\n",
    "print(\"a_list:\",a_list)\n",
    "print(\"p_list:\",p_list)\n",
    "print(a_old)\n",
    "print(x_vector)\n",
    "\n",
    "a_new = a_old - h * grad_p(a_old,x_vector)\n",
    "\n",
    "a_list.append(a_new)\n",
    "p_list.append(p(a_new,x_vector))\n",
    "\n",
    "\n",
    "\n",
    "\n"
   ]
  },
  {
   "cell_type": "code",
   "execution_count": null,
   "metadata": {
    "collapsed": false
   },
   "outputs": [],
   "source": [
    "grad_p([0,0,0,0,0,0],[0,0,0,0,0,0])[8]"
   ]
  },
  {
   "cell_type": "code",
   "execution_count": null,
   "metadata": {
    "collapsed": false
   },
   "outputs": [],
   "source": [
    "x_vector"
   ]
  },
  {
   "cell_type": "code",
   "execution_count": null,
   "metadata": {
    "collapsed": false
   },
   "outputs": [],
   "source": [
    "x_in"
   ]
  },
  {
   "cell_type": "code",
   "execution_count": null,
   "metadata": {
    "collapsed": false
   },
   "outputs": [],
   "source": [
    "x_in[0]"
   ]
  },
  {
   "cell_type": "code",
   "execution_count": null,
   "metadata": {
    "collapsed": true
   },
   "outputs": [],
   "source": [
    "#outer loop to know when to stop algorithm\n",
    "for iter in range(10):\n",
    "    "
   ]
  },
  {
   "cell_type": "code",
   "execution_count": null,
   "metadata": {
    "collapsed": true
   },
   "outputs": [],
   "source": []
  },
  {
   "cell_type": "code",
   "execution_count": null,
   "metadata": {
    "collapsed": true
   },
   "outputs": [],
   "source": []
  },
  {
   "cell_type": "code",
   "execution_count": null,
   "metadata": {
    "collapsed": true
   },
   "outputs": [],
   "source": []
  },
  {
   "cell_type": "code",
   "execution_count": null,
   "metadata": {
    "collapsed": true
   },
   "outputs": [],
   "source": []
  }
 ],
 "metadata": {
  "anaconda-cloud": {},
  "kernelspec": {
   "display_name": "Python [default]",
   "language": "python",
   "name": "python3"
  },
  "language_info": {
   "codemirror_mode": {
    "name": "ipython",
    "version": 3
   },
   "file_extension": ".py",
   "mimetype": "text/x-python",
   "name": "python",
   "nbconvert_exporter": "python",
   "pygments_lexer": "ipython3",
   "version": "3.5.2"
  }
 },
 "nbformat": 4,
 "nbformat_minor": 1
}
