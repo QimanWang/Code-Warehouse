{
 "cells": [
  {
   "cell_type": "markdown",
   "metadata": {
    "collapsed": false
   },
   "source": [
    "# Gram Schmidt Process - Examples, code, Exercises\n",
    "\n",
    "A great reference for this is Examples 6.33 and 6.58 in Sheldon Axler's <a href=\"http://linear.axler.net\"><em>Linear Algebra Done Right</em></a>, from <a href=\"http://linear.axler.net/InnerProduct.pdf\">the chapter on Inner Product Spaces</a>."
   ]
  },
  {
   "cell_type": "code",
   "execution_count": 1,
   "metadata": {
    "collapsed": false
   },
   "outputs": [
   ],
   "source": [
    "import numpy as np"
   ]
  },
  {
   "cell_type": "markdown",
   "metadata": {
    "collapsed": false
   },
   "source": [
    "## In $\\mathbb{R}^n$\n",
    "First, let's write a simple program that implements the Gram-Schmidt process for a list of vectors in $\\mathbb{R}^n$ using the ordinary dot product for the inner product."
   ]
  },
  {
   "cell_type": "code",
   "execution_count": 2,
   "metadata": {
    "collapsed": false
   },
   "outputs": [
   ],
   "source": [
    "def gram_schmidt(M):\n",
    "    # M is a list of vectors\n",
    "    k=len(M)\n",
    "    E=[] # initialize the output\n",
    "    for i in range(k):\n",
    "        fi=M[i] # fi is the i-th vector of M\n",
    "        for j in range(i): # This loop only exists when i>0\n",
    "            fi+=-np.dot(E[j],M[i])*E[j]\n",
    "        E.append(1/np.sqrt(np.dot(fi,fi))*fi)\n",
    "    return E"
   ]
  },
  {
   "cell_type": "code",
   "execution_count": 3,
   "metadata": {
    "collapsed": false
   },
   "outputs": [
    {
     "name": "stdout",
     "output_type": "stream",
     "text": [
      "[[ 1.  2.  3.]\n",
      " [ 1.  1.  1.]\n",
      " [ 0.  1.  0.]]\n"
     ]
    }
   ],
   "source": [
    "myvecs=np.array([[1.0,2,3],[1.0,1,1],[0,1,0]])\n",
    "print myvecs"
   ]
  },
  {
   "cell_type": "code",
   "execution_count": 4,
   "metadata": {
    "collapsed": false
   },
   "outputs": [
   ],
   "source": [
    "mye=gram_schmidt(myvecs)"
   ]
  },
  {
   "cell_type": "code",
   "execution_count": 5,
   "metadata": {
    "collapsed": false
   },
   "outputs": [
    {
     "name": "stdout",
     "output_type": "stream",
     "text": [
      "[ 0.26726124  0.53452248  0.80178373]\n",
      "[ 0.87287156  0.21821789 -0.43643578]\n",
      "[-0.40824829  0.81649658 -0.40824829]\n"
     ]
    }
   ],
   "source": [
    "print mye[0]\n",
    "print mye[1]\n",
    "print mye[2]"
   ]
  },
  {
   "cell_type": "markdown",
   "metadata": {
    "collapsed": false
   },
   "source": [
    "Look, the results are orthonormal, up to many significant digits"
   ]
  },
  {
   "cell_type": "code",
   "execution_count": 6,
   "metadata": {
    "collapsed": false
   },
   "outputs": [
    {
     "name": "stdout",
     "output_type": "stream",
     "text": [
      "i= 0 j= 0  <ei,ej>= 1.0\n",
      "i= 0 j= 1  <ei,ej>= -1.66533453694e-16\n",
      "i= 0 j= 2  <ei,ej>= 0.0\n",
      "i= 1 j= 0  <ei,ej>= -1.66533453694e-16\n",
      "i= 1 j= 1  <ei,ej>= 1.0\n",
      "i= 1 j= 2  <ei,ej>= -2.77555756156e-17\n",
      "i= 2 j= 0  <ei,ej>= 0.0\n",
      "i= 2 j= 1  <ei,ej>= -2.77555756156e-17\n",
      "i= 2 j= 2  <ei,ej>= 1.0\n"
     ]
    }
   ],
   "source": [
    "for i in range(3):\n",
    "    for j in range(3):\n",
    "        print \"i=\",i,\"j=\",j,\" <ei,ej>=\",np.dot(mye[i],mye[j])"
   ]
  },
  {
   "cell_type": "markdown",
   "metadata": {
    "collapsed": false
   },
   "source": [
    "## Example using polynomials and a different inner product"
   ]
  },
  {
   "cell_type": "markdown",
   "metadata": {
    "collapsed": false
   },
   "source": [
    "In example 6.33 of Axler's book, he consders the vector space $V$ of continuous functions on $[-1,1]$ and defines the inner product by\n",
    "$$\\langle f, g\\rangle = \\int_{-1}^{1} f(x)g(x) \\,dx.$$\n",
    "Let's import sympy and declare $x$ as a variable so we can easily define and manipulate functions."
   ]
  },
  {
   "cell_type": "code",
   "execution_count": 2,
   "metadata": {
    "collapsed": false
   },
   "outputs": [
   ],
   "source": [
    "from sympy import *"
   ]
  },
  {
   "cell_type": "code",
   "execution_count": 3,
   "metadata": {
    "collapsed": false
   },
   "outputs": [
   ],
   "source": [
    "x = Symbol('x')"
   ]
  },
  {
   "cell_type": "code",
   "execution_count": 10,
   "metadata": {
    "collapsed": false
   },
   "outputs": [
   ],
   "source": [
    "import scipy.integrate as integrate"
   ]
  },
  {
   "cell_type": "code",
   "execution_count": 4,
   "metadata": {
    "collapsed": false
   },
   "outputs": [
   ],
   "source": [
    "from math import pi # we want this later"
   ]
  },
  {
   "cell_type": "code",
   "execution_count": 5,
   "metadata": {
    "collapsed": false
   },
   "outputs": [
    {
     "data": {
      "text/plain": [
       "3.141592653589793"
      ]
     },
     "execution_count": 5,
     "metadata": {
     },
     "output_type": "execute_result"
    }
   ],
   "source": [
    "pi"
   ]
  },
  {
   "cell_type": "code",
   "execution_count": 20,
   "metadata": {
    "collapsed": false
   },
   "outputs": [
   ],
   "source": [
    "def ip2(f,g):\n",
    "    return integrate(f*g,(x,-1,1))"
   ]
  },
  {
   "cell_type": "markdown",
   "metadata": {
    "collapsed": false
   },
   "source": [
    "\"Integrate\" is a function from sympy that we can drop in and use for this demonstration.  In an enterprise application, you'd probably be better off doing numerical integration, something like quad from scipy.integrate."
   ]
  },
  {
   "cell_type": "code",
   "execution_count": 21,
   "metadata": {
    "collapsed": false
   },
   "outputs": [
    {
     "data": {
      "text/plain": [
       "-E*cos(1)/2 + exp(-1)*cos(1)/2 + exp(-1)*sin(1)/2 + E*sin(1)/2"
      ]
     },
     "execution_count": 21,
     "metadata": {
     },
     "output_type": "execute_result"
    }
   ],
   "source": [
    "ip2(sin(x),exp(x))"
   ]
  },
  {
   "cell_type": "markdown",
   "metadata": {
    "collapsed": false
   },
   "source": [
    "Now, we can find an orhtonormal basis for the space of polynomials of degree $\\leq 2$."
   ]
  },
  {
   "cell_type": "code",
   "execution_count": 22,
   "metadata": {
    "collapsed": false
   },
   "outputs": [
   ],
   "source": [
    "k=2 # max degree\n",
    "myE=[] # initialize the output with zeros\n",
    "for i in range(k+1):\n",
    "    fi=x**i\n",
    "    for j in range(i):\n",
    "        fi+=-ip2(myE[j],x**i)*myE[j]\n",
    "    myE.append(fi/(sqrt(ip2(fi,fi))))"
   ]
  },
  {
   "cell_type": "code",
   "execution_count": 24,
   "metadata": {
    "collapsed": false
   },
   "outputs": [
    {
     "name": "stdout",
     "output_type": "stream",
     "text": [
      "sqrt(2)/2\n",
      "sqrt(6)*x/2\n",
      "3*sqrt(10)*(x**2 - 1/3)/4\n"
     ]
    }
   ],
   "source": [
    "for p in myE:\n",
    "    print p"
   ]
  },
  {
   "cell_type": "markdown",
   "metadata": {
    "collapsed": false
   },
   "source": [
    "Compare our results to Axler's example."
   ]
  },
  {
   "cell_type": "markdown",
   "metadata": {
    "collapsed": false
   },
   "source": [
    "## Now, example 6.58\n",
    "Find a polynomial $u$ with real coefficients and degree at most $5$ that approximates $\\sin(x)$ as well as possible on the interval $[-\\pi,\\pi]$\n",
    "the sense that \n",
    "\n",
    "$$\\int_{-\\pi}^{\\pi} |\\sin(x)-u(x)|^2 \\, dx$$\n",
    "\n",
    "is as small as possible. Compare this result to the Taylor series approximation."
   ]
  },
  {
   "cell_type": "markdown",
   "metadata": {
    "collapsed": false
   },
   "source": [
    "The criterion stated for approximating ``as well as possible'' means that $u(x)$ is the polynomial closest to $\\sin(x)$, using the norm defined by the innter product\n",
    "\n",
    "$$\\langle f,g \\rangle = \\int_{-\\pi}^{\\pi}f(x)g(x)\\,dx.$$\n",
    "\n",
    "We can find $u$ by othogonal projection of $\\sin(x)$ on the subspace $U$ of polynomials of degree $\\leq 5.$  For this, we first find an orthonormal basis for $U$."
   ]
  },
  {
   "cell_type": "markdown",
   "metadata": {
    "collapsed": false
   },
   "source": [
    "We have to change the limits of integration, but we'll make another change too.  We'll introduce a numerical integration."
   ]
  },
  {
   "cell_type": "code",
   "execution_count": 82,
   "metadata": {
    "collapsed": false
   },
   "outputs": [
   ],
   "source": [
    "import scipy.integrate as integrate"
   ]
  },
  {
   "cell_type": "code",
   "execution_count": 83,
   "metadata": {
    "collapsed": false
   },
   "outputs": [
   ],
   "source": [
    "def ip3(f,g):\n",
    "    h=f*g;\n",
    "    return integrate.quad(lambda t: h.subs(x,t),-pi,pi)[0]"
   ]
  },
  {
   "cell_type": "code",
   "execution_count": 84,
   "metadata": {
    "collapsed": false
   },
   "outputs": [
    {
     "data": {
      "text/plain": [
       "24.313441517522115"
      ]
     },
     "execution_count": 84,
     "metadata": {
     },
     "output_type": "execute_result"
    }
   ],
   "source": [
    "ip3(sin(x),x**3)"
   ]
  },
  {
   "cell_type": "code",
   "execution_count": 85,
   "metadata": {
    "collapsed": false
   },
   "outputs": [
   ],
   "source": [
    "k=5 # max degree\n",
    "myE=[] # initialize the output with zeros\n",
    "for i in range(k+1):\n",
    "    fi=x**i\n",
    "    for j in range(i):\n",
    "        fi+=-ip3(myE[j],x**i)*myE[j]\n",
    "    myE.append(fi/(sqrt(ip3(fi,fi))))"
   ]
  },
  {
   "cell_type": "code",
   "execution_count": 86,
   "metadata": {
    "collapsed": false
   },
   "outputs": [
    {
     "name": "stdout",
     "output_type": "stream",
     "text": [
      "0.398942280401433\n",
      "0.219948406790773*x\n",
      "0.135577175410079*x**2 - 0.446031029038193\n",
      "0.0851039026947899*x**3 - 0.503965111551828*x\n",
      "0.0537538886225829*x**4 - 0.454739670621524*x**2 + 0.448810065451612\n",
      "0.0340492544849719*x**5 - 0.373391857687433*x**3 + 0.789692126134889*x\n"
     ]
    }
   ],
   "source": [
    "for p in myE:\n",
    "    print p"
   ]
  },
  {
   "cell_type": "markdown",
   "metadata": {
    "collapsed": false
   },
   "source": [
    "Now, we orthogonally project $\\sin(x)$ onto $U$."
   ]
  },
  {
   "cell_type": "code",
   "execution_count": 89,
   "metadata": {
    "collapsed": false,
    "scrolled": true
   },
   "outputs": [
    {
     "name": "stdout",
     "output_type": "stream",
     "text": [
      "0.00564311797634686*x**5 - 0.155271410633429*x**3 + 0.987862135574676*x\n"
     ]
    }
   ],
   "source": [
    "u=0\n",
    "for p in myE:\n",
    "    u+= ip3(sin(x),p) * p\n",
    "print u"
   ]
  },
  {
   "cell_type": "markdown",
   "metadata": {
    "collapsed": false
   },
   "source": [
    "Here's a picture:  the sine is in red, the approximation $u$ is in blue.  The fifth degree Taylor polynomial is in green."
   ]
  },
  {
   "cell_type": "code",
   "execution_count": 93,
   "metadata": {
    "collapsed": false
   },
   "outputs": [
    {
     "data": {
      "image/png": "[encoded data removed]"
     },
     "output_type": "execute_result"
    }
   ],
   "source": [
    "myplot=plot(sin(x),u,x-x**3 /6.+x**5 / 120.0,(x,-4,4),ylim=[-1,1],show=False)\n",
    "myplot[0].line_color = 'r'\n",
    "myplot[2].line_color = 'g'\n",
    "myplot.show()"
   ]
  },
  {
   "cell_type": "markdown",
   "metadata": {
    "collapsed": false
   },
   "source": [
    "### One more inner product"
   ]
  },
  {
   "cell_type": "code",
   "execution_count": 132,
   "metadata": {
    "collapsed": false
   },
   "outputs": [
    {
     "data": {
      "text/plain": [
       "array([-3. , -1.8, -0.6,  0.6,  1.8,  3. ])"
      ]
     },
     "execution_count": 132,
     "metadata": {
     },
     "output_type": "execute_result"
    }
   ],
   "source": [
    "np.linspace(-3,3,6)"
   ]
  },
  {
   "cell_type": "code",
   "execution_count": 138,
   "metadata": {
    "collapsed": false
   },
   "outputs": [
   ],
   "source": [
    "def ip3(f,g):\n",
    "    xvals=np.linspace(-3,3,6)\n",
    "    out=0\n",
    "    for xval in xvals:\n",
    "        out+=f.subs(x,xval)*g.subs(x,xval)\n",
    "    return out"
   ]
  },
  {
   "cell_type": "code",
   "execution_count": 139,
   "metadata": {
    "collapsed": false
   },
   "outputs": [
    {
     "data": {
      "text/plain": [
       "19.2233647503028"
      ]
     },
     "execution_count": 139,
     "metadata": {
     },
     "output_type": "execute_result"
    }
   ],
   "source": [
    "ip3(sin(x),x**3)"
   ]
  },
  {
   "cell_type": "code",
   "execution_count": 140,
   "metadata": {
    "collapsed": false
   },
   "outputs": [
   ],
   "source": [
    "k=5 # max degree\n",
    "myF=[] # initialize the output with zeros\n",
    "for i in range(k+1):\n",
    "    fi=x**i\n",
    "    for j in range(i):\n",
    "        fi+=-ip3(myF[j],x**i)*myF[j]\n",
    "    myF.append(fi/(sqrt(ip3(fi,fi))))"
   ]
  },
  {
   "cell_type": "code",
   "execution_count": 0,
   "metadata": {
    "collapsed": false
   },
   "outputs": [
   ],
   "source": [
   ]
  },
  {
   "cell_type": "code",
   "execution_count": 141,
   "metadata": {
    "collapsed": false
   },
   "outputs": [
    {
     "name": "stdout",
     "output_type": "stream",
     "text": [
      "sqrt(6)/6\n",
      "0.199204768222399*x + 2.21161720295625e-17\n",
      "0.113655151164579*x**2 + 2.01089350016141e-17*x - 0.477351634891233\n",
      "0.0718900455729099*x**3 - 0.522784411406201*x + 5.81045802328965e-18\n",
      "0.0531634056525003*x**4 - 0.519482420947289*x**2 - 9.19117007040307e-17*x + 0.558088167177687\n",
      "0.0531634056525003*x**5 + 3.81565757201043e-16*x**4 - 0.616695505569003*x**3 - 3.72844254179305e-15*x**2 + 1.26502171854679*x + 3.59823467707938e-15\n"
     ]
    }
   ],
   "source": [
    "for p in myF:\n",
    "    print p"
   ]
  },
  {
   "cell_type": "code",
   "execution_count": 142,
   "metadata": {
    "collapsed": false
   },
   "outputs": [
    {
     "name": "stdout",
     "output_type": "stream",
     "text": [
      "0.00615078036331832*x**5 + 1.66628436800185e-17*x**4 - 0.161047089652637*x**3 - 1.51778812318291e-16*x**2 + 0.998250600131574*x + 4.42956011211322e-17\n"
     ]
    }
   ],
   "source": [
    "v=0\n",
    "for p in myF:\n",
    "    v+= ip3(sin(x),p) * p\n",
    "print v"
   ]
  },
  {
   "cell_type": "markdown",
   "metadata": {
    "collapsed": false
   },
   "source": [
    "Here are a few closeups"
   ]
  },
  {
   "cell_type": "code",
   "execution_count": 146,
   "metadata": {
    "collapsed": false
   },
   "outputs": [
    {
     "data": {
      "image/png": "[encoded data removed]"
     },
     "output_type": "execute_result"
    }
   ],
   "source": [
    "myplot=plot(sin(x),u,v,(x,.5,.7),ylim=[.5,.7],show=False)\n",
    "myplot[0].line_color = 'r'\n",
    "myplot[2].line_color = 'g'\n",
    "myplot.show()"
   ]
  },
  {
   "cell_type": "code",
   "execution_count": 150,
   "metadata": {
    "collapsed": false
   },
   "outputs": [
    {
     "data": {
      "image/png": "[encoded data removed]"
     },
     "output_type": "execute_result"
    }
   ],
   "source": [
    "myplot=plot(sin(x),u,v,(x,1.2,1.4),ylim=[.9,1.05],show=False)\n",
    "myplot[0].line_color = 'r'\n",
    "myplot[2].line_color = 'g'\n",
    "myplot.show()"
   ]
  },
  {
   "cell_type": "markdown",
   "metadata": {
    "collapsed": false
   },
   "source": [
    "# Project: Approximate the sine in six ways.  \n",
    "\n",
    "Find a cubic polynomial $u$ that best approximates $\\sin(t)$ in the sense that $\\|u(t)-\\sin(t)\\|$ is minimized.  The definition of the norm $\\| \\qquad \\|$, however, depends on a choice of inner product.  Here are six different ways to define inner products on the vector space of polynomials of degree less than or equal to $3$.\n",
    "\n",
    "\\begin{align*}\n",
    "\\langle f,g\\rangle_6&=f(3)g(3)+f'(3)g'(3)+f''(3)g''(3)+f'''(3)g'''(3)\\\\\n",
    " \\langle f,g\\rangle_5&=\\int_0^6 f(t)g(t)dt \\\\\n",
    " \\langle f,g\\rangle_3&=f(0)g(0)+f(2)g(2)+f(4)g(4)+f(6)g(6)\\\\\n",
    "\\langle f,g\\rangle_2&=f(1)g(1)+f'(1)g'(1)+f(5)g(5)+f'(5)g'(5)\\\\\n",
    " \\langle f,g\\rangle_4&=f(0)g(0)+f(3)g(3)+f'(3)g'(3)+f(6)g(6)\\\\\n",
    " \\langle f,g\\rangle_1&=f(0)g(0)+f'(0)g'(0)+f(6)g(6)+f'(6)g'(6)\n",
    "\\end{align*}\n",
    "\n",
    "\n",
    "I encourage you to work in groups and turn in one assignment per group.  Write your solutions in a seperate Jupyter notebook.  Write clearly documented code, create some good pictures, and write observations and conclusions."
   ]
  }
 ],
 "metadata": {
  "kernelspec": {
   "display_name": "Python 2 (SageMath)",
   "language": "python",
   "name": "python2"
  },
  "language_info": {
   "codemirror_mode": {
    "name": "ipython",
    "version": 2
   },
   "file_extension": ".py",
   "mimetype": "text/x-python",
   "name": "python",
   "nbconvert_exporter": "python",
   "pygments_lexer": "ipython2",
   "version": "2.7.13"
  }
 },
 "nbformat": 4,
 "nbformat_minor": 0
}