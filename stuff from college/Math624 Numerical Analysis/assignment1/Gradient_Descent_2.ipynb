{
 "cells": [
  {
   "cell_type": "markdown",
   "metadata": {
    "collapsed": false
   },
   "source": [
    "# Basic Gradient Descent\n",
    "\n",
    "Gradient descent is an important algorithm for minimizing a function.  Having an algorithm to minimize a function is quite powerful:  you can maximize a function $f$ by minimizing $-f$ and you can solve a system of equations $f_1=k_1, f_2=k_2, \\cdots f_r=k_r$ by minimizing $(f_1-k_1)^2+(f_2-k_2)^2+\\cdots (f_r-k_r)^2$.  \n",
    "\n",
    "Here's an example, in one variable, implemented in python, from <a href=\"https://en.wikipedia.org/wiki/Gradient_descent#Computational_examples\">https://en.wikipedia.org/wiki/Gradient_descent#Computational_examples</a>.  The program finds the minimum of\n",
    "$ f(x) =x^4−3x^3+2. $"
   ]
  },
  {
   "cell_type": "code",
   "execution_count": 1,
   "metadata": {
    "collapsed": false
   },
   "outputs": [
    {
     "name": "stdout",
     "output_type": "stream",
     "text": [
      "0.5999999999999996\n",
      "size : 5.4\n",
      "0.6237599999999996\n",
      "size : 0.023760000000000003\n",
      "0.6490692731402646\n",
      "size : 0.025309273140264987\n",
      "0.6760475763767438\n",
      "size : 0.026978303236479206\n",
      "0.704821965498881\n",
      "size : 0.028774389122137145\n",
      "0.7355261366038248\n",
      "size : 0.030704171104943834\n",
      "0.7682992721113444\n",
      "size : 0.03277313550751959\n",
      "0.8032842278686305\n",
      "size : 0.03498495575728611\n",
      "0.840624861847519\n",
      "size : 0.03734063397888843\n",
      "0.8804622684298664\n",
      "size : 0.03983740658234747\n",
      "0.9229296507309586\n",
      "size : 0.04246738230109215\n",
      "0.9681455460305634\n",
      "size : 0.04521589529960479\n",
      "1.016205130521792\n",
      "size : 0.04805958449122871\n",
      "1.067169389942697\n",
      "size : 0.05096425942090499\n",
      "1.1210520795330405\n",
      "size : 0.05388268959034348\n",
      "1.1778046421472836\n",
      "size : 0.05675256261424311\n",
      "1.237299637824332\n",
      "size : 0.0594949956770483\n",
      "1.2993137782331108\n",
      "size : 0.06201414040877884\n",
      "1.3635123370474889\n",
      "size : 0.06419855881437808\n",
      "1.429437442158506\n",
      "size : 0.06592510511101723\n",
      "1.4965033788967752\n",
      "size : 0.0670659367382691\n",
      "1.5640022802344904\n",
      "size : 0.06749890133771519\n",
      "1.6311231270849003\n",
      "size : 0.06712084685040987\n",
      "1.6969855549473505\n",
      "size : 0.06586242786245022\n",
      "1.7606875094969714\n",
      "size : 0.06370195454962091\n",
      "1.821362659674955\n",
      "size : 0.06067515017798364\n",
      "1.8782404675959476\n",
      "size : 0.05687780792099262\n",
      "1.930700009196379\n",
      "size : 0.052459541600431425\n",
      "1.9783089472809865\n",
      "size : 0.04760893808460742\n",
      "2.0208417065692057\n",
      "size : 0.0425327592882192\n",
      "2.0582751831448975\n",
      "size : 0.03743347657569185\n",
      "2.090764845528107\n",
      "size : 0.032489662383209605\n",
      "2.118607415721545\n",
      "size : 0.027842570193437943\n",
      "2.1421976265432066\n",
      "size : 0.02359021082166146\n",
      "2.1619858762300224\n",
      "size : 0.019788249686815806\n",
      "2.178441640823547\n",
      "size : 0.016455764593524602\n",
      "2.1920251576443675\n",
      "size : 0.013583516820820485\n",
      "2.203167862727841\n",
      "size : 0.01114270508347337\n",
      "2.2122606942724694\n",
      "size : 0.009092831544628588\n",
      "The local minimum occurs at 2.212261\n"
     ]
    }
   ],
   "source": [
    "# From calculation, it is expected that the local minimum occurs at x=9/4\n",
    "\n",
    "cur_x = 6 # The algorithm starts at x=6\n",
    "gamma = 0.01 # step size multiplier\n",
    "precision = 0.01\n",
    "previous_step_size = cur_x\n",
    "\n",
    "def df(x):\n",
    "    return 4 * x**3 - 9 * x**2\n",
    "\n",
    "while previous_step_size > precision:\n",
    "    prev_x = cur_x\n",
    "    cur_x += -gamma * df(prev_x)\n",
    "    print(cur_x)\n",
    "    previous_step_size = abs(cur_x - prev_x)\n",
    "    print(\"size :\", previous_step_size)\n",
    "\n",
    "print(\"The local minimum occurs at %f\" % cur_x)"
   ]
  },
  {
   "cell_type": "markdown",
   "metadata": {
    "collapsed": false
   },
   "source": [
    "To explain how gradient descent works and visualize the algorithm geometrically, it will help to recall a bit about gradients."
   ]
  },
  {
   "cell_type": "markdown",
   "metadata": {
    "collapsed": false
   },
   "source": [
    "## A quick review about gradients and two important facts"
   ]
  },
  {
   "cell_type": "markdown",
   "metadata": {
    "collapsed": false
   },
   "source": [
    "The gradient of a differentiable function $g:\\mathbb{R}^n \\to \\mathbb{R}$ is defined to be the unique vector field $\\nabla g$ with the property that for each point $x\\in \\mathbb{R}^n$, $$\\langle \\nabla g(x), v\\rangle = D_v g(x).$$\n",
    "Here, $\\langle \\, , \\, \\rangle$ denotes the inner product (dot product) of vectors and $D_v g(x)$ denotes the directional derivative of $g$ at the point $x$ in the direction $v$:\n",
    "$$D_v g(x)=\\lim_{h \\to 0} \\frac{g(x+hv)-g(x)}{h}.$$\n",
    "In standard coordinates, the gradient can be computed as\n",
    "$$\\nabla g(x)=\\left [ \\frac{\\partial g}{\\partial x_0} (x), \\frac{\\partial g}{\\partial x_1} (x), \\ldots, \\frac{\\partial g}{\\partial x_{n-1}} (x) \\right].$$"
   ]
  },
  {
   "cell_type": "markdown",
   "metadata": {
    "collapsed": false
   },
   "source": [
    "### Steepest Descent\n",
    "\n",
    "Recall that $\\langle v,w \\rangle=\\|v\\|w\\| \\cos(\\theta)$ where $\\theta$ is the angle between the vectors $v$ and $w$.  Therefore, if $v$ is a unit vector, \n",
    "\n",
    "$$D_v g(x)=\\langle \\nabla g(x), v\\rangle =\\|\\nabla g(x)\\| \\cos(\\theta)$$\n",
    "\n",
    "is maximized when $v$ points in the direction of the gradient $\\nabla g(x)$ and minimized when $v$ points in the direction $-\\nabla g(x)$.\n",
    "\n",
    "<strong>Conclusion</strong> $-\\nabla g(x)$ is the direction of steepest descent for the function $g$ at the point $x$."
   ]
  },
  {
   "cell_type": "markdown",
   "metadata": {
    "collapsed": false
   },
   "source": [
    "### Perpendicular to level curves\n",
    "\n",
    "The level set of $g:\\mathbb{R}^n \\to \\mathbb{R}$ of level $k\\in \\mathbb{R}$ is defined to be the set\n",
    "\n",
    "$$g^{-1}(k)=\\{(x_0,x_1,  \\ldots, x_{n-1})\\in \\mathbb{R}^n: g(x_0,x_1,  \\ldots, x_{n-1})=k\\}$$\n",
    "\n",
    "If $:\\alpha: t\\mapsto (x_0(t),x_1(t),  \\ldots, x_{n-1}(t))$ is a curve in a level set of $g$, then the the function $\\mathbb{R} \\overset{\\alpha}{\\to} \\mathbb{R}^n \\overset{g}{\\to} \\mathbb{R}$ is constant and hence has zero derivative.  Keeping the multivariable chain rule in mind, we have\n",
    "\n",
    "$$Dg \\circ d\\alpha = 0 \\Longleftrightarrow \\begin{bmatrix} \\frac{\\partial g}{\\partial x_0} (x)& \\frac{\\partial g}{\\partial x_1} (x)& \\ldots & \\frac{\\partial g}{\\partial x_{n-1}} (x) \\end{bmatrix} \\begin{bmatrix} x_0'(t) \\\\ x_1'(t) \\\\ \\vdots \\\\ x_{n-1}'(t)\\end{bmatrix} = 0.$$\n",
    "\n",
    "In other words, the gradient $\\nabla g(x)$ is perpendicular to the level sets of $g$.\n",
    "\n"
   ]
  },
  {
   "cell_type": "markdown",
   "metadata": {
    "collapsed": false
   },
   "source": [
    "Now, let's do some programming."
   ]
  },
  {
   "cell_type": "markdown",
   "metadata": {
    "collapsed": false
   },
   "source": [
    "## Import modules"
   ]
  },
  {
   "cell_type": "code",
   "execution_count": 31,
   "metadata": {
    "collapsed": false
   },
   "outputs": [],
   "source": [
    "import numpy as np\n",
    "import matplotlib\n",
    "import matplotlib.pyplot as plt"
   ]
  },
  {
   "cell_type": "markdown",
   "metadata": {
    "collapsed": false
   },
   "source": [
    "The following line is a Jupyter code that tells matplotlib to display graphics inline within the jupyter notbook"
   ]
  },
  {
   "cell_type": "code",
   "execution_count": 32,
   "metadata": {
    "collapsed": false
   },
   "outputs": [],
   "source": [
    "%matplotlib inline"
   ]
  },
  {
   "cell_type": "markdown",
   "metadata": {
    "collapsed": false
   },
   "source": [
    "Define a function"
   ]
  },
  {
   "cell_type": "code",
   "execution_count": 33,
   "metadata": {
    "collapsed": false
   },
   "outputs": [],
   "source": [
    "def f(x):\n",
    "    return  x**4 - 3 * x**3+2"
   ]
  },
  {
   "cell_type": "markdown",
   "metadata": {
    "collapsed": false
   },
   "source": [
    "Here's how to evaluate this function at a number, say $2$."
   ]
  },
  {
   "cell_type": "code",
   "execution_count": 34,
   "metadata": {
    "collapsed": false
   },
   "outputs": [
    {
     "data": {
      "text/plain": [
       "-6"
      ]
     },
     "execution_count": 34,
     "metadata": {},
     "output_type": "execute_result"
    }
   ],
   "source": [
    "f(2)"
   ]
  },
  {
   "cell_type": "markdown",
   "metadata": {
    "collapsed": false
   },
   "source": [
    "To plot this function, we make a bunch of (x,y) coordinates on the graph.  Before doing this, let's take a look at ways we can operate on elements in a list."
   ]
  },
  {
   "cell_type": "code",
   "execution_count": 35,
   "metadata": {
    "collapsed": false
   },
   "outputs": [
    {
     "name": "stdout",
     "output_type": "stream",
     "text": [
      "[ 0.   0.5  1.   1.5  2.   2.5  3. ]\n"
     ]
    }
   ],
   "source": [
    "x = np.linspace(0,3,7) # make an array of 7 evenly spaced numbers between 0 and 5\n",
    "print (x)"
   ]
  },
  {
   "cell_type": "code",
   "execution_count": 36,
   "metadata": {
    "collapsed": false
   },
   "outputs": [
    {
     "name": "stdout",
     "output_type": "stream",
     "text": [
      "[ 0.    0.25  1.    2.25  4.    6.25  9.  ]\n"
     ]
    }
   ],
   "source": [
    "y=x**2 # squares every number in the list\n",
    "print(y)"
   ]
  },
  {
   "cell_type": "markdown",
   "metadata": {
    "collapsed": false
   },
   "source": [
    "'scatter' plots the points as dots"
   ]
  },
  {
   "cell_type": "code",
   "execution_count": 37,
   "metadata": {
    "collapsed": false
   },
   "outputs": [
    {
     "data": {
      "image/png": "[encoded data removed]",
      "text/plain": [
       "<matplotlib.figure.Figure at 0x22a47b14f98>"
      ]
     },
     "metadata": {},
     "output_type": "display_data"
    }
   ],
   "source": [
    "fig = plt.figure()\n",
    "axes = fig.add_axes([0.1, 0.1, 0.9, 0.7])\n",
    "axes.scatter(x,y);"
   ]
  },
  {
   "cell_type": "markdown",
   "metadata": {
    "collapsed": false
   },
   "source": [
    "and 'plot' connects the dots with straight lines."
   ]
  },
  {
   "cell_type": "code",
   "execution_count": 38,
   "metadata": {
    "collapsed": false
   },
   "outputs": [
    {
     "data": {
      "image/png": "[encoded data removed]",
      "text/plain": [
       "<matplotlib.figure.Figure at 0x22a474f0748>"
      ]
     },
     "metadata": {},
     "output_type": "display_data"
    }
   ],
   "source": [
    "fig = plt.figure()\n",
    "axes = fig.add_axes([0.1, 0.1, 0.9, 0.7])\n",
    "axes.plot(x,y, label=r'$y = x^2$')\n",
    "axes.legend(loc=2); # upper left corner;"
   ]
  },
  {
   "cell_type": "markdown",
   "metadata": {
    "collapsed": false
   },
   "source": [
    "To get a better picture, we'll use a lot more points."
   ]
  },
  {
   "cell_type": "code",
   "execution_count": 39,
   "metadata": {
    "collapsed": false
   },
   "outputs": [],
   "source": [
    "x = np.linspace(0,6,1001)\n",
    "y = f(x)"
   ]
  },
  {
   "cell_type": "code",
   "execution_count": 40,
   "metadata": {
    "collapsed": false
   },
   "outputs": [
    {
     "data": {
      "image/png": "[encoded data removed]",
      "text/plain": [
       "<matplotlib.figure.Figure at 0x22a4805aeb8>"
      ]
     },
     "metadata": {},
     "output_type": "display_data"
    }
   ],
   "source": [
    "fig = plt.figure()\n",
    "axes = fig.add_axes([0.1, 0.1, 0.9, 0.7])\n",
    "axes.plot(x,y, label=r'$y = x^4 - 3  x^3+2$')\n",
    "axes.legend(loc=2); # upper left corner;"
   ]
  },
  {
   "cell_type": "markdown",
   "metadata": {
    "collapsed": false
   },
   "source": [
    "Now, back to gradient descent."
   ]
  },
  {
   "cell_type": "code",
   "execution_count": 41,
   "metadata": {
    "collapsed": false
   },
   "outputs": [
    {
     "name": "stdout",
     "output_type": "stream",
     "text": [
      "Local minimum occurs at: 2.2499646074278457\n",
      "Number of steps: 71\n",
      "Minimum value: -6.542968737317345\n"
     ]
    }
   ],
   "source": [
    "cur_x = 6 # The algorithm starts at x=6\n",
    "gamma = 0.01 # step size multiplier\n",
    "precision = 0.00001\n",
    "previous_step_size = cur_x\n",
    "\n",
    "x_list = [cur_x]; y_list = [f(cur_x)]\n",
    "\n",
    "def df(x):\n",
    "    return 4 * x**3 - 9 * x**2\n",
    "\n",
    "while previous_step_size > precision:\n",
    "    prev_x = cur_x\n",
    "    cur_x += -gamma * df(prev_x)\n",
    "    previous_step_size = abs(cur_x - prev_x)\n",
    "    x_list.append(cur_x)\n",
    "    y_list.append(f(cur_x))\n",
    "\n",
    "print (\"Local minimum occurs at:\", cur_x)\n",
    "print (\"Number of steps:\", len(x_list))\n",
    "print (\"Minimum value:\", f(cur_x))"
   ]
  },
  {
   "cell_type": "code",
   "execution_count": 42,
   "metadata": {
    "collapsed": false
   },
   "outputs": [
    {
     "data": {
      "image/png": "[encoded data removed]",
      "text/plain": [
       "<matplotlib.figure.Figure at 0x22a477db3c8>"
      ]
     },
     "metadata": {},
     "output_type": "display_data"
    }
   ],
   "source": [
    "fig = plt.figure()\n",
    "axes = fig.add_axes([0.1, 0.1, 0.9, 0.7]) # left, bottom, width, height (range 0 to 1)\n",
    "axes.plot(x,y, 'g', label=r'$y = x^4-3x^3+2$') # g for green\n",
    "axes.scatter(x_list,y_list,c=\"r\")\n",
    "axes.plot(x_list,y_list,c=\"r\",label='gradient descent steps')\n",
    "axes.legend(loc=2); # upper left corner\n",
    "axes.set_xlabel('$x$')\n",
    "axes.set_ylabel('$y$') ;"
   ]
  },
  {
   "cell_type": "markdown",
   "metadata": {
    "collapsed": false
   },
   "source": [
    "Let's take a closer look:"
   ]
  },
  {
   "cell_type": "code",
   "execution_count": 14,
   "metadata": {
    "collapsed": false
   },
   "outputs": [
    {
     "ename": "RuntimeError",
     "evalue": "LaTeX was not able to process the following string:\nb'lp'\nHere is the full report generated by LaTeX: \n\nThis is pdfTeX, Version 3.14159265-2.6-1.40.18 (MiKTeX 2.9.6350 64-bit)\nentering extended mode\n(9eb8ed50c4f119894612567ddda7eb11.tex\nLaTeX2e <2017-04-15>\nBabel <3.10> and hyphenation patterns for 75 language(s) loaded.\n(\"C:\\Program Files\\MiKTeX 2.9\\tex\\latex\\base\\article.cls\"\nDocument Class: article 2014/09/29 v1.4h Standard LaTeX document class\n(\"C:\\Program Files\\MiKTeX 2.9\\tex\\latex\\base\\size10.clo\"))\n======================================================================\nstarting package maintenance...\ninstallation directory: \"C:\\Program Files\\MiKTeX 2.9\"\npackage repository: http://mirrors.concertpass.com/tex-archive/systems/win32/miktex/tm/packages/\nvisiting repository http://mirrors.concertpass.com/tex-archive/systems/win32/miktex/tm/packages/...\nrepository type: remote package repository\nloading lightweight database...\ndownloading http://mirrors.concertpass.com/tex-archive/systems/win32/miktex/tm/packages/miktex-zzdb1-2.9.tar.lzma...\n170475 bytes, 204.52 KB/Sec\nlightweight database digest: 9469990c92eb6978c6cd0f751e7282f7\ngoing to download 332781 bytes\ngoing to install 5 file(s) (1 package(s))\ndownloading http://mirrors.concertpass.com/tex-archive/systems/win32/miktex/tm/packages/type1cm.tar.lzma...\n332781 bytes, 355.95 KB/Sec\nextracting files from type1cm.tar.lzma...\n======================================================================\n\n(\"C:\\Program Files\\MiKTeX 2.9\\tex\\latex\\type1cm\\type1cm.sty\")\n(\"C:\\Program Files\\MiKTeX 2.9\\tex\\latex\\base\\textcomp.sty\"\n(\"C:\\Program Files\\MiKTeX 2.9\\tex\\latex\\base\\ts1enc.def\"))\n(\"C:\\Program Files\\MiKTeX 2.9\\tex\\latex\\geometry\\geometry.sty\"\n(\"C:\\Program Files\\MiKTeX 2.9\\tex\\latex\\graphics\\keyval.sty\")\n(\"C:\\Program Files\\MiKTeX 2.9\\tex\\generic\\oberdiek\\ifpdf.sty\")\n(\"C:\\Program Files\\MiKTeX 2.9\\tex\\generic\\oberdiek\\ifvtex.sty\")\n(\"C:\\Program Files\\MiKTeX 2.9\\tex\\generic\\ifxetex\\ifxetex.sty\")\n(\"C:\\Program Files\\MiKTeX 2.9\\tex\\latex\\geometry\\geometry.cfg\")\n\nPackage geometry Warning: Over-specification in `h'-direction.\n    `width' (5058.9pt) is ignored.\n\n\nPackage geometry Warning: Over-specification in `v'-direction.\n    `height' (5058.9pt) is ignored.\n\n)\nNo file 9eb8ed50c4f119894612567ddda7eb11.aux.\n(\"C:\\Program Files\\MiKTeX 2.9\\tex\\latex\\base\\ts1cmr.fd\")\n*geometry* driver: auto-detecting\n*geometry* detected driver: dvips\n[1] (9eb8ed50c4f119894612567ddda7eb11.aux)",
     "output_type": "error",
     "traceback": [
      "\u001b[1;31m---------------------------------------------------------------------------\u001b[0m",
      "\u001b[1;31mRuntimeError\u001b[0m                              Traceback (most recent call last)",
      "\u001b[1;32m~\\Anaconda3\\lib\\site-packages\\IPython\\core\\formatters.py\u001b[0m in \u001b[0;36m__call__\u001b[1;34m(self, obj)\u001b[0m\n\u001b[0;32m    339\u001b[0m                 \u001b[1;32mpass\u001b[0m\u001b[1;33m\u001b[0m\u001b[0m\n\u001b[0;32m    340\u001b[0m             \u001b[1;32melse\u001b[0m\u001b[1;33m:\u001b[0m\u001b[1;33m\u001b[0m\u001b[0m\n\u001b[1;32m--> 341\u001b[1;33m                 \u001b[1;32mreturn\u001b[0m \u001b[0mprinter\u001b[0m\u001b[1;33m(\u001b[0m\u001b[0mobj\u001b[0m\u001b[1;33m)\u001b[0m\u001b[1;33m\u001b[0m\u001b[0m\n\u001b[0m\u001b[0;32m    342\u001b[0m             \u001b[1;31m# Finally look for special method names\u001b[0m\u001b[1;33m\u001b[0m\u001b[1;33m\u001b[0m\u001b[0m\n\u001b[0;32m    343\u001b[0m             \u001b[0mmethod\u001b[0m \u001b[1;33m=\u001b[0m \u001b[0mget_real_method\u001b[0m\u001b[1;33m(\u001b[0m\u001b[0mobj\u001b[0m\u001b[1;33m,\u001b[0m \u001b[0mself\u001b[0m\u001b[1;33m.\u001b[0m\u001b[0mprint_method\u001b[0m\u001b[1;33m)\u001b[0m\u001b[1;33m\u001b[0m\u001b[0m\n",
      "\u001b[1;32m~\\Anaconda3\\lib\\site-packages\\IPython\\core\\pylabtools.py\u001b[0m in \u001b[0;36m<lambda>\u001b[1;34m(fig)\u001b[0m\n\u001b[0;32m    236\u001b[0m \u001b[1;33m\u001b[0m\u001b[0m\n\u001b[0;32m    237\u001b[0m     \u001b[1;32mif\u001b[0m \u001b[1;34m'png'\u001b[0m \u001b[1;32min\u001b[0m \u001b[0mformats\u001b[0m\u001b[1;33m:\u001b[0m\u001b[1;33m\u001b[0m\u001b[0m\n\u001b[1;32m--> 238\u001b[1;33m         \u001b[0mpng_formatter\u001b[0m\u001b[1;33m.\u001b[0m\u001b[0mfor_type\u001b[0m\u001b[1;33m(\u001b[0m\u001b[0mFigure\u001b[0m\u001b[1;33m,\u001b[0m \u001b[1;32mlambda\u001b[0m \u001b[0mfig\u001b[0m\u001b[1;33m:\u001b[0m \u001b[0mprint_figure\u001b[0m\u001b[1;33m(\u001b[0m\u001b[0mfig\u001b[0m\u001b[1;33m,\u001b[0m \u001b[1;34m'png'\u001b[0m\u001b[1;33m,\u001b[0m \u001b[1;33m**\u001b[0m\u001b[0mkwargs\u001b[0m\u001b[1;33m)\u001b[0m\u001b[1;33m)\u001b[0m\u001b[1;33m\u001b[0m\u001b[0m\n\u001b[0m\u001b[0;32m    239\u001b[0m     \u001b[1;32mif\u001b[0m \u001b[1;34m'retina'\u001b[0m \u001b[1;32min\u001b[0m \u001b[0mformats\u001b[0m \u001b[1;32mor\u001b[0m \u001b[1;34m'png2x'\u001b[0m \u001b[1;32min\u001b[0m \u001b[0mformats\u001b[0m\u001b[1;33m:\u001b[0m\u001b[1;33m\u001b[0m\u001b[0m\n\u001b[0;32m    240\u001b[0m         \u001b[0mpng_formatter\u001b[0m\u001b[1;33m.\u001b[0m\u001b[0mfor_type\u001b[0m\u001b[1;33m(\u001b[0m\u001b[0mFigure\u001b[0m\u001b[1;33m,\u001b[0m \u001b[1;32mlambda\u001b[0m \u001b[0mfig\u001b[0m\u001b[1;33m:\u001b[0m \u001b[0mretina_figure\u001b[0m\u001b[1;33m(\u001b[0m\u001b[0mfig\u001b[0m\u001b[1;33m,\u001b[0m \u001b[1;33m**\u001b[0m\u001b[0mkwargs\u001b[0m\u001b[1;33m)\u001b[0m\u001b[1;33m)\u001b[0m\u001b[1;33m\u001b[0m\u001b[0m\n",
      "\u001b[1;32m~\\Anaconda3\\lib\\site-packages\\IPython\\core\\pylabtools.py\u001b[0m in \u001b[0;36mprint_figure\u001b[1;34m(fig, fmt, bbox_inches, **kwargs)\u001b[0m\n\u001b[0;32m    120\u001b[0m \u001b[1;33m\u001b[0m\u001b[0m\n\u001b[0;32m    121\u001b[0m     \u001b[0mbytes_io\u001b[0m \u001b[1;33m=\u001b[0m \u001b[0mBytesIO\u001b[0m\u001b[1;33m(\u001b[0m\u001b[1;33m)\u001b[0m\u001b[1;33m\u001b[0m\u001b[0m\n\u001b[1;32m--> 122\u001b[1;33m     \u001b[0mfig\u001b[0m\u001b[1;33m.\u001b[0m\u001b[0mcanvas\u001b[0m\u001b[1;33m.\u001b[0m\u001b[0mprint_figure\u001b[0m\u001b[1;33m(\u001b[0m\u001b[0mbytes_io\u001b[0m\u001b[1;33m,\u001b[0m \u001b[1;33m**\u001b[0m\u001b[0mkw\u001b[0m\u001b[1;33m)\u001b[0m\u001b[1;33m\u001b[0m\u001b[0m\n\u001b[0m\u001b[0;32m    123\u001b[0m     \u001b[0mdata\u001b[0m \u001b[1;33m=\u001b[0m \u001b[0mbytes_io\u001b[0m\u001b[1;33m.\u001b[0m\u001b[0mgetvalue\u001b[0m\u001b[1;33m(\u001b[0m\u001b[1;33m)\u001b[0m\u001b[1;33m\u001b[0m\u001b[0m\n\u001b[0;32m    124\u001b[0m     \u001b[1;32mif\u001b[0m \u001b[0mfmt\u001b[0m \u001b[1;33m==\u001b[0m \u001b[1;34m'svg'\u001b[0m\u001b[1;33m:\u001b[0m\u001b[1;33m\u001b[0m\u001b[0m\n",
      "\u001b[1;32m~\\Anaconda3\\lib\\site-packages\\matplotlib\\backend_bases.py\u001b[0m in \u001b[0;36mprint_figure\u001b[1;34m(self, filename, dpi, facecolor, edgecolor, orientation, format, **kwargs)\u001b[0m\n\u001b[0;32m   2198\u001b[0m                     \u001b[0morientation\u001b[0m\u001b[1;33m=\u001b[0m\u001b[0morientation\u001b[0m\u001b[1;33m,\u001b[0m\u001b[1;33m\u001b[0m\u001b[0m\n\u001b[0;32m   2199\u001b[0m                     \u001b[0mdryrun\u001b[0m\u001b[1;33m=\u001b[0m\u001b[1;32mTrue\u001b[0m\u001b[1;33m,\u001b[0m\u001b[1;33m\u001b[0m\u001b[0m\n\u001b[1;32m-> 2200\u001b[1;33m                     **kwargs)\n\u001b[0m\u001b[0;32m   2201\u001b[0m                 \u001b[0mrenderer\u001b[0m \u001b[1;33m=\u001b[0m \u001b[0mself\u001b[0m\u001b[1;33m.\u001b[0m\u001b[0mfigure\u001b[0m\u001b[1;33m.\u001b[0m\u001b[0m_cachedRenderer\u001b[0m\u001b[1;33m\u001b[0m\u001b[0m\n\u001b[0;32m   2202\u001b[0m                 \u001b[0mbbox_inches\u001b[0m \u001b[1;33m=\u001b[0m \u001b[0mself\u001b[0m\u001b[1;33m.\u001b[0m\u001b[0mfigure\u001b[0m\u001b[1;33m.\u001b[0m\u001b[0mget_tightbbox\u001b[0m\u001b[1;33m(\u001b[0m\u001b[0mrenderer\u001b[0m\u001b[1;33m)\u001b[0m\u001b[1;33m\u001b[0m\u001b[0m\n",
      "\u001b[1;32m~\\Anaconda3\\lib\\site-packages\\matplotlib\\backends\\backend_agg.py\u001b[0m in \u001b[0;36mprint_png\u001b[1;34m(self, filename_or_obj, *args, **kwargs)\u001b[0m\n\u001b[0;32m    543\u001b[0m \u001b[1;33m\u001b[0m\u001b[0m\n\u001b[0;32m    544\u001b[0m     \u001b[1;32mdef\u001b[0m \u001b[0mprint_png\u001b[0m\u001b[1;33m(\u001b[0m\u001b[0mself\u001b[0m\u001b[1;33m,\u001b[0m \u001b[0mfilename_or_obj\u001b[0m\u001b[1;33m,\u001b[0m \u001b[1;33m*\u001b[0m\u001b[0margs\u001b[0m\u001b[1;33m,\u001b[0m \u001b[1;33m**\u001b[0m\u001b[0mkwargs\u001b[0m\u001b[1;33m)\u001b[0m\u001b[1;33m:\u001b[0m\u001b[1;33m\u001b[0m\u001b[0m\n\u001b[1;32m--> 545\u001b[1;33m         \u001b[0mFigureCanvasAgg\u001b[0m\u001b[1;33m.\u001b[0m\u001b[0mdraw\u001b[0m\u001b[1;33m(\u001b[0m\u001b[0mself\u001b[0m\u001b[1;33m)\u001b[0m\u001b[1;33m\u001b[0m\u001b[0m\n\u001b[0m\u001b[0;32m    546\u001b[0m         \u001b[0mrenderer\u001b[0m \u001b[1;33m=\u001b[0m \u001b[0mself\u001b[0m\u001b[1;33m.\u001b[0m\u001b[0mget_renderer\u001b[0m\u001b[1;33m(\u001b[0m\u001b[1;33m)\u001b[0m\u001b[1;33m\u001b[0m\u001b[0m\n\u001b[0;32m    547\u001b[0m         \u001b[0moriginal_dpi\u001b[0m \u001b[1;33m=\u001b[0m \u001b[0mrenderer\u001b[0m\u001b[1;33m.\u001b[0m\u001b[0mdpi\u001b[0m\u001b[1;33m\u001b[0m\u001b[0m\n",
      "\u001b[1;32m~\\Anaconda3\\lib\\site-packages\\matplotlib\\backends\\backend_agg.py\u001b[0m in \u001b[0;36mdraw\u001b[1;34m(self)\u001b[0m\n\u001b[0;32m    462\u001b[0m \u001b[1;33m\u001b[0m\u001b[0m\n\u001b[0;32m    463\u001b[0m         \u001b[1;32mtry\u001b[0m\u001b[1;33m:\u001b[0m\u001b[1;33m\u001b[0m\u001b[0m\n\u001b[1;32m--> 464\u001b[1;33m             \u001b[0mself\u001b[0m\u001b[1;33m.\u001b[0m\u001b[0mfigure\u001b[0m\u001b[1;33m.\u001b[0m\u001b[0mdraw\u001b[0m\u001b[1;33m(\u001b[0m\u001b[0mself\u001b[0m\u001b[1;33m.\u001b[0m\u001b[0mrenderer\u001b[0m\u001b[1;33m)\u001b[0m\u001b[1;33m\u001b[0m\u001b[0m\n\u001b[0m\u001b[0;32m    465\u001b[0m         \u001b[1;32mfinally\u001b[0m\u001b[1;33m:\u001b[0m\u001b[1;33m\u001b[0m\u001b[0m\n\u001b[0;32m    466\u001b[0m             \u001b[0mRendererAgg\u001b[0m\u001b[1;33m.\u001b[0m\u001b[0mlock\u001b[0m\u001b[1;33m.\u001b[0m\u001b[0mrelease\u001b[0m\u001b[1;33m(\u001b[0m\u001b[1;33m)\u001b[0m\u001b[1;33m\u001b[0m\u001b[0m\n",
      "\u001b[1;32m~\\Anaconda3\\lib\\site-packages\\matplotlib\\artist.py\u001b[0m in \u001b[0;36mdraw_wrapper\u001b[1;34m(artist, renderer, *args, **kwargs)\u001b[0m\n\u001b[0;32m     61\u001b[0m     \u001b[1;32mdef\u001b[0m \u001b[0mdraw_wrapper\u001b[0m\u001b[1;33m(\u001b[0m\u001b[0martist\u001b[0m\u001b[1;33m,\u001b[0m \u001b[0mrenderer\u001b[0m\u001b[1;33m,\u001b[0m \u001b[1;33m*\u001b[0m\u001b[0margs\u001b[0m\u001b[1;33m,\u001b[0m \u001b[1;33m**\u001b[0m\u001b[0mkwargs\u001b[0m\u001b[1;33m)\u001b[0m\u001b[1;33m:\u001b[0m\u001b[1;33m\u001b[0m\u001b[0m\n\u001b[0;32m     62\u001b[0m         \u001b[0mbefore\u001b[0m\u001b[1;33m(\u001b[0m\u001b[0martist\u001b[0m\u001b[1;33m,\u001b[0m \u001b[0mrenderer\u001b[0m\u001b[1;33m)\u001b[0m\u001b[1;33m\u001b[0m\u001b[0m\n\u001b[1;32m---> 63\u001b[1;33m         \u001b[0mdraw\u001b[0m\u001b[1;33m(\u001b[0m\u001b[0martist\u001b[0m\u001b[1;33m,\u001b[0m \u001b[0mrenderer\u001b[0m\u001b[1;33m,\u001b[0m \u001b[1;33m*\u001b[0m\u001b[0margs\u001b[0m\u001b[1;33m,\u001b[0m \u001b[1;33m**\u001b[0m\u001b[0mkwargs\u001b[0m\u001b[1;33m)\u001b[0m\u001b[1;33m\u001b[0m\u001b[0m\n\u001b[0m\u001b[0;32m     64\u001b[0m         \u001b[0mafter\u001b[0m\u001b[1;33m(\u001b[0m\u001b[0martist\u001b[0m\u001b[1;33m,\u001b[0m \u001b[0mrenderer\u001b[0m\u001b[1;33m)\u001b[0m\u001b[1;33m\u001b[0m\u001b[0m\n\u001b[0;32m     65\u001b[0m \u001b[1;33m\u001b[0m\u001b[0m\n",
      "\u001b[1;32m~\\Anaconda3\\lib\\site-packages\\matplotlib\\figure.py\u001b[0m in \u001b[0;36mdraw\u001b[1;34m(self, renderer)\u001b[0m\n\u001b[0;32m   1142\u001b[0m \u001b[1;33m\u001b[0m\u001b[0m\n\u001b[0;32m   1143\u001b[0m             mimage._draw_list_compositing_images(\n\u001b[1;32m-> 1144\u001b[1;33m                 renderer, self, dsu, self.suppressComposite)\n\u001b[0m\u001b[0;32m   1145\u001b[0m \u001b[1;33m\u001b[0m\u001b[0m\n\u001b[0;32m   1146\u001b[0m             \u001b[0mrenderer\u001b[0m\u001b[1;33m.\u001b[0m\u001b[0mclose_group\u001b[0m\u001b[1;33m(\u001b[0m\u001b[1;34m'figure'\u001b[0m\u001b[1;33m)\u001b[0m\u001b[1;33m\u001b[0m\u001b[0m\n",
      "\u001b[1;32m~\\Anaconda3\\lib\\site-packages\\matplotlib\\image.py\u001b[0m in \u001b[0;36m_draw_list_compositing_images\u001b[1;34m(renderer, parent, dsu, suppress_composite)\u001b[0m\n\u001b[0;32m    137\u001b[0m     \u001b[1;32mif\u001b[0m \u001b[0mnot_composite\u001b[0m \u001b[1;32mor\u001b[0m \u001b[1;32mnot\u001b[0m \u001b[0mhas_images\u001b[0m\u001b[1;33m:\u001b[0m\u001b[1;33m\u001b[0m\u001b[0m\n\u001b[0;32m    138\u001b[0m         \u001b[1;32mfor\u001b[0m \u001b[0mzorder\u001b[0m\u001b[1;33m,\u001b[0m \u001b[0ma\u001b[0m \u001b[1;32min\u001b[0m \u001b[0mdsu\u001b[0m\u001b[1;33m:\u001b[0m\u001b[1;33m\u001b[0m\u001b[0m\n\u001b[1;32m--> 139\u001b[1;33m             \u001b[0ma\u001b[0m\u001b[1;33m.\u001b[0m\u001b[0mdraw\u001b[0m\u001b[1;33m(\u001b[0m\u001b[0mrenderer\u001b[0m\u001b[1;33m)\u001b[0m\u001b[1;33m\u001b[0m\u001b[0m\n\u001b[0m\u001b[0;32m    140\u001b[0m     \u001b[1;32melse\u001b[0m\u001b[1;33m:\u001b[0m\u001b[1;33m\u001b[0m\u001b[0m\n\u001b[0;32m    141\u001b[0m         \u001b[1;31m# Composite any adjacent images together\u001b[0m\u001b[1;33m\u001b[0m\u001b[1;33m\u001b[0m\u001b[0m\n",
      "\u001b[1;32m~\\Anaconda3\\lib\\site-packages\\matplotlib\\artist.py\u001b[0m in \u001b[0;36mdraw_wrapper\u001b[1;34m(artist, renderer, *args, **kwargs)\u001b[0m\n\u001b[0;32m     61\u001b[0m     \u001b[1;32mdef\u001b[0m \u001b[0mdraw_wrapper\u001b[0m\u001b[1;33m(\u001b[0m\u001b[0martist\u001b[0m\u001b[1;33m,\u001b[0m \u001b[0mrenderer\u001b[0m\u001b[1;33m,\u001b[0m \u001b[1;33m*\u001b[0m\u001b[0margs\u001b[0m\u001b[1;33m,\u001b[0m \u001b[1;33m**\u001b[0m\u001b[0mkwargs\u001b[0m\u001b[1;33m)\u001b[0m\u001b[1;33m:\u001b[0m\u001b[1;33m\u001b[0m\u001b[0m\n\u001b[0;32m     62\u001b[0m         \u001b[0mbefore\u001b[0m\u001b[1;33m(\u001b[0m\u001b[0martist\u001b[0m\u001b[1;33m,\u001b[0m \u001b[0mrenderer\u001b[0m\u001b[1;33m)\u001b[0m\u001b[1;33m\u001b[0m\u001b[0m\n\u001b[1;32m---> 63\u001b[1;33m         \u001b[0mdraw\u001b[0m\u001b[1;33m(\u001b[0m\u001b[0martist\u001b[0m\u001b[1;33m,\u001b[0m \u001b[0mrenderer\u001b[0m\u001b[1;33m,\u001b[0m \u001b[1;33m*\u001b[0m\u001b[0margs\u001b[0m\u001b[1;33m,\u001b[0m \u001b[1;33m**\u001b[0m\u001b[0mkwargs\u001b[0m\u001b[1;33m)\u001b[0m\u001b[1;33m\u001b[0m\u001b[0m\n\u001b[0m\u001b[0;32m     64\u001b[0m         \u001b[0mafter\u001b[0m\u001b[1;33m(\u001b[0m\u001b[0martist\u001b[0m\u001b[1;33m,\u001b[0m \u001b[0mrenderer\u001b[0m\u001b[1;33m)\u001b[0m\u001b[1;33m\u001b[0m\u001b[0m\n\u001b[0;32m     65\u001b[0m \u001b[1;33m\u001b[0m\u001b[0m\n",
      "\u001b[1;32m~\\Anaconda3\\lib\\site-packages\\matplotlib\\axes\\_base.py\u001b[0m in \u001b[0;36mdraw\u001b[1;34m(self, renderer, inframe)\u001b[0m\n\u001b[0;32m   2424\u001b[0m             \u001b[0mrenderer\u001b[0m\u001b[1;33m.\u001b[0m\u001b[0mstop_rasterizing\u001b[0m\u001b[1;33m(\u001b[0m\u001b[1;33m)\u001b[0m\u001b[1;33m\u001b[0m\u001b[0m\n\u001b[0;32m   2425\u001b[0m \u001b[1;33m\u001b[0m\u001b[0m\n\u001b[1;32m-> 2426\u001b[1;33m         \u001b[0mmimage\u001b[0m\u001b[1;33m.\u001b[0m\u001b[0m_draw_list_compositing_images\u001b[0m\u001b[1;33m(\u001b[0m\u001b[0mrenderer\u001b[0m\u001b[1;33m,\u001b[0m \u001b[0mself\u001b[0m\u001b[1;33m,\u001b[0m \u001b[0mdsu\u001b[0m\u001b[1;33m)\u001b[0m\u001b[1;33m\u001b[0m\u001b[0m\n\u001b[0m\u001b[0;32m   2427\u001b[0m \u001b[1;33m\u001b[0m\u001b[0m\n\u001b[0;32m   2428\u001b[0m         \u001b[0mrenderer\u001b[0m\u001b[1;33m.\u001b[0m\u001b[0mclose_group\u001b[0m\u001b[1;33m(\u001b[0m\u001b[1;34m'axes'\u001b[0m\u001b[1;33m)\u001b[0m\u001b[1;33m\u001b[0m\u001b[0m\n",
      "\u001b[1;32m~\\Anaconda3\\lib\\site-packages\\matplotlib\\image.py\u001b[0m in \u001b[0;36m_draw_list_compositing_images\u001b[1;34m(renderer, parent, dsu, suppress_composite)\u001b[0m\n\u001b[0;32m    137\u001b[0m     \u001b[1;32mif\u001b[0m \u001b[0mnot_composite\u001b[0m \u001b[1;32mor\u001b[0m \u001b[1;32mnot\u001b[0m \u001b[0mhas_images\u001b[0m\u001b[1;33m:\u001b[0m\u001b[1;33m\u001b[0m\u001b[0m\n\u001b[0;32m    138\u001b[0m         \u001b[1;32mfor\u001b[0m \u001b[0mzorder\u001b[0m\u001b[1;33m,\u001b[0m \u001b[0ma\u001b[0m \u001b[1;32min\u001b[0m \u001b[0mdsu\u001b[0m\u001b[1;33m:\u001b[0m\u001b[1;33m\u001b[0m\u001b[0m\n\u001b[1;32m--> 139\u001b[1;33m             \u001b[0ma\u001b[0m\u001b[1;33m.\u001b[0m\u001b[0mdraw\u001b[0m\u001b[1;33m(\u001b[0m\u001b[0mrenderer\u001b[0m\u001b[1;33m)\u001b[0m\u001b[1;33m\u001b[0m\u001b[0m\n\u001b[0m\u001b[0;32m    140\u001b[0m     \u001b[1;32melse\u001b[0m\u001b[1;33m:\u001b[0m\u001b[1;33m\u001b[0m\u001b[0m\n\u001b[0;32m    141\u001b[0m         \u001b[1;31m# Composite any adjacent images together\u001b[0m\u001b[1;33m\u001b[0m\u001b[1;33m\u001b[0m\u001b[0m\n",
      "\u001b[1;32m~\\Anaconda3\\lib\\site-packages\\matplotlib\\artist.py\u001b[0m in \u001b[0;36mdraw_wrapper\u001b[1;34m(artist, renderer, *args, **kwargs)\u001b[0m\n\u001b[0;32m     61\u001b[0m     \u001b[1;32mdef\u001b[0m \u001b[0mdraw_wrapper\u001b[0m\u001b[1;33m(\u001b[0m\u001b[0martist\u001b[0m\u001b[1;33m,\u001b[0m \u001b[0mrenderer\u001b[0m\u001b[1;33m,\u001b[0m \u001b[1;33m*\u001b[0m\u001b[0margs\u001b[0m\u001b[1;33m,\u001b[0m \u001b[1;33m**\u001b[0m\u001b[0mkwargs\u001b[0m\u001b[1;33m)\u001b[0m\u001b[1;33m:\u001b[0m\u001b[1;33m\u001b[0m\u001b[0m\n\u001b[0;32m     62\u001b[0m         \u001b[0mbefore\u001b[0m\u001b[1;33m(\u001b[0m\u001b[0martist\u001b[0m\u001b[1;33m,\u001b[0m \u001b[0mrenderer\u001b[0m\u001b[1;33m)\u001b[0m\u001b[1;33m\u001b[0m\u001b[0m\n\u001b[1;32m---> 63\u001b[1;33m         \u001b[0mdraw\u001b[0m\u001b[1;33m(\u001b[0m\u001b[0martist\u001b[0m\u001b[1;33m,\u001b[0m \u001b[0mrenderer\u001b[0m\u001b[1;33m,\u001b[0m \u001b[1;33m*\u001b[0m\u001b[0margs\u001b[0m\u001b[1;33m,\u001b[0m \u001b[1;33m**\u001b[0m\u001b[0mkwargs\u001b[0m\u001b[1;33m)\u001b[0m\u001b[1;33m\u001b[0m\u001b[0m\n\u001b[0m\u001b[0;32m     64\u001b[0m         \u001b[0mafter\u001b[0m\u001b[1;33m(\u001b[0m\u001b[0martist\u001b[0m\u001b[1;33m,\u001b[0m \u001b[0mrenderer\u001b[0m\u001b[1;33m)\u001b[0m\u001b[1;33m\u001b[0m\u001b[0m\n\u001b[0;32m     65\u001b[0m \u001b[1;33m\u001b[0m\u001b[0m\n",
      "\u001b[1;32m~\\Anaconda3\\lib\\site-packages\\matplotlib\\axis.py\u001b[0m in \u001b[0;36mdraw\u001b[1;34m(self, renderer, *args, **kwargs)\u001b[0m\n\u001b[0;32m   1136\u001b[0m         \u001b[0mticks_to_draw\u001b[0m \u001b[1;33m=\u001b[0m \u001b[0mself\u001b[0m\u001b[1;33m.\u001b[0m\u001b[0m_update_ticks\u001b[0m\u001b[1;33m(\u001b[0m\u001b[0mrenderer\u001b[0m\u001b[1;33m)\u001b[0m\u001b[1;33m\u001b[0m\u001b[0m\n\u001b[0;32m   1137\u001b[0m         ticklabelBoxes, ticklabelBoxes2 = self._get_tick_bboxes(ticks_to_draw,\n\u001b[1;32m-> 1138\u001b[1;33m                                                                 renderer)\n\u001b[0m\u001b[0;32m   1139\u001b[0m \u001b[1;33m\u001b[0m\u001b[0m\n\u001b[0;32m   1140\u001b[0m         \u001b[1;32mfor\u001b[0m \u001b[0mtick\u001b[0m \u001b[1;32min\u001b[0m \u001b[0mticks_to_draw\u001b[0m\u001b[1;33m:\u001b[0m\u001b[1;33m\u001b[0m\u001b[0m\n",
      "\u001b[1;32m~\\Anaconda3\\lib\\site-packages\\matplotlib\\axis.py\u001b[0m in \u001b[0;36m_get_tick_bboxes\u001b[1;34m(self, ticks, renderer)\u001b[0m\n\u001b[0;32m   1076\u001b[0m         \u001b[1;32mfor\u001b[0m \u001b[0mtick\u001b[0m \u001b[1;32min\u001b[0m \u001b[0mticks\u001b[0m\u001b[1;33m:\u001b[0m\u001b[1;33m\u001b[0m\u001b[0m\n\u001b[0;32m   1077\u001b[0m             \u001b[1;32mif\u001b[0m \u001b[0mtick\u001b[0m\u001b[1;33m.\u001b[0m\u001b[0mlabel1On\u001b[0m \u001b[1;32mand\u001b[0m \u001b[0mtick\u001b[0m\u001b[1;33m.\u001b[0m\u001b[0mlabel1\u001b[0m\u001b[1;33m.\u001b[0m\u001b[0mget_visible\u001b[0m\u001b[1;33m(\u001b[0m\u001b[1;33m)\u001b[0m\u001b[1;33m:\u001b[0m\u001b[1;33m\u001b[0m\u001b[0m\n\u001b[1;32m-> 1078\u001b[1;33m                 \u001b[0mextent\u001b[0m \u001b[1;33m=\u001b[0m \u001b[0mtick\u001b[0m\u001b[1;33m.\u001b[0m\u001b[0mlabel1\u001b[0m\u001b[1;33m.\u001b[0m\u001b[0mget_window_extent\u001b[0m\u001b[1;33m(\u001b[0m\u001b[0mrenderer\u001b[0m\u001b[1;33m)\u001b[0m\u001b[1;33m\u001b[0m\u001b[0m\n\u001b[0m\u001b[0;32m   1079\u001b[0m                 \u001b[0mticklabelBoxes\u001b[0m\u001b[1;33m.\u001b[0m\u001b[0mappend\u001b[0m\u001b[1;33m(\u001b[0m\u001b[0mextent\u001b[0m\u001b[1;33m)\u001b[0m\u001b[1;33m\u001b[0m\u001b[0m\n\u001b[0;32m   1080\u001b[0m             \u001b[1;32mif\u001b[0m \u001b[0mtick\u001b[0m\u001b[1;33m.\u001b[0m\u001b[0mlabel2On\u001b[0m \u001b[1;32mand\u001b[0m \u001b[0mtick\u001b[0m\u001b[1;33m.\u001b[0m\u001b[0mlabel2\u001b[0m\u001b[1;33m.\u001b[0m\u001b[0mget_visible\u001b[0m\u001b[1;33m(\u001b[0m\u001b[1;33m)\u001b[0m\u001b[1;33m:\u001b[0m\u001b[1;33m\u001b[0m\u001b[0m\n",
      "\u001b[1;32m~\\Anaconda3\\lib\\site-packages\\matplotlib\\text.py\u001b[0m in \u001b[0;36mget_window_extent\u001b[1;34m(self, renderer, dpi)\u001b[0m\n\u001b[0;32m    965\u001b[0m             \u001b[1;32mraise\u001b[0m \u001b[0mRuntimeError\u001b[0m\u001b[1;33m(\u001b[0m\u001b[1;34m'Cannot get window extent w/o renderer'\u001b[0m\u001b[1;33m)\u001b[0m\u001b[1;33m\u001b[0m\u001b[0m\n\u001b[0;32m    966\u001b[0m \u001b[1;33m\u001b[0m\u001b[0m\n\u001b[1;32m--> 967\u001b[1;33m         \u001b[0mbbox\u001b[0m\u001b[1;33m,\u001b[0m \u001b[0minfo\u001b[0m\u001b[1;33m,\u001b[0m \u001b[0mdescent\u001b[0m \u001b[1;33m=\u001b[0m \u001b[0mself\u001b[0m\u001b[1;33m.\u001b[0m\u001b[0m_get_layout\u001b[0m\u001b[1;33m(\u001b[0m\u001b[0mself\u001b[0m\u001b[1;33m.\u001b[0m\u001b[0m_renderer\u001b[0m\u001b[1;33m)\u001b[0m\u001b[1;33m\u001b[0m\u001b[0m\n\u001b[0m\u001b[0;32m    968\u001b[0m         \u001b[0mx\u001b[0m\u001b[1;33m,\u001b[0m \u001b[0my\u001b[0m \u001b[1;33m=\u001b[0m \u001b[0mself\u001b[0m\u001b[1;33m.\u001b[0m\u001b[0mget_unitless_position\u001b[0m\u001b[1;33m(\u001b[0m\u001b[1;33m)\u001b[0m\u001b[1;33m\u001b[0m\u001b[0m\n\u001b[0;32m    969\u001b[0m         \u001b[0mx\u001b[0m\u001b[1;33m,\u001b[0m \u001b[0my\u001b[0m \u001b[1;33m=\u001b[0m \u001b[0mself\u001b[0m\u001b[1;33m.\u001b[0m\u001b[0mget_transform\u001b[0m\u001b[1;33m(\u001b[0m\u001b[1;33m)\u001b[0m\u001b[1;33m.\u001b[0m\u001b[0mtransform_point\u001b[0m\u001b[1;33m(\u001b[0m\u001b[1;33m(\u001b[0m\u001b[0mx\u001b[0m\u001b[1;33m,\u001b[0m \u001b[0my\u001b[0m\u001b[1;33m)\u001b[0m\u001b[1;33m)\u001b[0m\u001b[1;33m\u001b[0m\u001b[0m\n",
      "\u001b[1;32m~\\Anaconda3\\lib\\site-packages\\matplotlib\\text.py\u001b[0m in \u001b[0;36m_get_layout\u001b[1;34m(self, renderer)\u001b[0m\n\u001b[0;32m    351\u001b[0m         tmp, lp_h, lp_bl = renderer.get_text_width_height_descent('lp',\n\u001b[0;32m    352\u001b[0m                                                          \u001b[0mself\u001b[0m\u001b[1;33m.\u001b[0m\u001b[0m_fontproperties\u001b[0m\u001b[1;33m,\u001b[0m\u001b[1;33m\u001b[0m\u001b[0m\n\u001b[1;32m--> 353\u001b[1;33m                                                          ismath=False)\n\u001b[0m\u001b[0;32m    354\u001b[0m         \u001b[0moffsety\u001b[0m \u001b[1;33m=\u001b[0m \u001b[1;33m(\u001b[0m\u001b[0mlp_h\u001b[0m \u001b[1;33m-\u001b[0m \u001b[0mlp_bl\u001b[0m\u001b[1;33m)\u001b[0m \u001b[1;33m*\u001b[0m \u001b[0mself\u001b[0m\u001b[1;33m.\u001b[0m\u001b[0m_linespacing\u001b[0m\u001b[1;33m\u001b[0m\u001b[0m\n\u001b[0;32m    355\u001b[0m \u001b[1;33m\u001b[0m\u001b[0m\n",
      "\u001b[1;32m~\\Anaconda3\\lib\\site-packages\\matplotlib\\backends\\backend_agg.py\u001b[0m in \u001b[0;36mget_text_width_height_descent\u001b[1;34m(self, s, prop, ismath)\u001b[0m\n\u001b[0;32m    228\u001b[0m             \u001b[0mfontsize\u001b[0m \u001b[1;33m=\u001b[0m \u001b[0mprop\u001b[0m\u001b[1;33m.\u001b[0m\u001b[0mget_size_in_points\u001b[0m\u001b[1;33m(\u001b[0m\u001b[1;33m)\u001b[0m\u001b[1;33m\u001b[0m\u001b[0m\n\u001b[0;32m    229\u001b[0m             w, h, d = texmanager.get_text_width_height_descent(s, fontsize,\n\u001b[1;32m--> 230\u001b[1;33m                                                                renderer=self)\n\u001b[0m\u001b[0;32m    231\u001b[0m             \u001b[1;32mreturn\u001b[0m \u001b[0mw\u001b[0m\u001b[1;33m,\u001b[0m \u001b[0mh\u001b[0m\u001b[1;33m,\u001b[0m \u001b[0md\u001b[0m\u001b[1;33m\u001b[0m\u001b[0m\n\u001b[0;32m    232\u001b[0m \u001b[1;33m\u001b[0m\u001b[0m\n",
      "\u001b[1;32m~\\Anaconda3\\lib\\site-packages\\matplotlib\\texmanager.py\u001b[0m in \u001b[0;36mget_text_width_height_descent\u001b[1;34m(self, tex, fontsize, renderer)\u001b[0m\n\u001b[0;32m    674\u001b[0m         \u001b[1;32melse\u001b[0m\u001b[1;33m:\u001b[0m\u001b[1;33m\u001b[0m\u001b[0m\n\u001b[0;32m    675\u001b[0m             \u001b[1;31m# use dviread. It sometimes returns a wrong descent.\u001b[0m\u001b[1;33m\u001b[0m\u001b[1;33m\u001b[0m\u001b[0m\n\u001b[1;32m--> 676\u001b[1;33m             \u001b[0mdvifile\u001b[0m \u001b[1;33m=\u001b[0m \u001b[0mself\u001b[0m\u001b[1;33m.\u001b[0m\u001b[0mmake_dvi\u001b[0m\u001b[1;33m(\u001b[0m\u001b[0mtex\u001b[0m\u001b[1;33m,\u001b[0m \u001b[0mfontsize\u001b[0m\u001b[1;33m)\u001b[0m\u001b[1;33m\u001b[0m\u001b[0m\n\u001b[0m\u001b[0;32m    677\u001b[0m             \u001b[0mdvi\u001b[0m \u001b[1;33m=\u001b[0m \u001b[0mdviread\u001b[0m\u001b[1;33m.\u001b[0m\u001b[0mDvi\u001b[0m\u001b[1;33m(\u001b[0m\u001b[0mdvifile\u001b[0m\u001b[1;33m,\u001b[0m \u001b[1;36m72\u001b[0m \u001b[1;33m*\u001b[0m \u001b[0mdpi_fraction\u001b[0m\u001b[1;33m)\u001b[0m\u001b[1;33m\u001b[0m\u001b[0m\n\u001b[0;32m    678\u001b[0m             \u001b[1;32mtry\u001b[0m\u001b[1;33m:\u001b[0m\u001b[1;33m\u001b[0m\u001b[0m\n",
      "\u001b[1;32m~\\Anaconda3\\lib\\site-packages\\matplotlib\\texmanager.py\u001b[0m in \u001b[0;36mmake_dvi\u001b[1;34m(self, tex, fontsize)\u001b[0m\n\u001b[0;32m    421\u001b[0m                      \u001b[1;34m'string:\\n%s\\nHere is the full report generated by '\u001b[0m\u001b[1;33m\u001b[0m\u001b[0m\n\u001b[0;32m    422\u001b[0m                      \u001b[1;34m'LaTeX: \\n\\n'\u001b[0m \u001b[1;33m%\u001b[0m \u001b[0mrepr\u001b[0m\u001b[1;33m(\u001b[0m\u001b[0mtex\u001b[0m\u001b[1;33m.\u001b[0m\u001b[0mencode\u001b[0m\u001b[1;33m(\u001b[0m\u001b[1;34m'unicode_escape'\u001b[0m\u001b[1;33m)\u001b[0m\u001b[1;33m)\u001b[0m \u001b[1;33m+\u001b[0m\u001b[1;33m\u001b[0m\u001b[0m\n\u001b[1;32m--> 423\u001b[1;33m                      report))\n\u001b[0m\u001b[0;32m    424\u001b[0m             \u001b[1;32melse\u001b[0m\u001b[1;33m:\u001b[0m\u001b[1;33m\u001b[0m\u001b[0m\n\u001b[0;32m    425\u001b[0m                 \u001b[0mmpl\u001b[0m\u001b[1;33m.\u001b[0m\u001b[0mverbose\u001b[0m\u001b[1;33m.\u001b[0m\u001b[0mreport\u001b[0m\u001b[1;33m(\u001b[0m\u001b[0mreport\u001b[0m\u001b[1;33m,\u001b[0m \u001b[1;34m'debug'\u001b[0m\u001b[1;33m)\u001b[0m\u001b[1;33m\u001b[0m\u001b[0m\n",
      "\u001b[1;31mRuntimeError\u001b[0m: LaTeX was not able to process the following string:\nb'lp'\nHere is the full report generated by LaTeX: \n\nThis is pdfTeX, Version 3.14159265-2.6-1.40.18 (MiKTeX 2.9.6350 64-bit)\nentering extended mode\n(9eb8ed50c4f119894612567ddda7eb11.tex\nLaTeX2e <2017-04-15>\nBabel <3.10> and hyphenation patterns for 75 language(s) loaded.\n(\"C:\\Program Files\\MiKTeX 2.9\\tex\\latex\\base\\article.cls\"\nDocument Class: article 2014/09/29 v1.4h Standard LaTeX document class\n(\"C:\\Program Files\\MiKTeX 2.9\\tex\\latex\\base\\size10.clo\"))\n======================================================================\nstarting package maintenance...\ninstallation directory: \"C:\\Program Files\\MiKTeX 2.9\"\npackage repository: http://mirrors.concertpass.com/tex-archive/systems/win32/miktex/tm/packages/\nvisiting repository http://mirrors.concertpass.com/tex-archive/systems/win32/miktex/tm/packages/...\nrepository type: remote package repository\nloading lightweight database...\ndownloading http://mirrors.concertpass.com/tex-archive/systems/win32/miktex/tm/packages/miktex-zzdb1-2.9.tar.lzma...\n170475 bytes, 204.52 KB/Sec\nlightweight database digest: 9469990c92eb6978c6cd0f751e7282f7\ngoing to download 332781 bytes\ngoing to install 5 file(s) (1 package(s))\ndownloading http://mirrors.concertpass.com/tex-archive/systems/win32/miktex/tm/packages/type1cm.tar.lzma...\n332781 bytes, 355.95 KB/Sec\nextracting files from type1cm.tar.lzma...\n======================================================================\n\n(\"C:\\Program Files\\MiKTeX 2.9\\tex\\latex\\type1cm\\type1cm.sty\")\n(\"C:\\Program Files\\MiKTeX 2.9\\tex\\latex\\base\\textcomp.sty\"\n(\"C:\\Program Files\\MiKTeX 2.9\\tex\\latex\\base\\ts1enc.def\"))\n(\"C:\\Program Files\\MiKTeX 2.9\\tex\\latex\\geometry\\geometry.sty\"\n(\"C:\\Program Files\\MiKTeX 2.9\\tex\\latex\\graphics\\keyval.sty\")\n(\"C:\\Program Files\\MiKTeX 2.9\\tex\\generic\\oberdiek\\ifpdf.sty\")\n(\"C:\\Program Files\\MiKTeX 2.9\\tex\\generic\\oberdiek\\ifvtex.sty\")\n(\"C:\\Program Files\\MiKTeX 2.9\\tex\\generic\\ifxetex\\ifxetex.sty\")\n(\"C:\\Program Files\\MiKTeX 2.9\\tex\\latex\\geometry\\geometry.cfg\")\n\nPackage geometry Warning: Over-specification in `h'-direction.\n    `width' (5058.9pt) is ignored.\n\n\nPackage geometry Warning: Over-specification in `v'-direction.\n    `height' (5058.9pt) is ignored.\n\n)\nNo file 9eb8ed50c4f119894612567ddda7eb11.aux.\n(\"C:\\Program Files\\MiKTeX 2.9\\tex\\latex\\base\\ts1cmr.fd\")\n*geometry* driver: auto-detecting\n*geometry* detected driver: dvips\n[1] (9eb8ed50c4f119894612567ddda7eb11.aux)"
     ]
    },
    {
     "data": {
      "text/plain": [
       "<matplotlib.figure.Figure at 0x22a4759d438>"
      ]
     },
     "metadata": {},
     "output_type": "display_data"
    }
   ],
   "source": [
    "xzoom = np.linspace(0,2.5,100)\n",
    "yzoom=f(xzoom)\n",
    "\n",
    "matplotlib.rcParams.update({'font.size': 12, 'text.usetex': True})\n",
    "\n",
    "fig = plt.figure()\n",
    "axes = fig.add_axes([0.1, 0.1, 0.9, 0.7]) # left, bottom, width, height (range 0 to 1)\n",
    "axes.plot(xzoom,yzoom, 'g', label=r'$y = x^4-3x^3+2$') # g for green\n",
    "axes.scatter(x_list[8:],y_list[8:],c=\"r\")\n",
    "axes.plot(x_list[8:],y_list[8:],c=\"r\",label='gradient descent steps')\n",
    "axes.legend(loc=1); # upper right corner\n",
    "axes.set_xlabel('$x$')\n",
    "axes.set_ylabel('$y$') ;"
   ]
  },
  {
   "cell_type": "markdown",
   "metadata": {
    "collapsed": false
   },
   "source": [
    "## 2 dimensional example"
   ]
  },
  {
   "cell_type": "markdown",
   "metadata": {
    "collapsed": false
   },
   "source": [
    "Here we consider a function $g:\\mathbb{R}^2 \\to \\mathbb{R}$ defined by $g(x_0,x_1)=3(x_0-2)^2+(x_1-1)^2$.  We define $g$ as a function of $x$, where $x$ should be a list $[x_0,x_1].$"
   ]
  },
  {
   "cell_type": "code",
   "execution_count": 3,
   "metadata": {
    "collapsed": false
   },
   "outputs": [],
   "source": [
    "def g(x):\n",
    "    return 3*(x[0]-2)**2+(x[1]-1)**2+5"
   ]
  },
  {
   "cell_type": "code",
   "execution_count": 4,
   "metadata": {
    "collapsed": false
   },
   "outputs": [],
   "source": [
    "def grad_g(x):\n",
    "    return np.array([6*(x[0]-2), 2.0*(x[1]-1)])"
   ]
  },
  {
   "cell_type": "code",
   "execution_count": 7,
   "metadata": {
    "collapsed": false
   },
   "outputs": [
    {
     "name": "stdout",
     "output_type": "stream",
     "text": [
      "xnew: [ 1.68  2.92]\n",
      "xlist: [array([0, 4]), array([ 1.2,  3.4]), array([ 1.68,  2.92])]\n",
      "z_list: [26, 12.68, 8.9936000000000007]\n",
      "Local minimum occurs at: [ 1.68  2.92]\n",
      "Number of steps: 3\n",
      "minimum value is: 8.9936\n",
      "xnew: [ 1.872  2.536]\n",
      "xlist: [array([0, 4]), array([ 1.2,  3.4]), array([ 1.68,  2.92]), array([ 1.872,  2.536])]\n",
      "z_list: [26, 12.68, 8.9936000000000007, 7.4084479999999999]\n",
      "Local minimum occurs at: [ 1.872  2.536]\n",
      "Number of steps: 4\n",
      "minimum value is: 7.408448\n",
      "xnew: [ 1.9488  2.2288]\n",
      "xlist: [array([0, 4]), array([ 1.2,  3.4]), array([ 1.68,  2.92]), array([ 1.872,  2.536]), array([ 1.9488,  2.2288])]\n",
      "z_list: [26, 12.68, 8.9936000000000007, 7.4084479999999999, 6.5178137600000001]\n",
      "Local minimum occurs at: [ 1.9488  2.2288]\n",
      "Number of steps: 5\n",
      "minimum value is: 6.51781376\n",
      "xnew: [ 1.97952  1.98304]\n",
      "xlist: [array([0, 4]), array([ 1.2,  3.4]), array([ 1.68,  2.92]), array([ 1.872,  2.536]), array([ 1.9488,  2.2288]), array([ 1.97952,  1.98304])]\n",
      "z_list: [26, 12.68, 8.9936000000000007, 7.4084479999999999, 6.5178137600000001, 5.9676259327999999]\n",
      "Local minimum occurs at: [ 1.97952  1.98304]\n",
      "Number of steps: 6\n",
      "minimum value is: 5.9676259328\n",
      "xnew: [ 1.991808  1.786432]\n",
      "xlist: [array([0, 4]), array([ 1.2,  3.4]), array([ 1.68,  2.92]), array([ 1.872,  2.536]), array([ 1.9488,  2.2288]), array([ 1.97952,  1.98304]), array([ 1.991808,  1.786432])]\n",
      "z_list: [26, 12.68, 8.9936000000000007, 7.4084479999999999, 6.5178137600000001, 5.9676259327999999, 5.6186766172159999]\n",
      "Local minimum occurs at: [ 1.991808  1.786432]\n",
      "Number of steps: 7\n",
      "minimum value is: 5.61867661722\n",
      "xnew: [ 1.9967232  1.6291456]\n",
      "xlist: [array([0, 4]), array([ 1.2,  3.4]), array([ 1.68,  2.92]), array([ 1.872,  2.536]), array([ 1.9488,  2.2288]), array([ 1.97952,  1.98304]), array([ 1.991808,  1.786432]), array([ 1.9967232,  1.6291456])]\n",
      "z_list: [26, 12.68, 8.9936000000000007, 7.4084479999999999, 6.5178137600000001, 5.9676259327999999, 5.6186766172159999, 5.3958563982540797]\n",
      "Local minimum occurs at: [ 1.9967232  1.6291456]\n",
      "Number of steps: 8\n",
      "minimum value is: 5.39585639825\n",
      "xnew: [ 1.99868928  1.50331648]\n",
      "xlist: [array([0, 4]), array([ 1.2,  3.4]), array([ 1.68,  2.92]), array([ 1.872,  2.536]), array([ 1.9488,  2.2288]), array([ 1.97952,  1.98304]), array([ 1.991808,  1.786432]), array([ 1.9967232,  1.6291456]), array([ 1.99868928,  1.50331648])]\n",
      "z_list: [26, 12.68, 8.9936000000000007, 7.4084479999999999, 6.5178137600000001, 5.9676259327999999, 5.6186766172159999, 5.3958563982540797, 5.2533326330003458]\n",
      "Local minimum occurs at: [ 1.99868928  1.50331648]\n",
      "Number of steps: 9\n",
      "minimum value is: 5.253332633\n",
      "xnew: [ 1.99947571  1.40265318]\n",
      "xlist: [array([0, 4]), array([ 1.2,  3.4]), array([ 1.68,  2.92]), array([ 1.872,  2.536]), array([ 1.9488,  2.2288]), array([ 1.97952,  1.98304]), array([ 1.991808,  1.786432]), array([ 1.9967232,  1.6291456]), array([ 1.99868928,  1.50331648]), array([ 1.99947571,  1.40265318])]\n",
      "z_list: [26, 12.68, 8.9936000000000007, 7.4084479999999999, 6.5178137600000001, 5.9676259327999999, 5.6186766172159999, 5.3958563982540797, 5.2533326330003458, 5.1621304112190591]\n",
      "Local minimum occurs at: [ 1.99947571  1.40265318]\n",
      "Number of steps: 10\n",
      "minimum value is: 5.16213041122\n",
      "xnew: [ 1.99979028  1.32212255]\n",
      "xlist: [array([0, 4]), array([ 1.2,  3.4]), array([ 1.68,  2.92]), array([ 1.872,  2.536]), array([ 1.9488,  2.2288]), array([ 1.97952,  1.98304]), array([ 1.991808,  1.786432]), array([ 1.9967232,  1.6291456]), array([ 1.99868928,  1.50331648]), array([ 1.99947571,  1.40265318]), array([ 1.99979028,  1.32212255])]\n",
      "z_list: [26, 12.68, 8.9936000000000007, 7.4084479999999999, 6.5178137600000001, 5.9676259327999999, 5.6186766172159999, 5.3958563982540797, 5.2533326330003458, 5.1621304112190591, 5.1037630673560113]\n",
      "Local minimum occurs at: [ 1.99979028  1.32212255]\n",
      "Number of steps: 11\n",
      "minimum value is: 5.10376306736\n",
      "xnew: [ 1.99991611  1.25769804]\n",
      "xlist: [array([0, 4]), array([ 1.2,  3.4]), array([ 1.68,  2.92]), array([ 1.872,  2.536]), array([ 1.9488,  2.2288]), array([ 1.97952,  1.98304]), array([ 1.991808,  1.786432]), array([ 1.9967232,  1.6291456]), array([ 1.99868928,  1.50331648]), array([ 1.99947571,  1.40265318]), array([ 1.99979028,  1.32212255]), array([ 1.99991611,  1.25769804])]\n",
      "z_list: [26, 12.68, 8.9936000000000007, 7.4084479999999999, 6.5178137600000001, 5.9676259327999999, 5.6186766172159999, 5.3958563982540797, 5.2533326330003458, 5.1621304112190591, 5.1037630673560113, 5.0664082997759774]\n",
      "Local minimum occurs at: [ 1.99991611  1.25769804]\n",
      "Number of steps: 12\n",
      "minimum value is: 5.06640829978\n",
      "xnew: [ 1.99996645  1.20615843]\n",
      "xlist: [array([0, 4]), array([ 1.2,  3.4]), array([ 1.68,  2.92]), array([ 1.872,  2.536]), array([ 1.9488,  2.2288]), array([ 1.97952,  1.98304]), array([ 1.991808,  1.786432]), array([ 1.9967232,  1.6291456]), array([ 1.99868928,  1.50331648]), array([ 1.99947571,  1.40265318]), array([ 1.99979028,  1.32212255]), array([ 1.99991611,  1.25769804]), array([ 1.99996645,  1.20615843])]\n",
      "z_list: [26, 12.68, 8.9936000000000007, 7.4084479999999999, 6.5178137600000001, 5.9676259327999999, 5.6186766172159999, 5.3958563982540797, 5.2533326330003458, 5.1621304112190591, 5.1037630673560113, 5.0664082997759774, 5.0425013017235267]\n",
      "Local minimum occurs at: [ 1.99996645  1.20615843]\n",
      "Number of steps: 13\n",
      "minimum value is: 5.04250130172\n",
      "xnew: [ 1.99998658  1.16492674]\n",
      "xlist: [array([0, 4]), array([ 1.2,  3.4]), array([ 1.68,  2.92]), array([ 1.872,  2.536]), array([ 1.9488,  2.2288]), array([ 1.97952,  1.98304]), array([ 1.991808,  1.786432]), array([ 1.9967232,  1.6291456]), array([ 1.99868928,  1.50331648]), array([ 1.99947571,  1.40265318]), array([ 1.99979028,  1.32212255]), array([ 1.99991611,  1.25769804]), array([ 1.99996645,  1.20615843]), array([ 1.99998658,  1.16492674])]\n",
      "z_list: [26, 12.68, 8.9936000000000007, 7.4084479999999999, 6.5178137600000001, 5.9676259327999999, 5.6186766172159999, 5.3958563982540797, 5.2533326330003458, 5.1621304112190591, 5.1037630673560113, 5.0664082997759774, 5.0425013017235267, 5.0272008314817613]\n",
      "Local minimum occurs at: [ 1.99998658  1.16492674]\n",
      "Number of steps: 14\n",
      "minimum value is: 5.02720083148\n",
      "xnew: [ 1.99999463  1.1319414 ]\n",
      "xlist: [array([0, 4]), array([ 1.2,  3.4]), array([ 1.68,  2.92]), array([ 1.872,  2.536]), array([ 1.9488,  2.2288]), array([ 1.97952,  1.98304]), array([ 1.991808,  1.786432]), array([ 1.9967232,  1.6291456]), array([ 1.99868928,  1.50331648]), array([ 1.99947571,  1.40265318]), array([ 1.99979028,  1.32212255]), array([ 1.99991611,  1.25769804]), array([ 1.99996645,  1.20615843]), array([ 1.99998658,  1.16492674]), array([ 1.99999463,  1.1319414 ])]\n",
      "z_list: [26, 12.68, 8.9936000000000007, 7.4084479999999999, 6.5178137600000001, 5.9676259327999999, 5.6186766172159999, 5.3958563982540797, 5.2533326330003458, 5.1621304112190591, 5.1037630673560113, 5.0664082997759774, 5.0425013017235267, 5.0272008314817613, 5.0174085318889201]\n",
      "Local minimum occurs at: [ 1.99999463  1.1319414 ]\n",
      "Number of steps: 15\n",
      "minimum value is: 5.01740853189\n",
      "xnew: [ 1.99999785  1.10555312]\n",
      "xlist: [array([0, 4]), array([ 1.2,  3.4]), array([ 1.68,  2.92]), array([ 1.872,  2.536]), array([ 1.9488,  2.2288]), array([ 1.97952,  1.98304]), array([ 1.991808,  1.786432]), array([ 1.9967232,  1.6291456]), array([ 1.99868928,  1.50331648]), array([ 1.99947571,  1.40265318]), array([ 1.99979028,  1.32212255]), array([ 1.99991611,  1.25769804]), array([ 1.99996645,  1.20615843]), array([ 1.99998658,  1.16492674]), array([ 1.99999463,  1.1319414 ]), array([ 1.99999785,  1.10555312])]\n",
      "z_list: [26, 12.68, 8.9936000000000007, 7.4084479999999999, 6.5178137600000001, 5.9676259327999999, 5.6186766172159999, 5.3958563982540797, 5.2533326330003458, 5.1621304112190591, 5.1037630673560113, 5.0664082997759774, 5.0425013017235267, 5.0272008314817613, 5.0174085318889201, 5.0111414603674032]\n",
      "Local minimum occurs at: [ 1.99999785  1.10555312]\n",
      "Number of steps: 16\n",
      "minimum value is: 5.01114146037\n",
      "xnew: [ 1.99999914  1.08444249]\n",
      "xlist: [array([0, 4]), array([ 1.2,  3.4]), array([ 1.68,  2.92]), array([ 1.872,  2.536]), array([ 1.9488,  2.2288]), array([ 1.97952,  1.98304]), array([ 1.991808,  1.786432]), array([ 1.9967232,  1.6291456]), array([ 1.99868928,  1.50331648]), array([ 1.99947571,  1.40265318]), array([ 1.99979028,  1.32212255]), array([ 1.99991611,  1.25769804]), array([ 1.99996645,  1.20615843]), array([ 1.99998658,  1.16492674]), array([ 1.99999463,  1.1319414 ]), array([ 1.99999785,  1.10555312]), array([ 1.99999914,  1.08444249])]\n",
      "z_list: [26, 12.68, 8.9936000000000007, 7.4084479999999999, 6.5178137600000001, 5.9676259327999999, 5.6186766172159999, 5.3958563982540797, 5.2533326330003458, 5.1621304112190591, 5.1037630673560113, 5.0664082997759774, 5.0425013017235267, 5.0272008314817613, 5.0174085318889201, 5.0111414603674032, 5.0071305346284971]\n",
      "Local minimum occurs at: [ 1.99999914  1.08444249]\n",
      "Number of steps: 17\n",
      "minimum value is: 5.00713053463\n",
      "xnew: [ 1.99999966  1.06755399]\n",
      "xlist: [array([0, 4]), array([ 1.2,  3.4]), array([ 1.68,  2.92]), array([ 1.872,  2.536]), array([ 1.9488,  2.2288]), array([ 1.97952,  1.98304]), array([ 1.991808,  1.786432]), array([ 1.9967232,  1.6291456]), array([ 1.99868928,  1.50331648]), array([ 1.99947571,  1.40265318]), array([ 1.99979028,  1.32212255]), array([ 1.99991611,  1.25769804]), array([ 1.99996645,  1.20615843]), array([ 1.99998658,  1.16492674]), array([ 1.99999463,  1.1319414 ]), array([ 1.99999785,  1.10555312]), array([ 1.99999914,  1.08444249]), array([ 1.99999966,  1.06755399])]\n",
      "z_list: [26, 12.68, 8.9936000000000007, 7.4084479999999999, 6.5178137600000001, 5.9676259327999999, 5.6186766172159999, 5.3958563982540797, 5.2533326330003458, 5.1621304112190591, 5.1037630673560113, 5.0664082997759774, 5.0425013017235267, 5.0272008314817613, 5.0174085318889201, 5.0111414603674032, 5.0071305346284971, 5.0045635421611756]\n",
      "Local minimum occurs at: [ 1.99999966  1.06755399]\n",
      "Number of steps: 18\n",
      "minimum value is: 5.00456354216\n",
      "xnew: [ 1.99999986  1.0540432 ]\n",
      "xlist: [array([0, 4]), array([ 1.2,  3.4]), array([ 1.68,  2.92]), array([ 1.872,  2.536]), array([ 1.9488,  2.2288]), array([ 1.97952,  1.98304]), array([ 1.991808,  1.786432]), array([ 1.9967232,  1.6291456]), array([ 1.99868928,  1.50331648]), array([ 1.99947571,  1.40265318]), array([ 1.99979028,  1.32212255]), array([ 1.99991611,  1.25769804]), array([ 1.99996645,  1.20615843]), array([ 1.99998658,  1.16492674]), array([ 1.99999463,  1.1319414 ]), array([ 1.99999785,  1.10555312]), array([ 1.99999914,  1.08444249]), array([ 1.99999966,  1.06755399]), array([ 1.99999986,  1.0540432 ])]\n",
      "z_list: [26, 12.68, 8.9936000000000007, 7.4084479999999999, 6.5178137600000001, 5.9676259327999999, 5.6186766172159999, 5.3958563982540797, 5.2533326330003458, 5.1621304112190591, 5.1037630673560113, 5.0664082997759774, 5.0425013017235267, 5.0272008314817613, 5.0174085318889201, 5.0111414603674032, 5.0071305346284971, 5.0045635421611756, 5.0029206669829822]\n",
      "Local minimum occurs at: [ 1.99999986  1.0540432 ]\n",
      "Number of steps: 19\n",
      "minimum value is: 5.00292066698\n",
      "xnew: [ 1.99999995  1.04323456]\n",
      "xlist: [array([0, 4]), array([ 1.2,  3.4]), array([ 1.68,  2.92]), array([ 1.872,  2.536]), array([ 1.9488,  2.2288]), array([ 1.97952,  1.98304]), array([ 1.991808,  1.786432]), array([ 1.9967232,  1.6291456]), array([ 1.99868928,  1.50331648]), array([ 1.99947571,  1.40265318]), array([ 1.99979028,  1.32212255]), array([ 1.99991611,  1.25769804]), array([ 1.99996645,  1.20615843]), array([ 1.99998658,  1.16492674]), array([ 1.99999463,  1.1319414 ]), array([ 1.99999785,  1.10555312]), array([ 1.99999914,  1.08444249]), array([ 1.99999966,  1.06755399]), array([ 1.99999986,  1.0540432 ]), array([ 1.99999995,  1.04323456])]\n",
      "z_list: [26, 12.68, 8.9936000000000007, 7.4084479999999999, 6.5178137600000001, 5.9676259327999999, 5.6186766172159999, 5.3958563982540797, 5.2533326330003458, 5.1621304112190591, 5.1037630673560113, 5.0664082997759774, 5.0425013017235267, 5.0272008314817613, 5.0174085318889201, 5.0111414603674032, 5.0071305346284971, 5.0045635421611756, 5.0029206669829822, 5.0018692268690819]\n",
      "Local minimum occurs at: [ 1.99999995  1.04323456]\n",
      "Number of steps: 20\n",
      "minimum value is: 5.00186922687\n",
      "xnew: [ 1.99999998  1.03458765]\n",
      "xlist: [array([0, 4]), array([ 1.2,  3.4]), array([ 1.68,  2.92]), array([ 1.872,  2.536]), array([ 1.9488,  2.2288]), array([ 1.97952,  1.98304]), array([ 1.991808,  1.786432]), array([ 1.9967232,  1.6291456]), array([ 1.99868928,  1.50331648]), array([ 1.99947571,  1.40265318]), array([ 1.99979028,  1.32212255]), array([ 1.99991611,  1.25769804]), array([ 1.99996645,  1.20615843]), array([ 1.99998658,  1.16492674]), array([ 1.99999463,  1.1319414 ]), array([ 1.99999785,  1.10555312]), array([ 1.99999914,  1.08444249]), array([ 1.99999966,  1.06755399]), array([ 1.99999986,  1.0540432 ]), array([ 1.99999995,  1.04323456]), array([ 1.99999998,  1.03458765])]\n",
      "z_list: [26, 12.68, 8.9936000000000007, 7.4084479999999999, 6.5178137600000001, 5.9676259327999999, 5.6186766172159999, 5.3958563982540797, 5.2533326330003458, 5.1621304112190591, 5.1037630673560113, 5.0664082997759774, 5.0425013017235267, 5.0272008314817613, 5.0174085318889201, 5.0111414603674032, 5.0071305346284971, 5.0045635421611756, 5.0029206669829822, 5.0018692268690819, 5.0011963051962081]\n",
      "Local minimum occurs at: [ 1.99999998  1.03458765]\n",
      "Number of steps: 21\n",
      "minimum value is: 5.0011963052\n",
      "xnew: [ 1.99999999  1.02767012]\n",
      "xlist: [array([0, 4]), array([ 1.2,  3.4]), array([ 1.68,  2.92]), array([ 1.872,  2.536]), array([ 1.9488,  2.2288]), array([ 1.97952,  1.98304]), array([ 1.991808,  1.786432]), array([ 1.9967232,  1.6291456]), array([ 1.99868928,  1.50331648]), array([ 1.99947571,  1.40265318]), array([ 1.99979028,  1.32212255]), array([ 1.99991611,  1.25769804]), array([ 1.99996645,  1.20615843]), array([ 1.99998658,  1.16492674]), array([ 1.99999463,  1.1319414 ]), array([ 1.99999785,  1.10555312]), array([ 1.99999914,  1.08444249]), array([ 1.99999966,  1.06755399]), array([ 1.99999986,  1.0540432 ]), array([ 1.99999995,  1.04323456]), array([ 1.99999998,  1.03458765]), array([ 1.99999999,  1.02767012])]\n",
      "z_list: [26, 12.68, 8.9936000000000007, 7.4084479999999999, 6.5178137600000001, 5.9676259327999999, 5.6186766172159999, 5.3958563982540797, 5.2533326330003458, 5.1621304112190591, 5.1037630673560113, 5.0664082997759774, 5.0425013017235267, 5.0272008314817613, 5.0174085318889201, 5.0111414603674032, 5.0071305346284971, 5.0045635421611756, 5.0029206669829822, 5.0018692268690819, 5.0011963051962081, 5.0007656353255721]\n",
      "Local minimum occurs at: [ 1.99999999  1.02767012]\n",
      "Number of steps: 22\n",
      "minimum value is: 5.00076563533\n",
      "xnew: [ 2.          1.02213609]\n",
      "xlist: [array([0, 4]), array([ 1.2,  3.4]), array([ 1.68,  2.92]), array([ 1.872,  2.536]), array([ 1.9488,  2.2288]), array([ 1.97952,  1.98304]), array([ 1.991808,  1.786432]), array([ 1.9967232,  1.6291456]), array([ 1.99868928,  1.50331648]), array([ 1.99947571,  1.40265318]), array([ 1.99979028,  1.32212255]), array([ 1.99991611,  1.25769804]), array([ 1.99996645,  1.20615843]), array([ 1.99998658,  1.16492674]), array([ 1.99999463,  1.1319414 ]), array([ 1.99999785,  1.10555312]), array([ 1.99999914,  1.08444249]), array([ 1.99999966,  1.06755399]), array([ 1.99999986,  1.0540432 ]), array([ 1.99999995,  1.04323456]), array([ 1.99999998,  1.03458765]), array([ 1.99999999,  1.02767012]), array([ 2.        ,  1.02213609])]\n",
      "z_list: [26, 12.68, 8.9936000000000007, 7.4084479999999999, 6.5178137600000001, 5.9676259327999999, 5.6186766172159999, 5.3958563982540797, 5.2533326330003458, 5.1621304112190591, 5.1037630673560113, 5.0664082997759774, 5.0425013017235267, 5.0272008314817613, 5.0174085318889201, 5.0111414603674032, 5.0071305346284971, 5.0045635421611756, 5.0029206669829822, 5.0018692268690819, 5.0011963051962081, 5.0007656353255721, 5.0004900066083664]\n",
      "Local minimum occurs at: [ 2.          1.02213609]\n",
      "Number of steps: 23\n",
      "minimum value is: 5.00049000661\n",
      "xnew: [ 2.          1.01770887]\n",
      "xlist: [array([0, 4]), array([ 1.2,  3.4]), array([ 1.68,  2.92]), array([ 1.872,  2.536]), array([ 1.9488,  2.2288]), array([ 1.97952,  1.98304]), array([ 1.991808,  1.786432]), array([ 1.9967232,  1.6291456]), array([ 1.99868928,  1.50331648]), array([ 1.99947571,  1.40265318]), array([ 1.99979028,  1.32212255]), array([ 1.99991611,  1.25769804]), array([ 1.99996645,  1.20615843]), array([ 1.99998658,  1.16492674]), array([ 1.99999463,  1.1319414 ]), array([ 1.99999785,  1.10555312]), array([ 1.99999914,  1.08444249]), array([ 1.99999966,  1.06755399]), array([ 1.99999986,  1.0540432 ]), array([ 1.99999995,  1.04323456]), array([ 1.99999998,  1.03458765]), array([ 1.99999999,  1.02767012]), array([ 2.        ,  1.02213609]), array([ 2.        ,  1.01770887])]\n",
      "z_list: [26, 12.68, 8.9936000000000007, 7.4084479999999999, 6.5178137600000001, 5.9676259327999999, 5.6186766172159999, 5.3958563982540797, 5.2533326330003458, 5.1621304112190591, 5.1037630673560113, 5.0664082997759774, 5.0425013017235267, 5.0272008314817613, 5.0174085318889201, 5.0111414603674032, 5.0071305346284971, 5.0045635421611756, 5.0029206669829822, 5.0018692268690819, 5.0011963051962081, 5.0007656353255721, 5.0004900066083664, 5.0003136042293548]\n",
      "Local minimum occurs at: [ 2.          1.01770887]\n",
      "Number of steps: 24\n",
      "minimum value is: 5.00031360423\n",
      "xnew: [ 2.         1.0141671]\n",
      "xlist: [array([0, 4]), array([ 1.2,  3.4]), array([ 1.68,  2.92]), array([ 1.872,  2.536]), array([ 1.9488,  2.2288]), array([ 1.97952,  1.98304]), array([ 1.991808,  1.786432]), array([ 1.9967232,  1.6291456]), array([ 1.99868928,  1.50331648]), array([ 1.99947571,  1.40265318]), array([ 1.99979028,  1.32212255]), array([ 1.99991611,  1.25769804]), array([ 1.99996645,  1.20615843]), array([ 1.99998658,  1.16492674]), array([ 1.99999463,  1.1319414 ]), array([ 1.99999785,  1.10555312]), array([ 1.99999914,  1.08444249]), array([ 1.99999966,  1.06755399]), array([ 1.99999986,  1.0540432 ]), array([ 1.99999995,  1.04323456]), array([ 1.99999998,  1.03458765]), array([ 1.99999999,  1.02767012]), array([ 2.        ,  1.02213609]), array([ 2.        ,  1.01770887]), array([ 2.       ,  1.0141671])]\n",
      "z_list: [26, 12.68, 8.9936000000000007, 7.4084479999999999, 6.5178137600000001, 5.9676259327999999, 5.6186766172159999, 5.3958563982540797, 5.2533326330003458, 5.1621304112190591, 5.1037630673560113, 5.0664082997759774, 5.0425013017235267, 5.0272008314817613, 5.0174085318889201, 5.0111414603674032, 5.0071305346284971, 5.0045635421611756, 5.0029206669829822, 5.0018692268690819, 5.0011963051962081, 5.0007656353255721, 5.0004900066083664, 5.0003136042293548, 5.0002007067067868]\n",
      "Local minimum occurs at: [ 2.         1.0141671]\n",
      "Number of steps: 25\n",
      "minimum value is: 5.00020070671\n",
      "xnew: [ 2.          1.01133368]\n",
      "xlist: [array([0, 4]), array([ 1.2,  3.4]), array([ 1.68,  2.92]), array([ 1.872,  2.536]), array([ 1.9488,  2.2288]), array([ 1.97952,  1.98304]), array([ 1.991808,  1.786432]), array([ 1.9967232,  1.6291456]), array([ 1.99868928,  1.50331648]), array([ 1.99947571,  1.40265318]), array([ 1.99979028,  1.32212255]), array([ 1.99991611,  1.25769804]), array([ 1.99996645,  1.20615843]), array([ 1.99998658,  1.16492674]), array([ 1.99999463,  1.1319414 ]), array([ 1.99999785,  1.10555312]), array([ 1.99999914,  1.08444249]), array([ 1.99999966,  1.06755399]), array([ 1.99999986,  1.0540432 ]), array([ 1.99999995,  1.04323456]), array([ 1.99999998,  1.03458765]), array([ 1.99999999,  1.02767012]), array([ 2.        ,  1.02213609]), array([ 2.        ,  1.01770887]), array([ 2.       ,  1.0141671]), array([ 2.        ,  1.01133368])]\n",
      "z_list: [26, 12.68, 8.9936000000000007, 7.4084479999999999, 6.5178137600000001, 5.9676259327999999, 5.6186766172159999, 5.3958563982540797, 5.2533326330003458, 5.1621304112190591, 5.1037630673560113, 5.0664082997759774, 5.0425013017235267, 5.0272008314817613, 5.0174085318889201, 5.0111414603674032, 5.0071305346284971, 5.0045635421611756, 5.0029206669829822, 5.0018692268690819, 5.0011963051962081, 5.0007656353255721, 5.0004900066083664, 5.0003136042293548, 5.0002007067067868, 5.0001284522923433]\n",
      "Local minimum occurs at: [ 2.          1.01133368]\n",
      "Number of steps: 26\n",
      "minimum value is: 5.00012845229\n",
      "xnew: [ 2.          1.00906694]\n",
      "xlist: [array([0, 4]), array([ 1.2,  3.4]), array([ 1.68,  2.92]), array([ 1.872,  2.536]), array([ 1.9488,  2.2288]), array([ 1.97952,  1.98304]), array([ 1.991808,  1.786432]), array([ 1.9967232,  1.6291456]), array([ 1.99868928,  1.50331648]), array([ 1.99947571,  1.40265318]), array([ 1.99979028,  1.32212255]), array([ 1.99991611,  1.25769804]), array([ 1.99996645,  1.20615843]), array([ 1.99998658,  1.16492674]), array([ 1.99999463,  1.1319414 ]), array([ 1.99999785,  1.10555312]), array([ 1.99999914,  1.08444249]), array([ 1.99999966,  1.06755399]), array([ 1.99999986,  1.0540432 ]), array([ 1.99999995,  1.04323456]), array([ 1.99999998,  1.03458765]), array([ 1.99999999,  1.02767012]), array([ 2.        ,  1.02213609]), array([ 2.        ,  1.01770887]), array([ 2.       ,  1.0141671]), array([ 2.        ,  1.01133368]), array([ 2.        ,  1.00906694])]\n",
      "z_list: [26, 12.68, 8.9936000000000007, 7.4084479999999999, 6.5178137600000001, 5.9676259327999999, 5.6186766172159999, 5.3958563982540797, 5.2533326330003458, 5.1621304112190591, 5.1037630673560113, 5.0664082997759774, 5.0425013017235267, 5.0272008314817613, 5.0174085318889201, 5.0111414603674032, 5.0071305346284971, 5.0045635421611756, 5.0029206669829822, 5.0018692268690819, 5.0011963051962081, 5.0007656353255721, 5.0004900066083664, 5.0003136042293548, 5.0002007067067868, 5.0001284522923433, 5.0000822094670996]\n",
      "Local minimum occurs at: [ 2.          1.00906694]\n",
      "Number of steps: 27\n",
      "minimum value is: 5.00008220947\n",
      "xnew: [ 2.          1.00725355]\n",
      "xlist: [array([0, 4]), array([ 1.2,  3.4]), array([ 1.68,  2.92]), array([ 1.872,  2.536]), array([ 1.9488,  2.2288]), array([ 1.97952,  1.98304]), array([ 1.991808,  1.786432]), array([ 1.9967232,  1.6291456]), array([ 1.99868928,  1.50331648]), array([ 1.99947571,  1.40265318]), array([ 1.99979028,  1.32212255]), array([ 1.99991611,  1.25769804]), array([ 1.99996645,  1.20615843]), array([ 1.99998658,  1.16492674]), array([ 1.99999463,  1.1319414 ]), array([ 1.99999785,  1.10555312]), array([ 1.99999914,  1.08444249]), array([ 1.99999966,  1.06755399]), array([ 1.99999986,  1.0540432 ]), array([ 1.99999995,  1.04323456]), array([ 1.99999998,  1.03458765]), array([ 1.99999999,  1.02767012]), array([ 2.        ,  1.02213609]), array([ 2.        ,  1.01770887]), array([ 2.       ,  1.0141671]), array([ 2.        ,  1.01133368]), array([ 2.        ,  1.00906694]), array([ 2.        ,  1.00725355])]\n",
      "z_list: [26, 12.68, 8.9936000000000007, 7.4084479999999999, 6.5178137600000001, 5.9676259327999999, 5.6186766172159999, 5.3958563982540797, 5.2533326330003458, 5.1621304112190591, 5.1037630673560113, 5.0664082997759774, 5.0425013017235267, 5.0272008314817613, 5.0174085318889201, 5.0111414603674032, 5.0071305346284971, 5.0045635421611756, 5.0029206669829822, 5.0018692268690819, 5.0011963051962081, 5.0007656353255721, 5.0004900066083664, 5.0003136042293548, 5.0002007067067868, 5.0001284522923433, 5.0000822094670996, 5.0000526140589443]\n",
      "Local minimum occurs at: [ 2.          1.00725355]\n",
      "Number of steps: 28\n",
      "minimum value is: 5.00005261406\n",
      "xnew: [ 2.          1.00580284]\n",
      "xlist: [array([0, 4]), array([ 1.2,  3.4]), array([ 1.68,  2.92]), array([ 1.872,  2.536]), array([ 1.9488,  2.2288]), array([ 1.97952,  1.98304]), array([ 1.991808,  1.786432]), array([ 1.9967232,  1.6291456]), array([ 1.99868928,  1.50331648]), array([ 1.99947571,  1.40265318]), array([ 1.99979028,  1.32212255]), array([ 1.99991611,  1.25769804]), array([ 1.99996645,  1.20615843]), array([ 1.99998658,  1.16492674]), array([ 1.99999463,  1.1319414 ]), array([ 1.99999785,  1.10555312]), array([ 1.99999914,  1.08444249]), array([ 1.99999966,  1.06755399]), array([ 1.99999986,  1.0540432 ]), array([ 1.99999995,  1.04323456]), array([ 1.99999998,  1.03458765]), array([ 1.99999999,  1.02767012]), array([ 2.        ,  1.02213609]), array([ 2.        ,  1.01770887]), array([ 2.       ,  1.0141671]), array([ 2.        ,  1.01133368]), array([ 2.        ,  1.00906694]), array([ 2.        ,  1.00725355]), array([ 2.        ,  1.00580284])]\n",
      "z_list: [26, 12.68, 8.9936000000000007, 7.4084479999999999, 6.5178137600000001, 5.9676259327999999, 5.6186766172159999, 5.3958563982540797, 5.2533326330003458, 5.1621304112190591, 5.1037630673560113, 5.0664082997759774, 5.0425013017235267, 5.0272008314817613, 5.0174085318889201, 5.0111414603674032, 5.0071305346284971, 5.0045635421611756, 5.0029206669829822, 5.0018692268690819, 5.0011963051962081, 5.0007656353255721, 5.0004900066083664, 5.0003136042293548, 5.0002007067067868, 5.0001284522923433, 5.0000822094670996, 5.0000526140589443, 5.0000336729977244]\n",
      "Local minimum occurs at: [ 2.          1.00580284]\n",
      "Number of steps: 29\n",
      "minimum value is: 5.000033673\n",
      "xnew: [ 2.          1.00464228]\n",
      "xlist: [array([0, 4]), array([ 1.2,  3.4]), array([ 1.68,  2.92]), array([ 1.872,  2.536]), array([ 1.9488,  2.2288]), array([ 1.97952,  1.98304]), array([ 1.991808,  1.786432]), array([ 1.9967232,  1.6291456]), array([ 1.99868928,  1.50331648]), array([ 1.99947571,  1.40265318]), array([ 1.99979028,  1.32212255]), array([ 1.99991611,  1.25769804]), array([ 1.99996645,  1.20615843]), array([ 1.99998658,  1.16492674]), array([ 1.99999463,  1.1319414 ]), array([ 1.99999785,  1.10555312]), array([ 1.99999914,  1.08444249]), array([ 1.99999966,  1.06755399]), array([ 1.99999986,  1.0540432 ]), array([ 1.99999995,  1.04323456]), array([ 1.99999998,  1.03458765]), array([ 1.99999999,  1.02767012]), array([ 2.        ,  1.02213609]), array([ 2.        ,  1.01770887]), array([ 2.       ,  1.0141671]), array([ 2.        ,  1.01133368]), array([ 2.        ,  1.00906694]), array([ 2.        ,  1.00725355]), array([ 2.        ,  1.00580284]), array([ 2.        ,  1.00464228])]\n",
      "z_list: [26, 12.68, 8.9936000000000007, 7.4084479999999999, 6.5178137600000001, 5.9676259327999999, 5.6186766172159999, 5.3958563982540797, 5.2533326330003458, 5.1621304112190591, 5.1037630673560113, 5.0664082997759774, 5.0425013017235267, 5.0272008314817613, 5.0174085318889201, 5.0111414603674032, 5.0071305346284971, 5.0045635421611756, 5.0029206669829822, 5.0018692268690819, 5.0011963051962081, 5.0007656353255721, 5.0004900066083664, 5.0003136042293548, 5.0002007067067868, 5.0001284522923433, 5.0000822094670996, 5.0000526140589443, 5.0000336729977244, 5.000021550718543]\n",
      "Local minimum occurs at: [ 2.          1.00464228]\n",
      "Number of steps: 30\n",
      "minimum value is: 5.00002155072\n",
      "xnew: [ 2.          1.00371382]\n",
      "xlist: [array([0, 4]), array([ 1.2,  3.4]), array([ 1.68,  2.92]), array([ 1.872,  2.536]), array([ 1.9488,  2.2288]), array([ 1.97952,  1.98304]), array([ 1.991808,  1.786432]), array([ 1.9967232,  1.6291456]), array([ 1.99868928,  1.50331648]), array([ 1.99947571,  1.40265318]), array([ 1.99979028,  1.32212255]), array([ 1.99991611,  1.25769804]), array([ 1.99996645,  1.20615843]), array([ 1.99998658,  1.16492674]), array([ 1.99999463,  1.1319414 ]), array([ 1.99999785,  1.10555312]), array([ 1.99999914,  1.08444249]), array([ 1.99999966,  1.06755399]), array([ 1.99999986,  1.0540432 ]), array([ 1.99999995,  1.04323456]), array([ 1.99999998,  1.03458765]), array([ 1.99999999,  1.02767012]), array([ 2.        ,  1.02213609]), array([ 2.        ,  1.01770887]), array([ 2.       ,  1.0141671]), array([ 2.        ,  1.01133368]), array([ 2.        ,  1.00906694]), array([ 2.        ,  1.00725355]), array([ 2.        ,  1.00580284]), array([ 2.        ,  1.00464228]), array([ 2.        ,  1.00371382])]\n",
      "z_list: [26, 12.68, 8.9936000000000007, 7.4084479999999999, 6.5178137600000001, 5.9676259327999999, 5.6186766172159999, 5.3958563982540797, 5.2533326330003458, 5.1621304112190591, 5.1037630673560113, 5.0664082997759774, 5.0425013017235267, 5.0272008314817613, 5.0174085318889201, 5.0111414603674032, 5.0071305346284971, 5.0045635421611756, 5.0029206669829822, 5.0018692268690819, 5.0011963051962081, 5.0007656353255721, 5.0004900066083664, 5.0003136042293548, 5.0002007067067868, 5.0001284522923433, 5.0000822094670996, 5.0000526140589443, 5.0000336729977244, 5.000021550718543, 5.0000137924598675]\n",
      "Local minimum occurs at: [ 2.          1.00371382]\n",
      "Number of steps: 31\n",
      "minimum value is: 5.00001379246\n",
      "Local minimum occurs at: [ 2.          1.00371382]\n",
      "Number of steps: 31\n",
      "minimum value is: 5.00001379246\n"
     ]
    }
   ],
   "source": [
    "import numpy as np\n",
    "x_old = np.array([0,4])\n",
    "h = 0.1 # step size\n",
    "precision = 0.001\n",
    "\n",
    "x_list = [x_old]\n",
    "z_list = [g(x_old)]\n",
    "\n",
    "\n",
    "x_new = x_old - h * grad_g(x_old)\n",
    "x_list.append(x_new)\n",
    "z_list.append(g(x_new))\n",
    "\n",
    "while (abs(x_new[0] - x_old[0])+abs(x_new[1] - x_old[1])) > precision:\n",
    "    x_old = x_new\n",
    "    direction = - grad_g(x_old)\n",
    "    x_new = x_old + h * direction\n",
    "    x_list.append(x_new)\n",
    "    print(\"xnew:\", x_new )\n",
    "    print(\"xlist:\", x_list)\n",
    "    z_list.append(g(x_new))\n",
    "    print(\"z_list:\" ,z_list)\n",
    "    \n",
    "    print (\"Local minimum occurs at:\", x_new)\n",
    "    print (\"Number of steps:\", len(x_list))\n",
    "    print (\"minimum value is:\", g(x_new))\n",
    "    \n",
    "print (\"Local minimum occurs at:\", x_new)\n",
    "print (\"Number of steps:\", len(x_list))\n",
    "print (\"minimum value is:\", g(x_new))"
   ]
  },
  {
   "cell_type": "code",
   "execution_count": null,
   "metadata": {
    "collapsed": false
   },
   "outputs": [],
   "source": [
    "x0 = np.linspace(-1,6,100)\n",
    "x1 = np.linspace(-2,5,100)\n",
    "X0, X1 = np.meshgrid(x0,x1)\n",
    "Z=g([X0,X1])"
   ]
  },
  {
   "cell_type": "code",
   "execution_count": null,
   "metadata": {
    "collapsed": false
   },
   "outputs": [],
   "source": [
    "x0_coordlist=np.array(x_list)[:,0]\n",
    "x1_coordlist=np.array(x_list)[:,1]\n",
    "z_coordlist=np.array(z_list)"
   ]
  },
  {
   "cell_type": "code",
   "execution_count": null,
   "metadata": {
    "collapsed": false
   },
   "outputs": [],
   "source": [
    "plt.figure()\n",
    "plt.contour(X0,X1,Z,50) # this plots level sets\n",
    "plt.plot(x0_coordlist,x1_coordlist,c=\"r\"); # here is the gradient path"
   ]
  },
  {
   "cell_type": "code",
   "execution_count": null,
   "metadata": {
    "collapsed": false
   },
   "outputs": [],
   "source": [
    "from mpl_toolkits.mplot3d import Axes3D\n",
    "from matplotlib import cm\n",
    "\n",
    "fig = plt.figure(figsize=(10,10))\n",
    "#ax = fig.add_subplot(1,1,1, projection='3d')\n",
    "#ax=gca(projection='3d')\n",
    "#fig = plt.figure()\n",
    "ax = fig.gca (projection='3d')\n",
    "ax.plot_wireframe(X0, X1, Z, rcount=10, ccount=10);\n",
    "ax.plot_surface(X0, X1, Z, alpha=0.25)\n",
    "ax.plot(x0_coordlist,x1_coordlist,z_coordlist,c=\"r\")\n",
    "ax.view_init(20, -80)"
   ]
  },
  {
   "cell_type": "markdown",
   "metadata": {
    "collapsed": false
   },
   "source": [
    "# Homework\n",
    "\n",
    "Suppose that you have data consisting of points in the $x$-$y$ plane\n",
    "\n",
    "$$(x_0,y_0),(x_1,y_1),\\ldots, (x_N,y_N)$$\n",
    "\n",
    "and you'd like to find a degree $d$ polynomial $p(x)=a_0 +a_1 x +a_2 x^2 + \\cdots + a_d x^d$ that best fits the data.\n",
    "\n",
    "One way to proceed is to think of the coefficients $a_0, \\ldots, a_d$ of the polynomial as variables and to minimize the function \n",
    "\n",
    "$$C(a_0, \\ldots, a_d)=\\sum_{i=0}^N (y_i - p(x_i))^2.$$\n",
    "\n",
    "Your problem: find the best degree $5$ polynomial that fits the data from the file datafile.npy."
   ]
  },
  {
   "cell_type": "code",
   "execution_count": null,
   "metadata": {
    "collapsed": false
   },
   "outputs": [],
   "source": [
    "# load the data:\n",
    "data=np.load('datafile.npy')\n",
    "fig = plt.figure()\n",
    "axes = fig.add_axes([0.1, 0.1, 0.9, 0.7]) \n",
    "axes.scatter(data[:,0],data[:,1],c=\"r\");"
   ]
  },
  {
   "cell_type": "code",
   "execution_count": 30,
   "metadata": {
    "collapsed": false
   },
   "outputs": [
    {
     "data": {
      "text/plain": [
       "array([[  0.        ,   5.85953121],\n",
       "       [  0.25      ,  22.88309989],\n",
       "       [  0.5       ,  30.38942188],\n",
       "       [  0.75      ,  13.21021289],\n",
       "       [  1.        ,   0.32720096],\n",
       "       [  1.25      ,   3.97301535],\n",
       "       [  1.5       ,  -3.90770545],\n",
       "       [  1.75      ,   5.3292406 ],\n",
       "       [  2.        ,  14.74408003],\n",
       "       [  2.25      ,   6.78220144],\n",
       "       [  2.5       ,   8.31606066],\n",
       "       [  2.75      ,   6.03781717],\n",
       "       [  3.        ,  11.00363366],\n",
       "       [  3.25      ,  -1.53629526],\n",
       "       [  3.5       ,  -0.58868123],\n",
       "       [  3.75      ,  -4.30375877],\n",
       "       [  4.        ,   9.41031136],\n",
       "       [  4.25      ,  18.14232431],\n",
       "       [  4.5       ,  54.81734958],\n",
       "       [  4.75      ,  92.26249149]])"
      ]
     },
     "execution_count": 30,
     "metadata": {},
     "output_type": "execute_result"
    }
   ],
   "source": [
    "data"
   ]
  },
  {
   "cell_type": "code",
   "execution_count": null,
   "metadata": {
    "collapsed": false
   },
   "outputs": [],
   "source": [
    "x=data[:,0]\n",
    "x"
   ]
  },
  {
   "cell_type": "code",
   "execution_count": 25,
   "metadata": {
    "collapsed": false
   },
   "outputs": [
    {
     "data": {
      "text/plain": [
       "array([   1.81832049,  -19.23102953,   72.13144891, -111.4977518 ,\n",
       "         55.7511087 ,   11.04552279])"
      ]
     },
     "execution_count": 25,
     "metadata": {},
     "output_type": "execute_result"
    }
   ],
   "source": [
    "z = np.polyfit(data[:,0],data[:,1],5)\n",
    "z"
   ]
  },
  {
   "cell_type": "code",
   "execution_count": 26,
   "metadata": {
    "collapsed": false
   },
   "outputs": [],
   "source": [
    "p = np.poly1d(z)"
   ]
  },
  {
   "cell_type": "code",
   "execution_count": 27,
   "metadata": {
    "collapsed": false
   },
   "outputs": [
    {
     "data": {
      "text/plain": [
       "array([  5.85953121,  22.88309989,  30.38942188,  13.21021289,\n",
       "         0.32720096,   3.97301535,  -3.90770545,   5.3292406 ,\n",
       "        14.74408003,   6.78220144,   8.31606066,   6.03781717,\n",
       "        11.00363366,  -1.53629526,  -0.58868123,  -4.30375877,\n",
       "         9.41031136,  18.14232431,  54.81734958,  92.26249149])"
      ]
     },
     "execution_count": 27,
     "metadata": {},
     "output_type": "execute_result"
    }
   ],
   "source": [
    "y = data[:,1]\n",
    "y"
   ]
  },
  {
   "cell_type": "code",
   "execution_count": 28,
   "metadata": {
    "collapsed": false
   },
   "outputs": [
    {
     "data": {
      "text/plain": [
       "[<matplotlib.lines.Line2D at 0x22a47431828>]"
      ]
     },
     "execution_count": 28,
     "metadata": {},
     "output_type": "execute_result"
    },
    {
     "data": {
      "image/png": "[encoded data removed]",
      "text/plain": [
       "<matplotlib.figure.Figure at 0x22a47f3bf60>"
      ]
     },
     "metadata": {},
     "output_type": "display_data"
    }
   ],
   "source": [
    "plt.plot(x, y)"
   ]
  },
  {
   "cell_type": "code",
   "execution_count": 29,
   "metadata": {
    "collapsed": false
   },
   "outputs": [
    {
     "ename": "TypeError",
     "evalue": "'numpy.ndarray' object is not callable",
     "output_type": "error",
     "traceback": [
      "\u001b[1;31m---------------------------------------------------------------------------\u001b[0m",
      "\u001b[1;31mTypeError\u001b[0m                                 Traceback (most recent call last)",
      "\u001b[1;32m<ipython-input-29-807f81ed7dbc>\u001b[0m in \u001b[0;36m<module>\u001b[1;34m()\u001b[0m\n\u001b[1;32m----> 1\u001b[1;33m \u001b[0mz\u001b[0m\u001b[1;33m(\u001b[0m\u001b[1;36m4\u001b[0m\u001b[1;33m)\u001b[0m\u001b[1;33m\u001b[0m\u001b[0m\n\u001b[0m",
      "\u001b[1;31mTypeError\u001b[0m: 'numpy.ndarray' object is not callable"
     ]
    }
   ],
   "source": [
    "z(4)"
   ]
  },
  {
   "cell_type": "code",
   "execution_count": null,
   "metadata": {
    "collapsed": false
   },
   "outputs": [],
   "source": [
    "z"
   ]
  },
  {
   "cell_type": "code",
   "execution_count": null,
   "metadata": {
    "collapsed": false
   },
   "outputs": [],
   "source": [
    "p = np.poly1d(z)"
   ]
  },
  {
   "cell_type": "code",
   "execution_count": null,
   "metadata": {
    "collapsed": false
   },
   "outputs": [],
   "source": [
    "p(0.5)"
   ]
  },
  {
   "cell_type": "code",
   "execution_count": null,
   "metadata": {
    "collapsed": false
   },
   "outputs": [],
   "source": [
    "p5 = np.poly1d(np.polyfit(x, y, 5))\n",
    "p5"
   ]
  },
  {
   "cell_type": "code",
   "execution_count": null,
   "metadata": {
    "collapsed": false
   },
   "outputs": [],
   "source": [
    "xp = np.linspace(-2, 6, 100)\n",
    "_ = plt.plot(x, y, '.', xp, p(xp), '-', xp, p5(xp), '--')\n",
    "plt.ylim(0,50)\n",
    "plt.show()"
   ]
  },
  {
   "cell_type": "code",
   "execution_count": null,
   "metadata": {
    "collapsed": false
   },
   "outputs": [],
   "source": [
    "x"
   ]
  },
  {
   "cell_type": "code",
   "execution_count": null,
   "metadata": {
    "collapsed": false
   },
   "outputs": [],
   "source": [
    "y"
   ]
  },
  {
   "cell_type": "code",
   "execution_count": null,
   "metadata": {
    "collapsed": false
   },
   "outputs": [],
   "source": [
    "data"
   ]
  },
  {
   "cell_type": "code",
   "execution_count": null,
   "metadata": {
    "collapsed": false
   },
   "outputs": [],
   "source": [
    "bestfit = np.poly1d(np.polyfit([1,2,3,4],[1,4,9,16],2))\n",
    "bestfit"
   ]
  },
  {
   "cell_type": "code",
   "execution_count": null,
   "metadata": {
    "collapsed": false
   },
   "outputs": [],
   "source": [
    "xp = np.linspace(-2, 6, 100)\n",
    "aaa = plt.plot([1,2,3,4],[1,4,9,16], '.', xp, bestfit(xp), '--')\n",
    "plt.ylim(0,50)\n",
    "plt.show()"
   ]
  },
  {
   "cell_type": "code",
   "execution_count": null,
   "metadata": {
    "collapsed": false
   },
   "outputs": [],
   "source": [
    "np.dot([11,3,1,0],[8,4,2,0])"
   ]
  },
  {
   "cell_type": "code",
   "execution_count": null,
   "metadata": {
    "collapsed": false
   },
   "outputs": [],
   "source": [
    "a=[1,2,3]\n",
    "a.reverse()\n",
    "print(a)"
   ]
  },
  {
   "cell_type": "code",
   "execution_count": null,
   "metadata": {
    "collapsed": true
   },
   "outputs": [],
   "source": []
  },
  {
   "cell_type": "code",
   "execution_count": null,
   "metadata": {
    "collapsed": false
   },
   "outputs": [],
   "source": [
    "for i in range(10):\n",
    "    print(i)"
   ]
  },
  {
   "cell_type": "code",
   "execution_count": null,
   "metadata": {
    "collapsed": true
   },
   "outputs": [],
   "source": []
  }
 ],
 "metadata": {
  "anaconda-cloud": {},
  "kernelspec": {
   "display_name": "Python 3",
   "language": "python",
   "name": "python3"
  },
  "language_info": {
   "codemirror_mode": {
    "name": "ipython",
    "version": 3
   },
   "file_extension": ".py",
   "mimetype": "text/x-python",
   "name": "python",
   "nbconvert_exporter": "python",
   "pygments_lexer": "ipython3",
   "version": "3.6.0"
  }
 },
 "nbformat": 4,
 "nbformat_minor": 0
}
